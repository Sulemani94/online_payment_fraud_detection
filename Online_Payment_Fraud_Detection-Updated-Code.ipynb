{
  "cells": [
    {
      "cell_type": "code",
      "source": [
        "from google.colab import drive\n",
        "drive.mount('/content/drive')"
      ],
      "metadata": {
        "colab": {
          "base_uri": "https://localhost:8080/"
        },
        "id": "tBNYo4bA8IWf",
        "outputId": "18c24b23-6de5-47e4-de74-6c9cbfda756f"
      },
      "id": "tBNYo4bA8IWf",
      "execution_count": null,
      "outputs": [
        {
          "output_type": "stream",
          "name": "stdout",
          "text": [
            "Mounted at /content/drive\n"
          ]
        }
      ]
    },
    {
      "cell_type": "code",
      "execution_count": null,
      "id": "fd0edad9",
      "metadata": {
        "id": "fd0edad9",
        "outputId": "f5441e42-91fc-4b38-9db2-8f5e7e84053b",
        "colab": {
          "base_uri": "https://localhost:8080/",
          "height": 17
        }
      },
      "outputs": [
        {
          "output_type": "display_data",
          "data": {
            "text/html": [
              "        <script type=\"text/javascript\">\n",
              "        window.PlotlyConfig = {MathJaxConfig: 'local'};\n",
              "        if (window.MathJax && window.MathJax.Hub && window.MathJax.Hub.Config) {window.MathJax.Hub.Config({SVG: {font: \"STIX-Web\"}});}\n",
              "        if (typeof require !== 'undefined') {\n",
              "        require.undef(\"plotly\");\n",
              "        requirejs.config({\n",
              "            paths: {\n",
              "                'plotly': ['https://cdn.plot.ly/plotly-2.24.1.min']\n",
              "            }\n",
              "        });\n",
              "        require(['plotly'], function(Plotly) {\n",
              "            window._Plotly = Plotly;\n",
              "        });\n",
              "        }\n",
              "        </script>\n",
              "        "
            ]
          },
          "metadata": {}
        }
      ],
      "source": [
        "import warnings, copy\n",
        "warnings.filterwarnings(\"ignore\")\n",
        "import numpy as np\n",
        "import pandas as pd\n",
        "import seaborn as sns\n",
        "import matplotlib.pyplot as plt\n",
        "import plotly.express as px\n",
        "import plotly.graph_objects as go\n",
        "import plotly.figure_factory as ff\n",
        "from tabulate import tabulate\n",
        "from plotly.subplots import make_subplots\n",
        "from plotly.offline import plot, iplot, init_notebook_mode\n",
        "from matplotlib.colors import LinearSegmentedColormap\n",
        "from scipy.stats import chi2_contingency\n",
        "from sklearn.preprocessing import StandardScaler, PolynomialFeatures\n",
        "import lightgbm as lgb\n",
        "from sklearn.ensemble import RandomForestClassifier, ExtraTreesClassifier, AdaBoostClassifier\n",
        "from sklearn.tree import DecisionTreeClassifier\n",
        "from sklearn.model_selection import train_test_split, RandomizedSearchCV, cross_val_score, StratifiedKFold\n",
        "from sklearn.metrics import f1_score, precision_score, recall_score, roc_auc_score\n",
        "from sklearn.metrics import confusion_matrix, roc_curve, classification_report\n",
        "init_notebook_mode(connected=True)\n",
        "import numpy as np\n",
        "import pandas as pd\n",
        "from sklearn.model_selection import train_test_split, GridSearchCV\n",
        "from sklearn.svm import SVC\n",
        "from sklearn.naive_bayes import GaussianNB\n",
        "from sklearn.linear_model import LogisticRegression\n",
        "from sklearn.neighbors import KNeighborsClassifier\n",
        "from sklearn.tree import DecisionTreeClassifier\n",
        "from sklearn.metrics import classification_report, accuracy_score\n",
        "from sklearn.preprocessing import StandardScaler\n",
        "from sklearn.metrics import confusion_matrix\n",
        "import matplotlib.pyplot as plt\n",
        "import seaborn as sns\n"
      ]
    },
    {
      "cell_type": "code",
      "execution_count": null,
      "id": "8f394e25",
      "metadata": {
        "id": "8f394e25",
        "outputId": "ecc5cc42-f0ac-4c9c-c307-e5c93d8a0080",
        "colab": {
          "base_uri": "https://localhost:8080/"
        }
      },
      "outputs": [
        {
          "output_type": "stream",
          "name": "stdout",
          "text": [
            "   step      type    amount     nameOrig  oldbalanceOrg  newbalanceOrig  \\\n",
            "0     1   PAYMENT   9839.64  C1231006815       170136.0       160296.36   \n",
            "1     1   PAYMENT   1864.28  C1666544295        21249.0        19384.72   \n",
            "2     1  TRANSFER    181.00  C1305486145          181.0            0.00   \n",
            "3     1  CASH_OUT    181.00   C840083671          181.0            0.00   \n",
            "4     1   PAYMENT  11668.14  C2048537720        41554.0        29885.86   \n",
            "\n",
            "      nameDest  oldbalanceDest  newbalanceDest  isFraud  isFlaggedFraud  \n",
            "0  M1979787155             0.0             0.0        0               0  \n",
            "1  M2044282225             0.0             0.0        0               0  \n",
            "2   C553264065             0.0             0.0        1               0  \n",
            "3    C38997010         21182.0             0.0        1               0  \n",
            "4  M1230701703             0.0             0.0        0               0  \n"
          ]
        }
      ],
      "source": [
        "# Load data\n",
        "onlinefraud = pd.read_csv(\"/content/fraud_detection_dataset.csv\")\n",
        "print(onlinefraud.head())"
      ]
    },
    {
      "cell_type": "markdown",
      "id": "0052209a",
      "metadata": {
        "id": "0052209a"
      },
      "source": [
        "## Analysis of Dataset"
      ]
    },
    {
      "cell_type": "code",
      "execution_count": null,
      "id": "0e5941c0",
      "metadata": {
        "id": "0e5941c0",
        "outputId": "53c4da13-0d92-4427-d62a-8de4a178e6f6",
        "colab": {
          "base_uri": "https://localhost:8080/",
          "height": 751
        }
      },
      "outputs": [
        {
          "output_type": "stream",
          "name": "stdout",
          "text": [
            "<class 'pandas.core.frame.DataFrame'>\n",
            "RangeIndex: 6362620 entries, 0 to 6362619\n",
            "Data columns (total 11 columns):\n",
            " #   Column          Dtype  \n",
            "---  ------          -----  \n",
            " 0   step            int64  \n",
            " 1   type            object \n",
            " 2   amount          float64\n",
            " 3   nameOrig        object \n",
            " 4   oldbalanceOrg   float64\n",
            " 5   newbalanceOrig  float64\n",
            " 6   nameDest        object \n",
            " 7   oldbalanceDest  float64\n",
            " 8   newbalanceDest  float64\n",
            " 9   isFraud         int64  \n",
            " 10  isFlaggedFraud  int64  \n",
            "dtypes: float64(5), int64(3), object(3)\n",
            "memory usage: 534.0+ MB\n"
          ]
        },
        {
          "output_type": "execute_result",
          "data": {
            "text/plain": [
              "step              0\n",
              "type              0\n",
              "amount            0\n",
              "nameOrig          0\n",
              "oldbalanceOrg     0\n",
              "newbalanceOrig    0\n",
              "nameDest          0\n",
              "oldbalanceDest    0\n",
              "newbalanceDest    0\n",
              "isFraud           0\n",
              "isFlaggedFraud    0\n",
              "dtype: int64"
            ],
            "text/html": [
              "<div>\n",
              "<style scoped>\n",
              "    .dataframe tbody tr th:only-of-type {\n",
              "        vertical-align: middle;\n",
              "    }\n",
              "\n",
              "    .dataframe tbody tr th {\n",
              "        vertical-align: top;\n",
              "    }\n",
              "\n",
              "    .dataframe thead th {\n",
              "        text-align: right;\n",
              "    }\n",
              "</style>\n",
              "<table border=\"1\" class=\"dataframe\">\n",
              "  <thead>\n",
              "    <tr style=\"text-align: right;\">\n",
              "      <th></th>\n",
              "      <th>0</th>\n",
              "    </tr>\n",
              "  </thead>\n",
              "  <tbody>\n",
              "    <tr>\n",
              "      <th>step</th>\n",
              "      <td>0</td>\n",
              "    </tr>\n",
              "    <tr>\n",
              "      <th>type</th>\n",
              "      <td>0</td>\n",
              "    </tr>\n",
              "    <tr>\n",
              "      <th>amount</th>\n",
              "      <td>0</td>\n",
              "    </tr>\n",
              "    <tr>\n",
              "      <th>nameOrig</th>\n",
              "      <td>0</td>\n",
              "    </tr>\n",
              "    <tr>\n",
              "      <th>oldbalanceOrg</th>\n",
              "      <td>0</td>\n",
              "    </tr>\n",
              "    <tr>\n",
              "      <th>newbalanceOrig</th>\n",
              "      <td>0</td>\n",
              "    </tr>\n",
              "    <tr>\n",
              "      <th>nameDest</th>\n",
              "      <td>0</td>\n",
              "    </tr>\n",
              "    <tr>\n",
              "      <th>oldbalanceDest</th>\n",
              "      <td>0</td>\n",
              "    </tr>\n",
              "    <tr>\n",
              "      <th>newbalanceDest</th>\n",
              "      <td>0</td>\n",
              "    </tr>\n",
              "    <tr>\n",
              "      <th>isFraud</th>\n",
              "      <td>0</td>\n",
              "    </tr>\n",
              "    <tr>\n",
              "      <th>isFlaggedFraud</th>\n",
              "      <td>0</td>\n",
              "    </tr>\n",
              "  </tbody>\n",
              "</table>\n",
              "</div><br><label><b>dtype:</b> int64</label>"
            ]
          },
          "metadata": {},
          "execution_count": 4
        }
      ],
      "source": [
        "onlinefraud.describe().round(3)\n",
        "onlinefraud.info()\n",
        "onlinefraud.isnull().sum()"
      ]
    },
    {
      "cell_type": "code",
      "execution_count": null,
      "id": "9d15e3ba",
      "metadata": {
        "id": "9d15e3ba",
        "outputId": "0c0ced3a-278a-45da-b95b-fb5e4edf55f6",
        "colab": {
          "base_uri": "https://localhost:8080/"
        }
      },
      "outputs": [
        {
          "output_type": "stream",
          "name": "stdout",
          "text": [
            "|    | columns        |   min value |   max value |\n",
            "|----+----------------+-------------+-------------|\n",
            "|  0 | amount         |           0 | 9.24455e+07 |\n",
            "|  1 | oldbalanceOrg  |           0 |  5.9585e+07 |\n",
            "|  2 | newbalanceOrig |           0 |  4.9585e+07 |\n",
            "|  3 | oldbalanceDest |           0 | 3.56016e+08 |\n",
            "|  4 | isFraud        |           0 |           1 |\n"
          ]
        }
      ],
      "source": [
        "fraud_min_max = [\n",
        "    ['amount', onlinefraud.amount.min(), onlinefraud.amount.max()],\n",
        "    ['oldbalanceOrg', onlinefraud.oldbalanceOrg.min(), onlinefraud.oldbalanceOrg.max()],\n",
        "    ['newbalanceOrig', onlinefraud.newbalanceOrig.min(), onlinefraud.newbalanceOrig.max()],\n",
        "    ['oldbalanceDest', onlinefraud.oldbalanceDest.min(), onlinefraud.oldbalanceDest.max()],\n",
        "    ['isFraud', onlinefraud.isFraud.min(), onlinefraud.isFraud.max()]\n",
        "]\n",
        "\n",
        "print(\n",
        "    tabulate(\n",
        "        fraud_min_max,\n",
        "        headers=['columns', 'min value', 'max value'],\n",
        "        showindex=True,\n",
        "        tablefmt='orgtbl',\n",
        "        numalign='right'\n",
        "    )\n",
        ")"
      ]
    },
    {
      "cell_type": "code",
      "execution_count": null,
      "id": "0a2e12bd",
      "metadata": {
        "id": "0a2e12bd"
      },
      "outputs": [],
      "source": [
        "# Downcast numerical columns with smaller dtype\n",
        "\n",
        "df = onlinefraud\n",
        "for col in onlinefraud.columns:\n",
        "    if df[col].dtype == 'float64':\n",
        "        df[col] = pd.to_numeric(df[col], downcast='float')\n",
        "    if df[col].dtype == 'int64':\n",
        "        df[col] = pd.to_numeric(df[col], downcast='unsigned')\n",
        "\n",
        "# Use category dtype for categorical column\n",
        "df['type'] = df['type'].astype('category')"
      ]
    },
    {
      "cell_type": "code",
      "execution_count": null,
      "id": "d5291e7a",
      "metadata": {
        "id": "d5291e7a",
        "outputId": "e8afc37b-1657-430c-8222-fbabe8f2b484",
        "colab": {
          "base_uri": "https://localhost:8080/"
        }
      },
      "outputs": [
        {
          "output_type": "execute_result",
          "data": {
            "text/plain": [
              "0"
            ]
          },
          "metadata": {},
          "execution_count": 7
        }
      ],
      "source": [
        "df.duplicated().sum()"
      ]
    },
    {
      "cell_type": "code",
      "execution_count": null,
      "id": "3b2e69cc",
      "metadata": {
        "id": "3b2e69cc",
        "outputId": "4ba52fdb-7518-4921-da17-7ce603c51df5",
        "colab": {
          "base_uri": "https://localhost:8080/",
          "height": 1000
        }
      },
      "outputs": [
        {
          "output_type": "display_data",
          "data": {
            "text/plain": [
              "<Figure size 1200x600 with 1 Axes>"
            ],
            "image/png": "[encoded data removed]"
          },
          "metadata": {}
        },
        {
          "output_type": "display_data",
          "data": {
            "text/plain": [
              "<Figure size 1200x600 with 1 Axes>"
            ],
            "image/png": "[encoded data removed]"
          },
          "metadata": {}
        },
        {
          "output_type": "display_data",
          "data": {
            "text/plain": [
              "<Figure size 1200x600 with 1 Axes>"
            ],
            "image/png": "[encoded data removed]"
          },
          "metadata": {}
        },
        {
          "output_type": "display_data",
          "data": {
            "text/plain": [
              "<Figure size 1200x600 with 1 Axes>"
            ],
            "image/png": "[encoded data removed]"
          },
          "metadata": {}
        },
        {
          "output_type": "display_data",
          "data": {
            "text/plain": [
              "<Figure size 1200x600 with 1 Axes>"
            ],
            "image/png": "[encoded data removed]"
          },
          "metadata": {}
        },
        {
          "output_type": "display_data",
          "data": {
            "text/plain": [
              "<Figure size 1200x600 with 1 Axes>"
            ],
            "image/png": "[encoded data removed]"
          },
          "metadata": {}
        }
      ],
      "source": [
        "%matplotlib inline\n",
        "\n",
        "feature=['step','amount','oldbalanceOrg','newbalanceOrig','oldbalanceDest','newbalanceDest']\n",
        "\n",
        "for i in feature:\n",
        "    plt.xlabel(i)\n",
        "    df[i].plot(kind='hist', bins=5, figsize=(12,6), facecolor='goldenrod',edgecolor='gold')\n",
        "    plt.show()"
      ]
    },
    {
      "cell_type": "code",
      "execution_count": null,
      "id": "b1e243d1",
      "metadata": {
        "id": "b1e243d1",
        "outputId": "df388808-e76e-4ce4-ca18-3e6ff84d8e6e",
        "colab": {
          "base_uri": "https://localhost:8080/"
        }
      },
      "outputs": [
        {
          "output_type": "stream",
          "name": "stdout",
          "text": [
            "amount\n",
            "4501.3\n",
            "365423.30900000007\n",
            "\n",
            "\n",
            "oldbalanceOrg\n",
            "0.0\n",
            "1822508.289000007\n",
            "\n",
            "\n",
            "newbalanceOrig\n",
            "0.0\n",
            "1970344.7930000005\n",
            "\n",
            "\n",
            "oldbalanceDest\n",
            "0.0\n",
            "2914266.6690000016\n",
            "\n",
            "\n",
            "newbalanceDest\n",
            "0.0\n",
            "3194869.671000002\n",
            "\n",
            "\n"
          ]
        }
      ],
      "source": [
        "feature=['amount','oldbalanceOrg','newbalanceOrig','oldbalanceDest','newbalanceDest']\n",
        "\n",
        "for i in feature:\n",
        "    print(i)\n",
        "    print(df[i].quantile(0.10))\n",
        "    print(df[i].quantile(0.90))\n",
        "\n",
        "    print('\\n')"
      ]
    },
    {
      "cell_type": "code",
      "execution_count": null,
      "id": "a00caac7",
      "metadata": {
        "id": "a00caac7",
        "outputId": "49814bad-65f1-4116-c077-45befef2c6b5",
        "colab": {
          "base_uri": "https://localhost:8080/"
        }
      },
      "outputs": [
        {
          "output_type": "stream",
          "name": "stdout",
          "text": [
            "Feature:  amount\n",
            "Skewness value:  0.8046460444556197\n",
            "\n",
            "\n",
            "Feature:  oldbalanceOrg\n",
            "Skewness value:  2.249361299814406\n",
            "\n",
            "\n",
            "Feature:  newbalanceOrig\n",
            "Skewness value:  2.2262847493216786\n",
            "\n",
            "\n",
            "Feature:  oldbalanceDest\n",
            "Skewness value:  1.4173123924260833\n",
            "\n",
            "\n",
            "Feature:  newbalanceDest\n",
            "Skewness value:  1.3593024983493058\n",
            "\n",
            "\n"
          ]
        }
      ],
      "source": [
        "feature=['amount','oldbalanceOrg','newbalanceOrig','oldbalanceDest','newbalanceDest']\n",
        "\n",
        "for i in feature:\n",
        "    lower = df[i].quantile(0.10)\n",
        "    upper = df[i].quantile(0.90)\n",
        "    df[i] = np.where(df[i] <lower, lower,df[i])\n",
        "    df[i] = np.where(df[i] >upper, upper,df[i])\n",
        "    print('Feature: ',i)\n",
        "    print('Skewness value: ',df[i].skew())\n",
        "    print('\\n')"
      ]
    },
    {
      "cell_type": "code",
      "execution_count": null,
      "id": "27bb117a",
      "metadata": {
        "id": "27bb117a",
        "outputId": "23686856-0ca8-484a-ff5d-bde73d54e59f",
        "colab": {
          "base_uri": "https://localhost:8080/",
          "height": 1000
        }
      },
      "outputs": [
        {
          "output_type": "display_data",
          "data": {
            "text/plain": [
              "<Figure size 1200x600 with 1 Axes>"
            ],
            "image/png": "[encoded data removed]"
          },
          "metadata": {}
        },
        {
          "output_type": "display_data",
          "data": {
            "text/plain": [
              "<Figure size 1200x600 with 1 Axes>"
            ],
            "image/png": "[encoded data removed]"
          },
          "metadata": {}
        },
        {
          "output_type": "display_data",
          "data": {
            "text/plain": [
              "<Figure size 1200x600 with 1 Axes>"
            ],
            "image/png": "[encoded data removed]"
          },
          "metadata": {}
        },
        {
          "output_type": "display_data",
          "data": {
            "text/plain": [
              "<Figure size 1200x600 with 1 Axes>"
            ],
            "image/png": "[encoded data removed]"
          },
          "metadata": {}
        },
        {
          "output_type": "display_data",
          "data": {
            "text/plain": [
              "<Figure size 1200x600 with 1 Axes>"
            ],
            "image/png": "[encoded data removed]"
          },
          "metadata": {}
        }
      ],
      "source": [
        "feature=['amount','oldbalanceOrg','newbalanceOrig','oldbalanceDest','newbalanceDest']\n",
        "\n",
        "for i in feature:\n",
        "    plt.xlabel(i)\n",
        "    df[i].plot(kind='hist', bins=5, figsize=(12,6), facecolor='goldenrod',edgecolor='gold')\n",
        "    plt.show()"
      ]
    },
    {
      "cell_type": "markdown",
      "id": "d9d26f64",
      "metadata": {
        "id": "d9d26f64"
      },
      "source": [
        "We have a maximum set of distribution between 150 to 400 of step After outlier treatment\n",
        "Amount ranges between 0-35 lakhs with more values ranging between 0-75,000. We'll analyze further in the upcoming sections.\n",
        "OldbalanceOrg ranges around 0-18 lakh with more frequency around 0-375,000\n",
        "NewbalanceOrig ranges around 0-19 lakh with more frequency around 0-375,000\n",
        "OldbalanceDest ranges around 0-29 lakh with common values around 0-625,000\n",
        "NewbalanceDest ranges around 0-35 lakh with common values around 0-625,000"
      ]
    },
    {
      "cell_type": "markdown",
      "id": "43773c47",
      "metadata": {
        "id": "43773c47"
      },
      "source": [
        "## Type"
      ]
    },
    {
      "cell_type": "code",
      "execution_count": null,
      "id": "e704497e",
      "metadata": {
        "id": "e704497e",
        "outputId": "d199f910-46f9-404c-c795-40d55f8f923b",
        "colab": {
          "base_uri": "https://localhost:8080/",
          "height": 458
        }
      },
      "outputs": [
        {
          "output_type": "execute_result",
          "data": {
            "text/plain": [
              "0           PAYMENT\n",
              "1           PAYMENT\n",
              "2          TRANSFER\n",
              "3          CASH_OUT\n",
              "4           PAYMENT\n",
              "             ...   \n",
              "6362615    CASH_OUT\n",
              "6362616    TRANSFER\n",
              "6362617    CASH_OUT\n",
              "6362618    TRANSFER\n",
              "6362619    CASH_OUT\n",
              "Name: type, Length: 6362620, dtype: category\n",
              "Categories (5, object): ['CASH_IN', 'CASH_OUT', 'DEBIT', 'PAYMENT', 'TRANSFER']"
            ],
            "text/html": [
              "<div>\n",
              "<style scoped>\n",
              "    .dataframe tbody tr th:only-of-type {\n",
              "        vertical-align: middle;\n",
              "    }\n",
              "\n",
              "    .dataframe tbody tr th {\n",
              "        vertical-align: top;\n",
              "    }\n",
              "\n",
              "    .dataframe thead th {\n",
              "        text-align: right;\n",
              "    }\n",
              "</style>\n",
              "<table border=\"1\" class=\"dataframe\">\n",
              "  <thead>\n",
              "    <tr style=\"text-align: right;\">\n",
              "      <th></th>\n",
              "      <th>type</th>\n",
              "    </tr>\n",
              "  </thead>\n",
              "  <tbody>\n",
              "    <tr>\n",
              "      <th>0</th>\n",
              "      <td>PAYMENT</td>\n",
              "    </tr>\n",
              "    <tr>\n",
              "      <th>1</th>\n",
              "      <td>PAYMENT</td>\n",
              "    </tr>\n",
              "    <tr>\n",
              "      <th>2</th>\n",
              "      <td>TRANSFER</td>\n",
              "    </tr>\n",
              "    <tr>\n",
              "      <th>3</th>\n",
              "      <td>CASH_OUT</td>\n",
              "    </tr>\n",
              "    <tr>\n",
              "      <th>4</th>\n",
              "      <td>PAYMENT</td>\n",
              "    </tr>\n",
              "    <tr>\n",
              "      <th>...</th>\n",
              "      <td>...</td>\n",
              "    </tr>\n",
              "    <tr>\n",
              "      <th>6362615</th>\n",
              "      <td>CASH_OUT</td>\n",
              "    </tr>\n",
              "    <tr>\n",
              "      <th>6362616</th>\n",
              "      <td>TRANSFER</td>\n",
              "    </tr>\n",
              "    <tr>\n",
              "      <th>6362617</th>\n",
              "      <td>CASH_OUT</td>\n",
              "    </tr>\n",
              "    <tr>\n",
              "      <th>6362618</th>\n",
              "      <td>TRANSFER</td>\n",
              "    </tr>\n",
              "    <tr>\n",
              "      <th>6362619</th>\n",
              "      <td>CASH_OUT</td>\n",
              "    </tr>\n",
              "  </tbody>\n",
              "</table>\n",
              "<p>6362620 rows × 1 columns</p>\n",
              "</div><br><label><b>dtype:</b> category</label>"
            ]
          },
          "metadata": {},
          "execution_count": 12
        }
      ],
      "source": [
        "df.type"
      ]
    },
    {
      "cell_type": "code",
      "execution_count": null,
      "id": "c900b1e0",
      "metadata": {
        "id": "c900b1e0",
        "outputId": "9abf0fec-494f-40c7-ab69-55224aeea661",
        "colab": {
          "base_uri": "https://localhost:8080/"
        }
      },
      "outputs": [
        {
          "output_type": "execute_result",
          "data": {
            "text/plain": [
              "['PAYMENT', 'TRANSFER', 'CASH_OUT', 'DEBIT', 'CASH_IN']\n",
              "Categories (5, object): ['CASH_IN', 'CASH_OUT', 'DEBIT', 'PAYMENT', 'TRANSFER']"
            ]
          },
          "metadata": {},
          "execution_count": 13
        }
      ],
      "source": [
        "df.type.unique()"
      ]
    },
    {
      "cell_type": "code",
      "execution_count": null,
      "id": "62587456",
      "metadata": {
        "id": "62587456",
        "outputId": "490897df-95eb-49aa-8137-2c57ade47c42",
        "colab": {
          "base_uri": "https://localhost:8080/",
          "height": 272
        }
      },
      "outputs": [
        {
          "output_type": "execute_result",
          "data": {
            "text/plain": [
              "type\n",
              "CASH_OUT    2237500\n",
              "PAYMENT     2151495\n",
              "CASH_IN     1399284\n",
              "TRANSFER     532909\n",
              "DEBIT         41432\n",
              "Name: count, dtype: int64"
            ],
            "text/html": [
              "<div>\n",
              "<style scoped>\n",
              "    .dataframe tbody tr th:only-of-type {\n",
              "        vertical-align: middle;\n",
              "    }\n",
              "\n",
              "    .dataframe tbody tr th {\n",
              "        vertical-align: top;\n",
              "    }\n",
              "\n",
              "    .dataframe thead th {\n",
              "        text-align: right;\n",
              "    }\n",
              "</style>\n",
              "<table border=\"1\" class=\"dataframe\">\n",
              "  <thead>\n",
              "    <tr style=\"text-align: right;\">\n",
              "      <th></th>\n",
              "      <th>count</th>\n",
              "    </tr>\n",
              "    <tr>\n",
              "      <th>type</th>\n",
              "      <th></th>\n",
              "    </tr>\n",
              "  </thead>\n",
              "  <tbody>\n",
              "    <tr>\n",
              "      <th>CASH_OUT</th>\n",
              "      <td>2237500</td>\n",
              "    </tr>\n",
              "    <tr>\n",
              "      <th>PAYMENT</th>\n",
              "      <td>2151495</td>\n",
              "    </tr>\n",
              "    <tr>\n",
              "      <th>CASH_IN</th>\n",
              "      <td>1399284</td>\n",
              "    </tr>\n",
              "    <tr>\n",
              "      <th>TRANSFER</th>\n",
              "      <td>532909</td>\n",
              "    </tr>\n",
              "    <tr>\n",
              "      <th>DEBIT</th>\n",
              "      <td>41432</td>\n",
              "    </tr>\n",
              "  </tbody>\n",
              "</table>\n",
              "</div><br><label><b>dtype:</b> int64</label>"
            ]
          },
          "metadata": {},
          "execution_count": 14
        }
      ],
      "source": [
        "payment = df.type.value_counts()\n",
        "payment"
      ]
    },
    {
      "cell_type": "code",
      "execution_count": null,
      "id": "89a3b0b7",
      "metadata": {
        "id": "89a3b0b7",
        "outputId": "1ff9ba9d-36a0-44ea-e9e8-aee82074f699",
        "colab": {
          "base_uri": "https://localhost:8080/",
          "height": 466
        }
      },
      "outputs": [
        {
          "output_type": "execute_result",
          "data": {
            "text/plain": [
              "<Axes: ylabel='type'>"
            ]
          },
          "metadata": {},
          "execution_count": 15
        },
        {
          "output_type": "display_data",
          "data": {
            "text/plain": [
              "<Figure size 640x480 with 1 Axes>"
            ],
            "image/png": "[encoded data removed]"
          },
          "metadata": {}
        }
      ],
      "source": [
        "payment.plot(kind='barh')"
      ]
    },
    {
      "cell_type": "code",
      "execution_count": null,
      "id": "8cec1eca",
      "metadata": {
        "id": "8cec1eca",
        "outputId": "caf8c85d-479a-412f-908b-4d9ed70127e7",
        "colab": {
          "base_uri": "https://localhost:8080/",
          "height": 483
        }
      },
      "outputs": [
        {
          "output_type": "execute_result",
          "data": {
            "text/plain": [
              "<Axes: xlabel='type', ylabel='count'>"
            ]
          },
          "metadata": {},
          "execution_count": 16
        },
        {
          "output_type": "display_data",
          "data": {
            "text/plain": [
              "<Figure size 640x480 with 1 Axes>"
            ],
            "image/png": "[encoded data removed]"
          },
          "metadata": {}
        }
      ],
      "source": [
        "sns.countplot(x='type', data=df)"
      ]
    },
    {
      "cell_type": "markdown",
      "id": "dcfcfa12",
      "metadata": {
        "id": "dcfcfa12"
      },
      "source": [
        "More money has been transacted mostly through cash out followed by payment type.\n"
      ]
    },
    {
      "cell_type": "markdown",
      "id": "cc999395",
      "metadata": {
        "id": "cc999395"
      },
      "source": [
        "## Relationship with type column \"isFraud\""
      ]
    },
    {
      "cell_type": "code",
      "execution_count": null,
      "id": "a64cb82a",
      "metadata": {
        "id": "a64cb82a",
        "outputId": "f795599c-2969-4d6c-abcf-1f246e839cb5",
        "colab": {
          "base_uri": "https://localhost:8080/",
          "height": 238
        }
      },
      "outputs": [
        {
          "output_type": "execute_result",
          "data": {
            "text/plain": [
              "isFraud         0     1\n",
              "type                   \n",
              "CASH_IN   1399284     0\n",
              "CASH_OUT  2233384  4116\n",
              "DEBIT       41432     0\n",
              "PAYMENT   2151495     0\n",
              "TRANSFER   528812  4097"
            ],
            "text/html": [
              "\n",
              "  <div id=\"df-7b2e4fe2-8063-4c96-bde3-4548c694f835\" class=\"colab-df-container\">\n",
              "    <div>\n",
              "<style scoped>\n",
              "    .dataframe tbody tr th:only-of-type {\n",
              "        vertical-align: middle;\n",
              "    }\n",
              "\n",
              "    .dataframe tbody tr th {\n",
              "        vertical-align: top;\n",
              "    }\n",
              "\n",
              "    .dataframe thead th {\n",
              "        text-align: right;\n",
              "    }\n",
              "</style>\n",
              "<table border=\"1\" class=\"dataframe\">\n",
              "  <thead>\n",
              "    <tr style=\"text-align: right;\">\n",
              "      <th>isFraud</th>\n",
              "      <th>0</th>\n",
              "      <th>1</th>\n",
              "    </tr>\n",
              "    <tr>\n",
              "      <th>type</th>\n",
              "      <th></th>\n",
              "      <th></th>\n",
              "    </tr>\n",
              "  </thead>\n",
              "  <tbody>\n",
              "    <tr>\n",
              "      <th>CASH_IN</th>\n",
              "      <td>1399284</td>\n",
              "      <td>0</td>\n",
              "    </tr>\n",
              "    <tr>\n",
              "      <th>CASH_OUT</th>\n",
              "      <td>2233384</td>\n",
              "      <td>4116</td>\n",
              "    </tr>\n",
              "    <tr>\n",
              "      <th>DEBIT</th>\n",
              "      <td>41432</td>\n",
              "      <td>0</td>\n",
              "    </tr>\n",
              "    <tr>\n",
              "      <th>PAYMENT</th>\n",
              "      <td>2151495</td>\n",
              "      <td>0</td>\n",
              "    </tr>\n",
              "    <tr>\n",
              "      <th>TRANSFER</th>\n",
              "      <td>528812</td>\n",
              "      <td>4097</td>\n",
              "    </tr>\n",
              "  </tbody>\n",
              "</table>\n",
              "</div>\n",
              "    <div class=\"colab-df-buttons\">\n",
              "\n",
              "  <div class=\"colab-df-container\">\n",
              "    <button class=\"colab-df-convert\" onclick=\"convertToInteractive('df-7b2e4fe2-8063-4c96-bde3-4548c694f835')\"\n",
              "            title=\"Convert this dataframe to an interactive table.\"\n",
              "            style=\"display:none;\">\n",
              "\n",
              "  <svg xmlns=\"http://www.w3.org/2000/svg\" height=\"24px\" viewBox=\"0 -960 960 960\">\n",
              "    <path d=\"M120-120v-720h720v720H120Zm60-500h600v-160H180v160Zm220 220h160v-160H400v160Zm0 220h160v-160H400v160ZM180-400h160v-160H180v160Zm440 0h160v-160H620v160ZM180-180h160v-160H180v160Zm440 0h160v-160H620v160Z\"/>\n",
              "  </svg>\n",
              "    </button>\n",
              "\n",
              "  <style>\n",
              "    .colab-df-container {\n",
              "      display:flex;\n",
              "      gap: 12px;\n",
              "    }\n",
              "\n",
              "    .colab-df-convert {\n",
              "      background-color: #E8F0FE;\n",
              "      border: none;\n",
              "      border-radius: 50%;\n",
              "      cursor: pointer;\n",
              "      display: none;\n",
              "      fill: #1967D2;\n",
              "      height: 32px;\n",
              "      padding: 0 0 0 0;\n",
              "      width: 32px;\n",
              "    }\n",
              "\n",
              "    .colab-df-convert:hover {\n",
              "      background-color: #E2EBFA;\n",
              "      box-shadow: 0px 1px 2px rgba(60, 64, 67, 0.3), 0px 1px 3px 1px rgba(60, 64, 67, 0.15);\n",
              "      fill: #174EA6;\n",
              "    }\n",
              "\n",
              "    .colab-df-buttons div {\n",
              "      margin-bottom: 4px;\n",
              "    }\n",
              "\n",
              "    [theme=dark] .colab-df-convert {\n",
              "      background-color: #3B4455;\n",
              "      fill: #D2E3FC;\n",
              "    }\n",
              "\n",
              "    [theme=dark] .colab-df-convert:hover {\n",
              "      background-color: #434B5C;\n",
              "      box-shadow: 0px 1px 3px 1px rgba(0, 0, 0, 0.15);\n",
              "      filter: drop-shadow(0px 1px 2px rgba(0, 0, 0, 0.3));\n",
              "      fill: #FFFFFF;\n",
              "    }\n",
              "  </style>\n",
              "\n",
              "    <script>\n",
              "      const buttonEl =\n",
              "        document.querySelector('#df-7b2e4fe2-8063-4c96-bde3-4548c694f835 button.colab-df-convert');\n",
              "      buttonEl.style.display =\n",
              "        google.colab.kernel.accessAllowed ? 'block' : 'none';\n",
              "\n",
              "      async function convertToInteractive(key) {\n",
              "        const element = document.querySelector('#df-7b2e4fe2-8063-4c96-bde3-4548c694f835');\n",
              "        const dataTable =\n",
              "          await google.colab.kernel.invokeFunction('convertToInteractive',\n",
              "                                                    [key], {});\n",
              "        if (!dataTable) return;\n",
              "\n",
              "        const docLinkHtml = 'Like what you see? Visit the ' +\n",
              "          '<a target=\"_blank\" href=https://colab.research.google.com/notebooks/data_table.ipynb>data table notebook</a>'\n",
              "          + ' to learn more about interactive tables.';\n",
              "        element.innerHTML = '';\n",
              "        dataTable['output_type'] = 'display_data';\n",
              "        await google.colab.output.renderOutput(dataTable, element);\n",
              "        const docLink = document.createElement('div');\n",
              "        docLink.innerHTML = docLinkHtml;\n",
              "        element.appendChild(docLink);\n",
              "      }\n",
              "    </script>\n",
              "  </div>\n",
              "\n",
              "\n",
              "<div id=\"df-aae5af03-a599-4e7d-ab83-b0749efb7878\">\n",
              "  <button class=\"colab-df-quickchart\" onclick=\"quickchart('df-aae5af03-a599-4e7d-ab83-b0749efb7878')\"\n",
              "            title=\"Suggest charts\"\n",
              "            style=\"display:none;\">\n",
              "\n",
              "<svg xmlns=\"http://www.w3.org/2000/svg\" height=\"24px\"viewBox=\"0 0 24 24\"\n",
              "     width=\"24px\">\n",
              "    <g>\n",
              "        <path d=\"M19 3H5c-1.1 0-2 .9-2 2v14c0 1.1.9 2 2 2h14c1.1 0 2-.9 2-2V5c0-1.1-.9-2-2-2zM9 17H7v-7h2v7zm4 0h-2V7h2v10zm4 0h-2v-4h2v4z\"/>\n",
              "    </g>\n",
              "</svg>\n",
              "  </button>\n",
              "\n",
              "<style>\n",
              "  .colab-df-quickchart {\n",
              "      --bg-color: #E8F0FE;\n",
              "      --fill-color: #1967D2;\n",
              "      --hover-bg-color: #E2EBFA;\n",
              "      --hover-fill-color: #174EA6;\n",
              "      --disabled-fill-color: #AAA;\n",
              "      --disabled-bg-color: #DDD;\n",
              "  }\n",
              "\n",
              "  [theme=dark] .colab-df-quickchart {\n",
              "      --bg-color: #3B4455;\n",
              "      --fill-color: #D2E3FC;\n",
              "      --hover-bg-color: #434B5C;\n",
              "      --hover-fill-color: #FFFFFF;\n",
              "      --disabled-bg-color: #3B4455;\n",
              "      --disabled-fill-color: #666;\n",
              "  }\n",
              "\n",
              "  .colab-df-quickchart {\n",
              "    background-color: var(--bg-color);\n",
              "    border: none;\n",
              "    border-radius: 50%;\n",
              "    cursor: pointer;\n",
              "    display: none;\n",
              "    fill: var(--fill-color);\n",
              "    height: 32px;\n",
              "    padding: 0;\n",
              "    width: 32px;\n",
              "  }\n",
              "\n",
              "  .colab-df-quickchart:hover {\n",
              "    background-color: var(--hover-bg-color);\n",
              "    box-shadow: 0 1px 2px rgba(60, 64, 67, 0.3), 0 1px 3px 1px rgba(60, 64, 67, 0.15);\n",
              "    fill: var(--button-hover-fill-color);\n",
              "  }\n",
              "\n",
              "  .colab-df-quickchart-complete:disabled,\n",
              "  .colab-df-quickchart-complete:disabled:hover {\n",
              "    background-color: var(--disabled-bg-color);\n",
              "    fill: var(--disabled-fill-color);\n",
              "    box-shadow: none;\n",
              "  }\n",
              "\n",
              "  .colab-df-spinner {\n",
              "    border: 2px solid var(--fill-color);\n",
              "    border-color: transparent;\n",
              "    border-bottom-color: var(--fill-color);\n",
              "    animation:\n",
              "      spin 1s steps(1) infinite;\n",
              "  }\n",
              "\n",
              "  @keyframes spin {\n",
              "    0% {\n",
              "      border-color: transparent;\n",
              "      border-bottom-color: var(--fill-color);\n",
              "      border-left-color: var(--fill-color);\n",
              "    }\n",
              "    20% {\n",
              "      border-color: transparent;\n",
              "      border-left-color: var(--fill-color);\n",
              "      border-top-color: var(--fill-color);\n",
              "    }\n",
              "    30% {\n",
              "      border-color: transparent;\n",
              "      border-left-color: var(--fill-color);\n",
              "      border-top-color: var(--fill-color);\n",
              "      border-right-color: var(--fill-color);\n",
              "    }\n",
              "    40% {\n",
              "      border-color: transparent;\n",
              "      border-right-color: var(--fill-color);\n",
              "      border-top-color: var(--fill-color);\n",
              "    }\n",
              "    60% {\n",
              "      border-color: transparent;\n",
              "      border-right-color: var(--fill-color);\n",
              "    }\n",
              "    80% {\n",
              "      border-color: transparent;\n",
              "      border-right-color: var(--fill-color);\n",
              "      border-bottom-color: var(--fill-color);\n",
              "    }\n",
              "    90% {\n",
              "      border-color: transparent;\n",
              "      border-bottom-color: var(--fill-color);\n",
              "    }\n",
              "  }\n",
              "</style>\n",
              "\n",
              "  <script>\n",
              "    async function quickchart(key) {\n",
              "      const quickchartButtonEl =\n",
              "        document.querySelector('#' + key + ' button');\n",
              "      quickchartButtonEl.disabled = true;  // To prevent multiple clicks.\n",
              "      quickchartButtonEl.classList.add('colab-df-spinner');\n",
              "      try {\n",
              "        const charts = await google.colab.kernel.invokeFunction(\n",
              "            'suggestCharts', [key], {});\n",
              "      } catch (error) {\n",
              "        console.error('Error during call to suggestCharts:', error);\n",
              "      }\n",
              "      quickchartButtonEl.classList.remove('colab-df-spinner');\n",
              "      quickchartButtonEl.classList.add('colab-df-quickchart-complete');\n",
              "    }\n",
              "    (() => {\n",
              "      let quickchartButtonEl =\n",
              "        document.querySelector('#df-aae5af03-a599-4e7d-ab83-b0749efb7878 button');\n",
              "      quickchartButtonEl.style.display =\n",
              "        google.colab.kernel.accessAllowed ? 'block' : 'none';\n",
              "    })();\n",
              "  </script>\n",
              "</div>\n",
              "\n",
              "  <div id=\"id_32c08272-27c5-4b2d-9d37-830076eefd21\">\n",
              "    <style>\n",
              "      .colab-df-generate {\n",
              "        background-color: #E8F0FE;\n",
              "        border: none;\n",
              "        border-radius: 50%;\n",
              "        cursor: pointer;\n",
              "        display: none;\n",
              "        fill: #1967D2;\n",
              "        height: 32px;\n",
              "        padding: 0 0 0 0;\n",
              "        width: 32px;\n",
              "      }\n",
              "\n",
              "      .colab-df-generate:hover {\n",
              "        background-color: #E2EBFA;\n",
              "        box-shadow: 0px 1px 2px rgba(60, 64, 67, 0.3), 0px 1px 3px 1px rgba(60, 64, 67, 0.15);\n",
              "        fill: #174EA6;\n",
              "      }\n",
              "\n",
              "      [theme=dark] .colab-df-generate {\n",
              "        background-color: #3B4455;\n",
              "        fill: #D2E3FC;\n",
              "      }\n",
              "\n",
              "      [theme=dark] .colab-df-generate:hover {\n",
              "        background-color: #434B5C;\n",
              "        box-shadow: 0px 1px 3px 1px rgba(0, 0, 0, 0.15);\n",
              "        filter: drop-shadow(0px 1px 2px rgba(0, 0, 0, 0.3));\n",
              "        fill: #FFFFFF;\n",
              "      }\n",
              "    </style>\n",
              "    <button class=\"colab-df-generate\" onclick=\"generateWithVariable('CrosstabResult')\"\n",
              "            title=\"Generate code using this dataframe.\"\n",
              "            style=\"display:none;\">\n",
              "\n",
              "  <svg xmlns=\"http://www.w3.org/2000/svg\" height=\"24px\"viewBox=\"0 0 24 24\"\n",
              "       width=\"24px\">\n",
              "    <path d=\"M7,19H8.4L18.45,9,17,7.55,7,17.6ZM5,21V16.75L18.45,3.32a2,2,0,0,1,2.83,0l1.4,1.43a1.91,1.91,0,0,1,.58,1.4,1.91,1.91,0,0,1-.58,1.4L9.25,21ZM18.45,9,17,7.55Zm-12,3A5.31,5.31,0,0,0,4.9,8.1,5.31,5.31,0,0,0,1,6.5,5.31,5.31,0,0,0,4.9,4.9,5.31,5.31,0,0,0,6.5,1,5.31,5.31,0,0,0,8.1,4.9,5.31,5.31,0,0,0,12,6.5,5.46,5.46,0,0,0,6.5,12Z\"/>\n",
              "  </svg>\n",
              "    </button>\n",
              "    <script>\n",
              "      (() => {\n",
              "      const buttonEl =\n",
              "        document.querySelector('#id_32c08272-27c5-4b2d-9d37-830076eefd21 button.colab-df-generate');\n",
              "      buttonEl.style.display =\n",
              "        google.colab.kernel.accessAllowed ? 'block' : 'none';\n",
              "\n",
              "      buttonEl.onclick = () => {\n",
              "        google.colab.notebook.generateWithVariable('CrosstabResult');\n",
              "      }\n",
              "      })();\n",
              "    </script>\n",
              "  </div>\n",
              "\n",
              "    </div>\n",
              "  </div>\n"
            ],
            "application/vnd.google.colaboratory.intrinsic+json": {
              "type": "dataframe",
              "variable_name": "CrosstabResult",
              "summary": "{\n  \"name\": \"CrosstabResult\",\n  \"rows\": 5,\n  \"fields\": [\n    {\n      \"column\": \"type\",\n      \"properties\": {\n        \"dtype\": \"category\",\n        \"num_unique_values\": 5,\n        \"samples\": [\n          \"CASH_OUT\",\n          \"TRANSFER\",\n          \"DEBIT\"\n        ],\n        \"semantic_type\": \"\",\n        \"description\": \"\"\n      }\n    },\n    {\n      \"column\": 0,\n      \"properties\": {\n        \"dtype\": \"number\",\n        \"std\": 972187,\n        \"min\": 41432,\n        \"max\": 2233384,\n        \"num_unique_values\": 5,\n        \"samples\": [\n          2233384,\n          528812,\n          41432\n        ],\n        \"semantic_type\": \"\",\n        \"description\": \"\"\n      }\n    },\n    {\n      \"column\": 1,\n      \"properties\": {\n        \"dtype\": \"number\",\n        \"std\": 2249,\n        \"min\": 0,\n        \"max\": 4116,\n        \"num_unique_values\": 3,\n        \"samples\": [\n          0,\n          4116,\n          4097\n        ],\n        \"semantic_type\": \"\",\n        \"description\": \"\"\n      }\n    }\n  ]\n}"
            }
          },
          "metadata": {},
          "execution_count": 17
        }
      ],
      "source": [
        "CrosstabResult=pd.crosstab(index=df.type,columns=df.isFraud)\n",
        "CrosstabResult"
      ]
    },
    {
      "cell_type": "code",
      "execution_count": null,
      "id": "454e168e",
      "metadata": {
        "id": "454e168e",
        "outputId": "de21f771-6523-4a0f-83f6-05ccb3aa156b",
        "colab": {
          "base_uri": "https://localhost:8080/",
          "height": 272
        }
      },
      "outputs": [
        {
          "output_type": "execute_result",
          "data": {
            "text/plain": [
              "type\n",
              "CASH_IN        0\n",
              "CASH_OUT    4116\n",
              "DEBIT          0\n",
              "PAYMENT        0\n",
              "TRANSFER    4097\n",
              "Name: 1, dtype: int64"
            ],
            "text/html": [
              "<div>\n",
              "<style scoped>\n",
              "    .dataframe tbody tr th:only-of-type {\n",
              "        vertical-align: middle;\n",
              "    }\n",
              "\n",
              "    .dataframe tbody tr th {\n",
              "        vertical-align: top;\n",
              "    }\n",
              "\n",
              "    .dataframe thead th {\n",
              "        text-align: right;\n",
              "    }\n",
              "</style>\n",
              "<table border=\"1\" class=\"dataframe\">\n",
              "  <thead>\n",
              "    <tr style=\"text-align: right;\">\n",
              "      <th></th>\n",
              "      <th>1</th>\n",
              "    </tr>\n",
              "    <tr>\n",
              "      <th>type</th>\n",
              "      <th></th>\n",
              "    </tr>\n",
              "  </thead>\n",
              "  <tbody>\n",
              "    <tr>\n",
              "      <th>CASH_IN</th>\n",
              "      <td>0</td>\n",
              "    </tr>\n",
              "    <tr>\n",
              "      <th>CASH_OUT</th>\n",
              "      <td>4116</td>\n",
              "    </tr>\n",
              "    <tr>\n",
              "      <th>DEBIT</th>\n",
              "      <td>0</td>\n",
              "    </tr>\n",
              "    <tr>\n",
              "      <th>PAYMENT</th>\n",
              "      <td>0</td>\n",
              "    </tr>\n",
              "    <tr>\n",
              "      <th>TRANSFER</th>\n",
              "      <td>4097</td>\n",
              "    </tr>\n",
              "  </tbody>\n",
              "</table>\n",
              "</div><br><label><b>dtype:</b> int64</label>"
            ]
          },
          "metadata": {},
          "execution_count": 18
        }
      ],
      "source": [
        "#with fraud happened type\n",
        "CrosstabResult[1]"
      ]
    },
    {
      "cell_type": "markdown",
      "id": "97fa6b75",
      "metadata": {
        "id": "97fa6b75"
      },
      "source": [
        "We can see that fraud occurred mostly while during transfer or cashout. But the numbers indicating fraud happened with fraud not happened is very low. So it'll not be seen in the plot."
      ]
    },
    {
      "cell_type": "code",
      "execution_count": null,
      "id": "d092ab59",
      "metadata": {
        "id": "d092ab59",
        "outputId": "e74ca037-9843-433b-ea4d-c457a4ad18ae",
        "colab": {
          "base_uri": "https://localhost:8080/",
          "height": 421
        }
      },
      "outputs": [
        {
          "output_type": "execute_result",
          "data": {
            "text/plain": [
              "<Axes: xlabel='type'>"
            ]
          },
          "metadata": {},
          "execution_count": 19
        },
        {
          "output_type": "display_data",
          "data": {
            "text/plain": [
              "<Figure size 700x400 with 1 Axes>"
            ],
            "image/png": "[encoded data removed]"
          },
          "metadata": {}
        }
      ],
      "source": [
        "# Grouped bar chart between TYPE and ISFRAUD\n",
        "CrosstabResult.plot.bar(figsize=(7,4), rot=0)"
      ]
    },
    {
      "cell_type": "code",
      "execution_count": null,
      "id": "0a7782a2",
      "metadata": {
        "id": "0a7782a2",
        "outputId": "39fba1aa-5d9d-49f9-a86b-8a02c3bcfed3",
        "colab": {
          "base_uri": "https://localhost:8080/",
          "height": 406
        }
      },
      "outputs": [
        {
          "output_type": "execute_result",
          "data": {
            "text/plain": [
              "<Axes: xlabel='type'>"
            ]
          },
          "metadata": {},
          "execution_count": 20
        },
        {
          "output_type": "display_data",
          "data": {
            "text/plain": [
              "<Figure size 700x400 with 1 Axes>"
            ],
            "image/png": "[encoded data removed]"
          },
          "metadata": {}
        }
      ],
      "source": [
        "# Grouped bar chart between TYPE and ISFRAUD with maximizing\n",
        "CrosstabResult[1].plot.bar(figsize=(7,4), rot=0)"
      ]
    },
    {
      "cell_type": "code",
      "execution_count": null,
      "id": "edaea7e1",
      "metadata": {
        "id": "edaea7e1",
        "outputId": "09f966d6-c8cf-4cf2-f36e-6a7b108dd3bd",
        "colab": {
          "base_uri": "https://localhost:8080/",
          "height": 411
        }
      },
      "outputs": [
        {
          "output_type": "execute_result",
          "data": {
            "text/plain": [
              "(3500.0, 7000.0)"
            ]
          },
          "metadata": {},
          "execution_count": 21
        },
        {
          "output_type": "display_data",
          "data": {
            "text/plain": [
              "<Figure size 700x400 with 1 Axes>"
            ],
            "image/png": "[encoded data removed]"
          },
          "metadata": {}
        }
      ],
      "source": [
        "# Grouped bar chart between TYPE and ISFRAUD by changing ylimit to view isFraud values\n",
        "CrosstabResult.plot.bar(figsize=(7,4), rot=0)\n",
        "plt.ylim([3500, 7000])"
      ]
    },
    {
      "cell_type": "code",
      "execution_count": null,
      "id": "f4e9ce83",
      "metadata": {
        "id": "f4e9ce83",
        "outputId": "923fae59-3543-43a6-f7b2-cc0c2182c7b8",
        "colab": {
          "base_uri": "https://localhost:8080/",
          "height": 238
        }
      },
      "outputs": [
        {
          "output_type": "execute_result",
          "data": {
            "text/plain": [
              "isFraud         0     1\n",
              "type                   \n",
              "CASH_IN   1399284     0\n",
              "CASH_OUT  2233384  4116\n",
              "DEBIT       41432     0\n",
              "PAYMENT   2151495     0\n",
              "TRANSFER   528812  4097"
            ],
            "text/html": [
              "\n",
              "  <div id=\"df-3cf10a94-c150-4212-8eeb-bb79ef162846\" class=\"colab-df-container\">\n",
              "    <div>\n",
              "<style scoped>\n",
              "    .dataframe tbody tr th:only-of-type {\n",
              "        vertical-align: middle;\n",
              "    }\n",
              "\n",
              "    .dataframe tbody tr th {\n",
              "        vertical-align: top;\n",
              "    }\n",
              "\n",
              "    .dataframe thead th {\n",
              "        text-align: right;\n",
              "    }\n",
              "</style>\n",
              "<table border=\"1\" class=\"dataframe\">\n",
              "  <thead>\n",
              "    <tr style=\"text-align: right;\">\n",
              "      <th>isFraud</th>\n",
              "      <th>0</th>\n",
              "      <th>1</th>\n",
              "    </tr>\n",
              "    <tr>\n",
              "      <th>type</th>\n",
              "      <th></th>\n",
              "      <th></th>\n",
              "    </tr>\n",
              "  </thead>\n",
              "  <tbody>\n",
              "    <tr>\n",
              "      <th>CASH_IN</th>\n",
              "      <td>1399284</td>\n",
              "      <td>0</td>\n",
              "    </tr>\n",
              "    <tr>\n",
              "      <th>CASH_OUT</th>\n",
              "      <td>2233384</td>\n",
              "      <td>4116</td>\n",
              "    </tr>\n",
              "    <tr>\n",
              "      <th>DEBIT</th>\n",
              "      <td>41432</td>\n",
              "      <td>0</td>\n",
              "    </tr>\n",
              "    <tr>\n",
              "      <th>PAYMENT</th>\n",
              "      <td>2151495</td>\n",
              "      <td>0</td>\n",
              "    </tr>\n",
              "    <tr>\n",
              "      <th>TRANSFER</th>\n",
              "      <td>528812</td>\n",
              "      <td>4097</td>\n",
              "    </tr>\n",
              "  </tbody>\n",
              "</table>\n",
              "</div>\n",
              "    <div class=\"colab-df-buttons\">\n",
              "\n",
              "  <div class=\"colab-df-container\">\n",
              "    <button class=\"colab-df-convert\" onclick=\"convertToInteractive('df-3cf10a94-c150-4212-8eeb-bb79ef162846')\"\n",
              "            title=\"Convert this dataframe to an interactive table.\"\n",
              "            style=\"display:none;\">\n",
              "\n",
              "  <svg xmlns=\"http://www.w3.org/2000/svg\" height=\"24px\" viewBox=\"0 -960 960 960\">\n",
              "    <path d=\"M120-120v-720h720v720H120Zm60-500h600v-160H180v160Zm220 220h160v-160H400v160Zm0 220h160v-160H400v160ZM180-400h160v-160H180v160Zm440 0h160v-160H620v160ZM180-180h160v-160H180v160Zm440 0h160v-160H620v160Z\"/>\n",
              "  </svg>\n",
              "    </button>\n",
              "\n",
              "  <style>\n",
              "    .colab-df-container {\n",
              "      display:flex;\n",
              "      gap: 12px;\n",
              "    }\n",
              "\n",
              "    .colab-df-convert {\n",
              "      background-color: #E8F0FE;\n",
              "      border: none;\n",
              "      border-radius: 50%;\n",
              "      cursor: pointer;\n",
              "      display: none;\n",
              "      fill: #1967D2;\n",
              "      height: 32px;\n",
              "      padding: 0 0 0 0;\n",
              "      width: 32px;\n",
              "    }\n",
              "\n",
              "    .colab-df-convert:hover {\n",
              "      background-color: #E2EBFA;\n",
              "      box-shadow: 0px 1px 2px rgba(60, 64, 67, 0.3), 0px 1px 3px 1px rgba(60, 64, 67, 0.15);\n",
              "      fill: #174EA6;\n",
              "    }\n",
              "\n",
              "    .colab-df-buttons div {\n",
              "      margin-bottom: 4px;\n",
              "    }\n",
              "\n",
              "    [theme=dark] .colab-df-convert {\n",
              "      background-color: #3B4455;\n",
              "      fill: #D2E3FC;\n",
              "    }\n",
              "\n",
              "    [theme=dark] .colab-df-convert:hover {\n",
              "      background-color: #434B5C;\n",
              "      box-shadow: 0px 1px 3px 1px rgba(0, 0, 0, 0.15);\n",
              "      filter: drop-shadow(0px 1px 2px rgba(0, 0, 0, 0.3));\n",
              "      fill: #FFFFFF;\n",
              "    }\n",
              "  </style>\n",
              "\n",
              "    <script>\n",
              "      const buttonEl =\n",
              "        document.querySelector('#df-3cf10a94-c150-4212-8eeb-bb79ef162846 button.colab-df-convert');\n",
              "      buttonEl.style.display =\n",
              "        google.colab.kernel.accessAllowed ? 'block' : 'none';\n",
              "\n",
              "      async function convertToInteractive(key) {\n",
              "        const element = document.querySelector('#df-3cf10a94-c150-4212-8eeb-bb79ef162846');\n",
              "        const dataTable =\n",
              "          await google.colab.kernel.invokeFunction('convertToInteractive',\n",
              "                                                    [key], {});\n",
              "        if (!dataTable) return;\n",
              "\n",
              "        const docLinkHtml = 'Like what you see? Visit the ' +\n",
              "          '<a target=\"_blank\" href=https://colab.research.google.com/notebooks/data_table.ipynb>data table notebook</a>'\n",
              "          + ' to learn more about interactive tables.';\n",
              "        element.innerHTML = '';\n",
              "        dataTable['output_type'] = 'display_data';\n",
              "        await google.colab.output.renderOutput(dataTable, element);\n",
              "        const docLink = document.createElement('div');\n",
              "        docLink.innerHTML = docLinkHtml;\n",
              "        element.appendChild(docLink);\n",
              "      }\n",
              "    </script>\n",
              "  </div>\n",
              "\n",
              "\n",
              "<div id=\"df-ce6d0791-27f6-45ad-be12-f50d531f83e5\">\n",
              "  <button class=\"colab-df-quickchart\" onclick=\"quickchart('df-ce6d0791-27f6-45ad-be12-f50d531f83e5')\"\n",
              "            title=\"Suggest charts\"\n",
              "            style=\"display:none;\">\n",
              "\n",
              "<svg xmlns=\"http://www.w3.org/2000/svg\" height=\"24px\"viewBox=\"0 0 24 24\"\n",
              "     width=\"24px\">\n",
              "    <g>\n",
              "        <path d=\"M19 3H5c-1.1 0-2 .9-2 2v14c0 1.1.9 2 2 2h14c1.1 0 2-.9 2-2V5c0-1.1-.9-2-2-2zM9 17H7v-7h2v7zm4 0h-2V7h2v10zm4 0h-2v-4h2v4z\"/>\n",
              "    </g>\n",
              "</svg>\n",
              "  </button>\n",
              "\n",
              "<style>\n",
              "  .colab-df-quickchart {\n",
              "      --bg-color: #E8F0FE;\n",
              "      --fill-color: #1967D2;\n",
              "      --hover-bg-color: #E2EBFA;\n",
              "      --hover-fill-color: #174EA6;\n",
              "      --disabled-fill-color: #AAA;\n",
              "      --disabled-bg-color: #DDD;\n",
              "  }\n",
              "\n",
              "  [theme=dark] .colab-df-quickchart {\n",
              "      --bg-color: #3B4455;\n",
              "      --fill-color: #D2E3FC;\n",
              "      --hover-bg-color: #434B5C;\n",
              "      --hover-fill-color: #FFFFFF;\n",
              "      --disabled-bg-color: #3B4455;\n",
              "      --disabled-fill-color: #666;\n",
              "  }\n",
              "\n",
              "  .colab-df-quickchart {\n",
              "    background-color: var(--bg-color);\n",
              "    border: none;\n",
              "    border-radius: 50%;\n",
              "    cursor: pointer;\n",
              "    display: none;\n",
              "    fill: var(--fill-color);\n",
              "    height: 32px;\n",
              "    padding: 0;\n",
              "    width: 32px;\n",
              "  }\n",
              "\n",
              "  .colab-df-quickchart:hover {\n",
              "    background-color: var(--hover-bg-color);\n",
              "    box-shadow: 0 1px 2px rgba(60, 64, 67, 0.3), 0 1px 3px 1px rgba(60, 64, 67, 0.15);\n",
              "    fill: var(--button-hover-fill-color);\n",
              "  }\n",
              "\n",
              "  .colab-df-quickchart-complete:disabled,\n",
              "  .colab-df-quickchart-complete:disabled:hover {\n",
              "    background-color: var(--disabled-bg-color);\n",
              "    fill: var(--disabled-fill-color);\n",
              "    box-shadow: none;\n",
              "  }\n",
              "\n",
              "  .colab-df-spinner {\n",
              "    border: 2px solid var(--fill-color);\n",
              "    border-color: transparent;\n",
              "    border-bottom-color: var(--fill-color);\n",
              "    animation:\n",
              "      spin 1s steps(1) infinite;\n",
              "  }\n",
              "\n",
              "  @keyframes spin {\n",
              "    0% {\n",
              "      border-color: transparent;\n",
              "      border-bottom-color: var(--fill-color);\n",
              "      border-left-color: var(--fill-color);\n",
              "    }\n",
              "    20% {\n",
              "      border-color: transparent;\n",
              "      border-left-color: var(--fill-color);\n",
              "      border-top-color: var(--fill-color);\n",
              "    }\n",
              "    30% {\n",
              "      border-color: transparent;\n",
              "      border-left-color: var(--fill-color);\n",
              "      border-top-color: var(--fill-color);\n",
              "      border-right-color: var(--fill-color);\n",
              "    }\n",
              "    40% {\n",
              "      border-color: transparent;\n",
              "      border-right-color: var(--fill-color);\n",
              "      border-top-color: var(--fill-color);\n",
              "    }\n",
              "    60% {\n",
              "      border-color: transparent;\n",
              "      border-right-color: var(--fill-color);\n",
              "    }\n",
              "    80% {\n",
              "      border-color: transparent;\n",
              "      border-right-color: var(--fill-color);\n",
              "      border-bottom-color: var(--fill-color);\n",
              "    }\n",
              "    90% {\n",
              "      border-color: transparent;\n",
              "      border-bottom-color: var(--fill-color);\n",
              "    }\n",
              "  }\n",
              "</style>\n",
              "\n",
              "  <script>\n",
              "    async function quickchart(key) {\n",
              "      const quickchartButtonEl =\n",
              "        document.querySelector('#' + key + ' button');\n",
              "      quickchartButtonEl.disabled = true;  // To prevent multiple clicks.\n",
              "      quickchartButtonEl.classList.add('colab-df-spinner');\n",
              "      try {\n",
              "        const charts = await google.colab.kernel.invokeFunction(\n",
              "            'suggestCharts', [key], {});\n",
              "      } catch (error) {\n",
              "        console.error('Error during call to suggestCharts:', error);\n",
              "      }\n",
              "      quickchartButtonEl.classList.remove('colab-df-spinner');\n",
              "      quickchartButtonEl.classList.add('colab-df-quickchart-complete');\n",
              "    }\n",
              "    (() => {\n",
              "      let quickchartButtonEl =\n",
              "        document.querySelector('#df-ce6d0791-27f6-45ad-be12-f50d531f83e5 button');\n",
              "      quickchartButtonEl.style.display =\n",
              "        google.colab.kernel.accessAllowed ? 'block' : 'none';\n",
              "    })();\n",
              "  </script>\n",
              "</div>\n",
              "\n",
              "  <div id=\"id_9595dd85-390a-428a-85c7-87111b1cd022\">\n",
              "    <style>\n",
              "      .colab-df-generate {\n",
              "        background-color: #E8F0FE;\n",
              "        border: none;\n",
              "        border-radius: 50%;\n",
              "        cursor: pointer;\n",
              "        display: none;\n",
              "        fill: #1967D2;\n",
              "        height: 32px;\n",
              "        padding: 0 0 0 0;\n",
              "        width: 32px;\n",
              "      }\n",
              "\n",
              "      .colab-df-generate:hover {\n",
              "        background-color: #E2EBFA;\n",
              "        box-shadow: 0px 1px 2px rgba(60, 64, 67, 0.3), 0px 1px 3px 1px rgba(60, 64, 67, 0.15);\n",
              "        fill: #174EA6;\n",
              "      }\n",
              "\n",
              "      [theme=dark] .colab-df-generate {\n",
              "        background-color: #3B4455;\n",
              "        fill: #D2E3FC;\n",
              "      }\n",
              "\n",
              "      [theme=dark] .colab-df-generate:hover {\n",
              "        background-color: #434B5C;\n",
              "        box-shadow: 0px 1px 3px 1px rgba(0, 0, 0, 0.15);\n",
              "        filter: drop-shadow(0px 1px 2px rgba(0, 0, 0, 0.3));\n",
              "        fill: #FFFFFF;\n",
              "      }\n",
              "    </style>\n",
              "    <button class=\"colab-df-generate\" onclick=\"generateWithVariable('CrosstabResult')\"\n",
              "            title=\"Generate code using this dataframe.\"\n",
              "            style=\"display:none;\">\n",
              "\n",
              "  <svg xmlns=\"http://www.w3.org/2000/svg\" height=\"24px\"viewBox=\"0 0 24 24\"\n",
              "       width=\"24px\">\n",
              "    <path d=\"M7,19H8.4L18.45,9,17,7.55,7,17.6ZM5,21V16.75L18.45,3.32a2,2,0,0,1,2.83,0l1.4,1.43a1.91,1.91,0,0,1,.58,1.4,1.91,1.91,0,0,1-.58,1.4L9.25,21ZM18.45,9,17,7.55Zm-12,3A5.31,5.31,0,0,0,4.9,8.1,5.31,5.31,0,0,0,1,6.5,5.31,5.31,0,0,0,4.9,4.9,5.31,5.31,0,0,0,6.5,1,5.31,5.31,0,0,0,8.1,4.9,5.31,5.31,0,0,0,12,6.5,5.46,5.46,0,0,0,6.5,12Z\"/>\n",
              "  </svg>\n",
              "    </button>\n",
              "    <script>\n",
              "      (() => {\n",
              "      const buttonEl =\n",
              "        document.querySelector('#id_9595dd85-390a-428a-85c7-87111b1cd022 button.colab-df-generate');\n",
              "      buttonEl.style.display =\n",
              "        google.colab.kernel.accessAllowed ? 'block' : 'none';\n",
              "\n",
              "      buttonEl.onclick = () => {\n",
              "        google.colab.notebook.generateWithVariable('CrosstabResult');\n",
              "      }\n",
              "      })();\n",
              "    </script>\n",
              "  </div>\n",
              "\n",
              "    </div>\n",
              "  </div>\n"
            ],
            "application/vnd.google.colaboratory.intrinsic+json": {
              "type": "dataframe",
              "variable_name": "CrosstabResult",
              "summary": "{\n  \"name\": \"CrosstabResult\",\n  \"rows\": 5,\n  \"fields\": [\n    {\n      \"column\": \"type\",\n      \"properties\": {\n        \"dtype\": \"category\",\n        \"num_unique_values\": 5,\n        \"samples\": [\n          \"CASH_OUT\",\n          \"TRANSFER\",\n          \"DEBIT\"\n        ],\n        \"semantic_type\": \"\",\n        \"description\": \"\"\n      }\n    },\n    {\n      \"column\": 0,\n      \"properties\": {\n        \"dtype\": \"number\",\n        \"std\": 972187,\n        \"min\": 41432,\n        \"max\": 2233384,\n        \"num_unique_values\": 5,\n        \"samples\": [\n          2233384,\n          528812,\n          41432\n        ],\n        \"semantic_type\": \"\",\n        \"description\": \"\"\n      }\n    },\n    {\n      \"column\": 1,\n      \"properties\": {\n        \"dtype\": \"number\",\n        \"std\": 2249,\n        \"min\": 0,\n        \"max\": 4116,\n        \"num_unique_values\": 3,\n        \"samples\": [\n          0,\n          4116,\n          4097\n        ],\n        \"semantic_type\": \"\",\n        \"description\": \"\"\n      }\n    }\n  ]\n}"
            }
          },
          "metadata": {},
          "execution_count": 22
        }
      ],
      "source": [
        "CrosstabResult"
      ]
    },
    {
      "cell_type": "code",
      "execution_count": null,
      "id": "8f7aaa28",
      "metadata": {
        "id": "8f7aaa28",
        "outputId": "956eb8a8-ea44-4c54-e1aa-d7fe2cb7c1d7",
        "colab": {
          "base_uri": "https://localhost:8080/"
        }
      },
      "outputs": [
        {
          "output_type": "execute_result",
          "data": {
            "text/plain": [
              "0.18395530726256984"
            ]
          },
          "metadata": {},
          "execution_count": 23
        }
      ],
      "source": [
        "cashout=2233384+4116\n",
        "cashout_fraud= 4116/(cashout) * 100\n",
        "cashout_fraud"
      ]
    },
    {
      "cell_type": "markdown",
      "id": "8b88afaf",
      "metadata": {
        "id": "8b88afaf"
      },
      "source": [
        "#### 0.184 % denotes the percentage of fraud happened in total cashout mode type, which is very less%"
      ]
    },
    {
      "cell_type": "code",
      "execution_count": null,
      "id": "2f5a46d9",
      "metadata": {
        "id": "2f5a46d9",
        "outputId": "cca51d36-b362-43ec-8df8-0a364bca3597",
        "colab": {
          "base_uri": "https://localhost:8080/"
        }
      },
      "outputs": [
        {
          "output_type": "execute_result",
          "data": {
            "text/plain": [
              "0.7687991758442811"
            ]
          },
          "metadata": {},
          "execution_count": 24
        }
      ],
      "source": [
        "transfer= 528812+4097\n",
        "transfer_fraud = 4097/(transfer) * 100\n",
        "transfer_fraud"
      ]
    },
    {
      "cell_type": "markdown",
      "id": "7d51da3d",
      "metadata": {
        "id": "7d51da3d"
      },
      "source": [
        "#### 0.769 % denotes the percentage of fraud happened in total tranfer mode type, which is very also less%"
      ]
    },
    {
      "cell_type": "code",
      "execution_count": null,
      "id": "da8f9c53",
      "metadata": {
        "id": "da8f9c53",
        "outputId": "7f376d1b-0765-41d3-e853-90d7d87d583b",
        "colab": {
          "base_uri": "https://localhost:8080/",
          "height": 458
        }
      },
      "outputs": [
        {
          "output_type": "execute_result",
          "data": {
            "text/plain": [
              "0            9839.640\n",
              "1            4501.300\n",
              "2            4501.300\n",
              "3            4501.300\n",
              "4           11668.140\n",
              "              ...    \n",
              "6362615    339682.130\n",
              "6362616    365423.309\n",
              "6362617    365423.309\n",
              "6362618    365423.309\n",
              "6362619    365423.309\n",
              "Name: amount, Length: 6362620, dtype: float64"
            ],
            "text/html": [
              "<div>\n",
              "<style scoped>\n",
              "    .dataframe tbody tr th:only-of-type {\n",
              "        vertical-align: middle;\n",
              "    }\n",
              "\n",
              "    .dataframe tbody tr th {\n",
              "        vertical-align: top;\n",
              "    }\n",
              "\n",
              "    .dataframe thead th {\n",
              "        text-align: right;\n",
              "    }\n",
              "</style>\n",
              "<table border=\"1\" class=\"dataframe\">\n",
              "  <thead>\n",
              "    <tr style=\"text-align: right;\">\n",
              "      <th></th>\n",
              "      <th>amount</th>\n",
              "    </tr>\n",
              "  </thead>\n",
              "  <tbody>\n",
              "    <tr>\n",
              "      <th>0</th>\n",
              "      <td>9839.640</td>\n",
              "    </tr>\n",
              "    <tr>\n",
              "      <th>1</th>\n",
              "      <td>4501.300</td>\n",
              "    </tr>\n",
              "    <tr>\n",
              "      <th>2</th>\n",
              "      <td>4501.300</td>\n",
              "    </tr>\n",
              "    <tr>\n",
              "      <th>3</th>\n",
              "      <td>4501.300</td>\n",
              "    </tr>\n",
              "    <tr>\n",
              "      <th>4</th>\n",
              "      <td>11668.140</td>\n",
              "    </tr>\n",
              "    <tr>\n",
              "      <th>...</th>\n",
              "      <td>...</td>\n",
              "    </tr>\n",
              "    <tr>\n",
              "      <th>6362615</th>\n",
              "      <td>339682.130</td>\n",
              "    </tr>\n",
              "    <tr>\n",
              "      <th>6362616</th>\n",
              "      <td>365423.309</td>\n",
              "    </tr>\n",
              "    <tr>\n",
              "      <th>6362617</th>\n",
              "      <td>365423.309</td>\n",
              "    </tr>\n",
              "    <tr>\n",
              "      <th>6362618</th>\n",
              "      <td>365423.309</td>\n",
              "    </tr>\n",
              "    <tr>\n",
              "      <th>6362619</th>\n",
              "      <td>365423.309</td>\n",
              "    </tr>\n",
              "  </tbody>\n",
              "</table>\n",
              "<p>6362620 rows × 1 columns</p>\n",
              "</div><br><label><b>dtype:</b> float64</label>"
            ]
          },
          "metadata": {},
          "execution_count": 25
        }
      ],
      "source": [
        "df.amount"
      ]
    },
    {
      "cell_type": "markdown",
      "id": "a3e21fb8",
      "metadata": {
        "id": "a3e21fb8"
      },
      "source": [
        "### Check the Minimum and Maximum range amount"
      ]
    },
    {
      "cell_type": "code",
      "execution_count": null,
      "id": "9ac5e568",
      "metadata": {
        "id": "9ac5e568",
        "outputId": "117b3f7c-e6f6-4daa-b568-8f76972a882b",
        "colab": {
          "base_uri": "https://localhost:8080/",
          "height": 829
        }
      },
      "outputs": [
        {
          "output_type": "execute_result",
          "data": {
            "text/plain": [
              "<Axes: ylabel='amount'>"
            ]
          },
          "metadata": {},
          "execution_count": 26
        },
        {
          "output_type": "display_data",
          "data": {
            "text/plain": [
              "<Figure size 1000x1000 with 1 Axes>"
            ],
            "image/png": "[encoded data removed]"
          },
          "metadata": {}
        }
      ],
      "source": [
        "plt.figure(figsize=(10,10))\n",
        "sns.stripplot(y=df.amount)"
      ]
    },
    {
      "cell_type": "code",
      "execution_count": null,
      "id": "e90a38bd",
      "metadata": {
        "id": "e90a38bd",
        "outputId": "057f3692-1ff7-4419-a679-8db015b98021",
        "colab": {
          "base_uri": "https://localhost:8080/"
        }
      },
      "outputs": [
        {
          "output_type": "stream",
          "name": "stdout",
          "text": [
            "Minimum:  4501.3\n",
            "Maximum:  365423.30900000007\n"
          ]
        }
      ],
      "source": [
        "print('Minimum: ',df.amount.min())\n",
        "print('Maximum: ',df.amount.max())"
      ]
    },
    {
      "cell_type": "markdown",
      "id": "1bfd15d4",
      "metadata": {
        "id": "1bfd15d4"
      },
      "source": [
        "#### Lowest amount transaction starts from 4500 and highest amount transaction goes upto  0.36 millions .\n",
        "### we will check the realtionship with isFraud column"
      ]
    },
    {
      "cell_type": "code",
      "execution_count": null,
      "id": "a288b994",
      "metadata": {
        "id": "a288b994",
        "outputId": "9b7d98ea-43d9-4671-e157-52b88591e883",
        "colab": {
          "base_uri": "https://localhost:8080/",
          "height": 496
        }
      },
      "outputs": [
        {
          "output_type": "execute_result",
          "data": {
            "text/plain": [
              "<Axes: title={'center': 'amount'}, xlabel='isFraud'>"
            ]
          },
          "metadata": {},
          "execution_count": 28
        },
        {
          "output_type": "display_data",
          "data": {
            "text/plain": [
              "<Figure size 640x480 with 1 Axes>"
            ],
            "image/png": "[encoded data removed]"
          },
          "metadata": {}
        }
      ],
      "source": [
        "df.boxplot(column='amount', by='isFraud')"
      ]
    },
    {
      "cell_type": "markdown",
      "id": "1f6f5ef1",
      "metadata": {
        "id": "1f6f5ef1"
      },
      "source": [
        "#### Fraud amount transaction range is between 0.13-0.36 Millions"
      ]
    },
    {
      "cell_type": "markdown",
      "id": "f9dcbcc9",
      "metadata": {
        "id": "f9dcbcc9"
      },
      "source": [
        "### isFraud"
      ]
    },
    {
      "cell_type": "code",
      "execution_count": null,
      "id": "c2a86333",
      "metadata": {
        "id": "c2a86333",
        "outputId": "288083f5-7d01-4eaf-89e6-12f29e9d22d4",
        "colab": {
          "base_uri": "https://localhost:8080/"
        }
      },
      "outputs": [
        {
          "output_type": "execute_result",
          "data": {
            "text/plain": [
              "0.12908204481801522"
            ]
          },
          "metadata": {},
          "execution_count": 29
        }
      ],
      "source": [
        "total_transactions = df.shape[0]\n",
        "\n",
        "fraud_transaction = df[df.isFraud==1].shape[0]\n",
        "\n",
        "fraud_percent= fraud_transaction/total_transactions * 100\n",
        "fraud_percent"
      ]
    },
    {
      "cell_type": "code",
      "execution_count": null,
      "id": "2556db08",
      "metadata": {
        "id": "2556db08",
        "outputId": "a12128ed-b3e4-43d8-8064-a7f13228c0f1",
        "colab": {
          "base_uri": "https://localhost:8080/"
        }
      },
      "outputs": [
        {
          "output_type": "stream",
          "name": "stdout",
          "text": [
            "Total transactions:  6362620\n",
            "Total fraud transactions happened:  8213\n",
            "Total fraud transaction percent:  0.13\n"
          ]
        }
      ],
      "source": [
        "print('Total transactions: ',total_transactions)\n",
        "print('Total fraud transactions happened: ',fraud_transaction)\n",
        "print(\"Total fraud transaction percent: \",round(fraud_percent,2))"
      ]
    },
    {
      "cell_type": "code",
      "execution_count": null,
      "id": "e0988faa",
      "metadata": {
        "id": "e0988faa",
        "outputId": "65d1fbba-8cab-4d04-de45-95b52e542376",
        "colab": {
          "base_uri": "https://localhost:8080/",
          "height": 444
        }
      },
      "outputs": [
        {
          "output_type": "execute_result",
          "data": {
            "text/plain": [
              "         step      type      amount     nameOrig  oldbalanceOrg  \\\n",
              "5188057   367  CASH_OUT  365423.309  C1210833971     435867.160   \n",
              "5990227   416  CASH_OUT  365423.309  C2110305720    1822508.289   \n",
              "5990225   416  CASH_OUT  365423.309   C246726057    1822508.289   \n",
              "5990224   416  TRANSFER  365423.309   C298387535    1822508.289   \n",
              "5988262   415  CASH_OUT  365423.309  C2137951962    1675153.280   \n",
              "...       ...       ...         ...          ...            ...   \n",
              "6002113   428  CASH_OUT    4501.300  C1838531308       3037.670   \n",
              "6002112   428  TRANSFER    4501.300  C1408814433       3037.670   \n",
              "1796322   162  TRANSFER    4501.300  C1172437299        151.000   \n",
              "1796323   162  CASH_OUT    4501.300   C790340353        151.000   \n",
              "2           1  TRANSFER    4501.300  C1305486145        181.000   \n",
              "\n",
              "         newbalanceOrig     nameDest  oldbalanceDest  newbalanceDest  isFraud  \\\n",
              "5188057           0.000   C363013236       186826.40      622693.550        1   \n",
              "5990227           0.000   C225008798       523626.59     3194869.671        1   \n",
              "5990225           0.000  C1786144514      2423749.18     3194869.671        1   \n",
              "5990224     1970344.793   C662194461            0.00           0.000        1   \n",
              "5988262           0.000   C309573869        12832.26     1687985.530        1   \n",
              "...                 ...          ...             ...             ...      ...   \n",
              "6002113           0.000   C505532836       800854.71      803892.380        1   \n",
              "6002112           0.000   C944070846            0.00           0.000        1   \n",
              "1796322           0.000   C315826176            0.00           0.000        1   \n",
              "1796323           0.000   C517676411       386163.34      386314.340        1   \n",
              "2                 0.000   C553264065            0.00           0.000        1   \n",
              "\n",
              "         isFlaggedFraud  \n",
              "5188057               0  \n",
              "5990227               0  \n",
              "5990225               0  \n",
              "5990224               0  \n",
              "5988262               0  \n",
              "...                 ...  \n",
              "6002113               0  \n",
              "6002112               0  \n",
              "1796322               0  \n",
              "1796323               0  \n",
              "2                     0  \n",
              "\n",
              "[8213 rows x 11 columns]"
            ],
            "text/html": [
              "\n",
              "  <div id=\"df-e67e3b73-d43f-4981-b32f-8827eaf4298b\" class=\"colab-df-container\">\n",
              "    <div>\n",
              "<style scoped>\n",
              "    .dataframe tbody tr th:only-of-type {\n",
              "        vertical-align: middle;\n",
              "    }\n",
              "\n",
              "    .dataframe tbody tr th {\n",
              "        vertical-align: top;\n",
              "    }\n",
              "\n",
              "    .dataframe thead th {\n",
              "        text-align: right;\n",
              "    }\n",
              "</style>\n",
              "<table border=\"1\" class=\"dataframe\">\n",
              "  <thead>\n",
              "    <tr style=\"text-align: right;\">\n",
              "      <th></th>\n",
              "      <th>step</th>\n",
              "      <th>type</th>\n",
              "      <th>amount</th>\n",
              "      <th>nameOrig</th>\n",
              "      <th>oldbalanceOrg</th>\n",
              "      <th>newbalanceOrig</th>\n",
              "      <th>nameDest</th>\n",
              "      <th>oldbalanceDest</th>\n",
              "      <th>newbalanceDest</th>\n",
              "      <th>isFraud</th>\n",
              "      <th>isFlaggedFraud</th>\n",
              "    </tr>\n",
              "  </thead>\n",
              "  <tbody>\n",
              "    <tr>\n",
              "      <th>5188057</th>\n",
              "      <td>367</td>\n",
              "      <td>CASH_OUT</td>\n",
              "      <td>365423.309</td>\n",
              "      <td>C1210833971</td>\n",
              "      <td>435867.160</td>\n",
              "      <td>0.000</td>\n",
              "      <td>C363013236</td>\n",
              "      <td>186826.40</td>\n",
              "      <td>622693.550</td>\n",
              "      <td>1</td>\n",
              "      <td>0</td>\n",
              "    </tr>\n",
              "    <tr>\n",
              "      <th>5990227</th>\n",
              "      <td>416</td>\n",
              "      <td>CASH_OUT</td>\n",
              "      <td>365423.309</td>\n",
              "      <td>C2110305720</td>\n",
              "      <td>1822508.289</td>\n",
              "      <td>0.000</td>\n",
              "      <td>C225008798</td>\n",
              "      <td>523626.59</td>\n",
              "      <td>3194869.671</td>\n",
              "      <td>1</td>\n",
              "      <td>0</td>\n",
              "    </tr>\n",
              "    <tr>\n",
              "      <th>5990225</th>\n",
              "      <td>416</td>\n",
              "      <td>CASH_OUT</td>\n",
              "      <td>365423.309</td>\n",
              "      <td>C246726057</td>\n",
              "      <td>1822508.289</td>\n",
              "      <td>0.000</td>\n",
              "      <td>C1786144514</td>\n",
              "      <td>2423749.18</td>\n",
              "      <td>3194869.671</td>\n",
              "      <td>1</td>\n",
              "      <td>0</td>\n",
              "    </tr>\n",
              "    <tr>\n",
              "      <th>5990224</th>\n",
              "      <td>416</td>\n",
              "      <td>TRANSFER</td>\n",
              "      <td>365423.309</td>\n",
              "      <td>C298387535</td>\n",
              "      <td>1822508.289</td>\n",
              "      <td>1970344.793</td>\n",
              "      <td>C662194461</td>\n",
              "      <td>0.00</td>\n",
              "      <td>0.000</td>\n",
              "      <td>1</td>\n",
              "      <td>0</td>\n",
              "    </tr>\n",
              "    <tr>\n",
              "      <th>5988262</th>\n",
              "      <td>415</td>\n",
              "      <td>CASH_OUT</td>\n",
              "      <td>365423.309</td>\n",
              "      <td>C2137951962</td>\n",
              "      <td>1675153.280</td>\n",
              "      <td>0.000</td>\n",
              "      <td>C309573869</td>\n",
              "      <td>12832.26</td>\n",
              "      <td>1687985.530</td>\n",
              "      <td>1</td>\n",
              "      <td>0</td>\n",
              "    </tr>\n",
              "    <tr>\n",
              "      <th>...</th>\n",
              "      <td>...</td>\n",
              "      <td>...</td>\n",
              "      <td>...</td>\n",
              "      <td>...</td>\n",
              "      <td>...</td>\n",
              "      <td>...</td>\n",
              "      <td>...</td>\n",
              "      <td>...</td>\n",
              "      <td>...</td>\n",
              "      <td>...</td>\n",
              "      <td>...</td>\n",
              "    </tr>\n",
              "    <tr>\n",
              "      <th>6002113</th>\n",
              "      <td>428</td>\n",
              "      <td>CASH_OUT</td>\n",
              "      <td>4501.300</td>\n",
              "      <td>C1838531308</td>\n",
              "      <td>3037.670</td>\n",
              "      <td>0.000</td>\n",
              "      <td>C505532836</td>\n",
              "      <td>800854.71</td>\n",
              "      <td>803892.380</td>\n",
              "      <td>1</td>\n",
              "      <td>0</td>\n",
              "    </tr>\n",
              "    <tr>\n",
              "      <th>6002112</th>\n",
              "      <td>428</td>\n",
              "      <td>TRANSFER</td>\n",
              "      <td>4501.300</td>\n",
              "      <td>C1408814433</td>\n",
              "      <td>3037.670</td>\n",
              "      <td>0.000</td>\n",
              "      <td>C944070846</td>\n",
              "      <td>0.00</td>\n",
              "      <td>0.000</td>\n",
              "      <td>1</td>\n",
              "      <td>0</td>\n",
              "    </tr>\n",
              "    <tr>\n",
              "      <th>1796322</th>\n",
              "      <td>162</td>\n",
              "      <td>TRANSFER</td>\n",
              "      <td>4501.300</td>\n",
              "      <td>C1172437299</td>\n",
              "      <td>151.000</td>\n",
              "      <td>0.000</td>\n",
              "      <td>C315826176</td>\n",
              "      <td>0.00</td>\n",
              "      <td>0.000</td>\n",
              "      <td>1</td>\n",
              "      <td>0</td>\n",
              "    </tr>\n",
              "    <tr>\n",
              "      <th>1796323</th>\n",
              "      <td>162</td>\n",
              "      <td>CASH_OUT</td>\n",
              "      <td>4501.300</td>\n",
              "      <td>C790340353</td>\n",
              "      <td>151.000</td>\n",
              "      <td>0.000</td>\n",
              "      <td>C517676411</td>\n",
              "      <td>386163.34</td>\n",
              "      <td>386314.340</td>\n",
              "      <td>1</td>\n",
              "      <td>0</td>\n",
              "    </tr>\n",
              "    <tr>\n",
              "      <th>2</th>\n",
              "      <td>1</td>\n",
              "      <td>TRANSFER</td>\n",
              "      <td>4501.300</td>\n",
              "      <td>C1305486145</td>\n",
              "      <td>181.000</td>\n",
              "      <td>0.000</td>\n",
              "      <td>C553264065</td>\n",
              "      <td>0.00</td>\n",
              "      <td>0.000</td>\n",
              "      <td>1</td>\n",
              "      <td>0</td>\n",
              "    </tr>\n",
              "  </tbody>\n",
              "</table>\n",
              "<p>8213 rows × 11 columns</p>\n",
              "</div>\n",
              "    <div class=\"colab-df-buttons\">\n",
              "\n",
              "  <div class=\"colab-df-container\">\n",
              "    <button class=\"colab-df-convert\" onclick=\"convertToInteractive('df-e67e3b73-d43f-4981-b32f-8827eaf4298b')\"\n",
              "            title=\"Convert this dataframe to an interactive table.\"\n",
              "            style=\"display:none;\">\n",
              "\n",
              "  <svg xmlns=\"http://www.w3.org/2000/svg\" height=\"24px\" viewBox=\"0 -960 960 960\">\n",
              "    <path d=\"M120-120v-720h720v720H120Zm60-500h600v-160H180v160Zm220 220h160v-160H400v160Zm0 220h160v-160H400v160ZM180-400h160v-160H180v160Zm440 0h160v-160H620v160ZM180-180h160v-160H180v160Zm440 0h160v-160H620v160Z\"/>\n",
              "  </svg>\n",
              "    </button>\n",
              "\n",
              "  <style>\n",
              "    .colab-df-container {\n",
              "      display:flex;\n",
              "      gap: 12px;\n",
              "    }\n",
              "\n",
              "    .colab-df-convert {\n",
              "      background-color: #E8F0FE;\n",
              "      border: none;\n",
              "      border-radius: 50%;\n",
              "      cursor: pointer;\n",
              "      display: none;\n",
              "      fill: #1967D2;\n",
              "      height: 32px;\n",
              "      padding: 0 0 0 0;\n",
              "      width: 32px;\n",
              "    }\n",
              "\n",
              "    .colab-df-convert:hover {\n",
              "      background-color: #E2EBFA;\n",
              "      box-shadow: 0px 1px 2px rgba(60, 64, 67, 0.3), 0px 1px 3px 1px rgba(60, 64, 67, 0.15);\n",
              "      fill: #174EA6;\n",
              "    }\n",
              "\n",
              "    .colab-df-buttons div {\n",
              "      margin-bottom: 4px;\n",
              "    }\n",
              "\n",
              "    [theme=dark] .colab-df-convert {\n",
              "      background-color: #3B4455;\n",
              "      fill: #D2E3FC;\n",
              "    }\n",
              "\n",
              "    [theme=dark] .colab-df-convert:hover {\n",
              "      background-color: #434B5C;\n",
              "      box-shadow: 0px 1px 3px 1px rgba(0, 0, 0, 0.15);\n",
              "      filter: drop-shadow(0px 1px 2px rgba(0, 0, 0, 0.3));\n",
              "      fill: #FFFFFF;\n",
              "    }\n",
              "  </style>\n",
              "\n",
              "    <script>\n",
              "      const buttonEl =\n",
              "        document.querySelector('#df-e67e3b73-d43f-4981-b32f-8827eaf4298b button.colab-df-convert');\n",
              "      buttonEl.style.display =\n",
              "        google.colab.kernel.accessAllowed ? 'block' : 'none';\n",
              "\n",
              "      async function convertToInteractive(key) {\n",
              "        const element = document.querySelector('#df-e67e3b73-d43f-4981-b32f-8827eaf4298b');\n",
              "        const dataTable =\n",
              "          await google.colab.kernel.invokeFunction('convertToInteractive',\n",
              "                                                    [key], {});\n",
              "        if (!dataTable) return;\n",
              "\n",
              "        const docLinkHtml = 'Like what you see? Visit the ' +\n",
              "          '<a target=\"_blank\" href=https://colab.research.google.com/notebooks/data_table.ipynb>data table notebook</a>'\n",
              "          + ' to learn more about interactive tables.';\n",
              "        element.innerHTML = '';\n",
              "        dataTable['output_type'] = 'display_data';\n",
              "        await google.colab.output.renderOutput(dataTable, element);\n",
              "        const docLink = document.createElement('div');\n",
              "        docLink.innerHTML = docLinkHtml;\n",
              "        element.appendChild(docLink);\n",
              "      }\n",
              "    </script>\n",
              "  </div>\n",
              "\n",
              "\n",
              "<div id=\"df-9a6f57b4-3baa-4adc-8da3-3a230e2b8c20\">\n",
              "  <button class=\"colab-df-quickchart\" onclick=\"quickchart('df-9a6f57b4-3baa-4adc-8da3-3a230e2b8c20')\"\n",
              "            title=\"Suggest charts\"\n",
              "            style=\"display:none;\">\n",
              "\n",
              "<svg xmlns=\"http://www.w3.org/2000/svg\" height=\"24px\"viewBox=\"0 0 24 24\"\n",
              "     width=\"24px\">\n",
              "    <g>\n",
              "        <path d=\"M19 3H5c-1.1 0-2 .9-2 2v14c0 1.1.9 2 2 2h14c1.1 0 2-.9 2-2V5c0-1.1-.9-2-2-2zM9 17H7v-7h2v7zm4 0h-2V7h2v10zm4 0h-2v-4h2v4z\"/>\n",
              "    </g>\n",
              "</svg>\n",
              "  </button>\n",
              "\n",
              "<style>\n",
              "  .colab-df-quickchart {\n",
              "      --bg-color: #E8F0FE;\n",
              "      --fill-color: #1967D2;\n",
              "      --hover-bg-color: #E2EBFA;\n",
              "      --hover-fill-color: #174EA6;\n",
              "      --disabled-fill-color: #AAA;\n",
              "      --disabled-bg-color: #DDD;\n",
              "  }\n",
              "\n",
              "  [theme=dark] .colab-df-quickchart {\n",
              "      --bg-color: #3B4455;\n",
              "      --fill-color: #D2E3FC;\n",
              "      --hover-bg-color: #434B5C;\n",
              "      --hover-fill-color: #FFFFFF;\n",
              "      --disabled-bg-color: #3B4455;\n",
              "      --disabled-fill-color: #666;\n",
              "  }\n",
              "\n",
              "  .colab-df-quickchart {\n",
              "    background-color: var(--bg-color);\n",
              "    border: none;\n",
              "    border-radius: 50%;\n",
              "    cursor: pointer;\n",
              "    display: none;\n",
              "    fill: var(--fill-color);\n",
              "    height: 32px;\n",
              "    padding: 0;\n",
              "    width: 32px;\n",
              "  }\n",
              "\n",
              "  .colab-df-quickchart:hover {\n",
              "    background-color: var(--hover-bg-color);\n",
              "    box-shadow: 0 1px 2px rgba(60, 64, 67, 0.3), 0 1px 3px 1px rgba(60, 64, 67, 0.15);\n",
              "    fill: var(--button-hover-fill-color);\n",
              "  }\n",
              "\n",
              "  .colab-df-quickchart-complete:disabled,\n",
              "  .colab-df-quickchart-complete:disabled:hover {\n",
              "    background-color: var(--disabled-bg-color);\n",
              "    fill: var(--disabled-fill-color);\n",
              "    box-shadow: none;\n",
              "  }\n",
              "\n",
              "  .colab-df-spinner {\n",
              "    border: 2px solid var(--fill-color);\n",
              "    border-color: transparent;\n",
              "    border-bottom-color: var(--fill-color);\n",
              "    animation:\n",
              "      spin 1s steps(1) infinite;\n",
              "  }\n",
              "\n",
              "  @keyframes spin {\n",
              "    0% {\n",
              "      border-color: transparent;\n",
              "      border-bottom-color: var(--fill-color);\n",
              "      border-left-color: var(--fill-color);\n",
              "    }\n",
              "    20% {\n",
              "      border-color: transparent;\n",
              "      border-left-color: var(--fill-color);\n",
              "      border-top-color: var(--fill-color);\n",
              "    }\n",
              "    30% {\n",
              "      border-color: transparent;\n",
              "      border-left-color: var(--fill-color);\n",
              "      border-top-color: var(--fill-color);\n",
              "      border-right-color: var(--fill-color);\n",
              "    }\n",
              "    40% {\n",
              "      border-color: transparent;\n",
              "      border-right-color: var(--fill-color);\n",
              "      border-top-color: var(--fill-color);\n",
              "    }\n",
              "    60% {\n",
              "      border-color: transparent;\n",
              "      border-right-color: var(--fill-color);\n",
              "    }\n",
              "    80% {\n",
              "      border-color: transparent;\n",
              "      border-right-color: var(--fill-color);\n",
              "      border-bottom-color: var(--fill-color);\n",
              "    }\n",
              "    90% {\n",
              "      border-color: transparent;\n",
              "      border-bottom-color: var(--fill-color);\n",
              "    }\n",
              "  }\n",
              "</style>\n",
              "\n",
              "  <script>\n",
              "    async function quickchart(key) {\n",
              "      const quickchartButtonEl =\n",
              "        document.querySelector('#' + key + ' button');\n",
              "      quickchartButtonEl.disabled = true;  // To prevent multiple clicks.\n",
              "      quickchartButtonEl.classList.add('colab-df-spinner');\n",
              "      try {\n",
              "        const charts = await google.colab.kernel.invokeFunction(\n",
              "            'suggestCharts', [key], {});\n",
              "      } catch (error) {\n",
              "        console.error('Error during call to suggestCharts:', error);\n",
              "      }\n",
              "      quickchartButtonEl.classList.remove('colab-df-spinner');\n",
              "      quickchartButtonEl.classList.add('colab-df-quickchart-complete');\n",
              "    }\n",
              "    (() => {\n",
              "      let quickchartButtonEl =\n",
              "        document.querySelector('#df-9a6f57b4-3baa-4adc-8da3-3a230e2b8c20 button');\n",
              "      quickchartButtonEl.style.display =\n",
              "        google.colab.kernel.accessAllowed ? 'block' : 'none';\n",
              "    })();\n",
              "  </script>\n",
              "</div>\n",
              "\n",
              "  <div id=\"id_4928ca38-90e0-407e-9eb0-624a3000cd38\">\n",
              "    <style>\n",
              "      .colab-df-generate {\n",
              "        background-color: #E8F0FE;\n",
              "        border: none;\n",
              "        border-radius: 50%;\n",
              "        cursor: pointer;\n",
              "        display: none;\n",
              "        fill: #1967D2;\n",
              "        height: 32px;\n",
              "        padding: 0 0 0 0;\n",
              "        width: 32px;\n",
              "      }\n",
              "\n",
              "      .colab-df-generate:hover {\n",
              "        background-color: #E2EBFA;\n",
              "        box-shadow: 0px 1px 2px rgba(60, 64, 67, 0.3), 0px 1px 3px 1px rgba(60, 64, 67, 0.15);\n",
              "        fill: #174EA6;\n",
              "      }\n",
              "\n",
              "      [theme=dark] .colab-df-generate {\n",
              "        background-color: #3B4455;\n",
              "        fill: #D2E3FC;\n",
              "      }\n",
              "\n",
              "      [theme=dark] .colab-df-generate:hover {\n",
              "        background-color: #434B5C;\n",
              "        box-shadow: 0px 1px 3px 1px rgba(0, 0, 0, 0.15);\n",
              "        filter: drop-shadow(0px 1px 2px rgba(0, 0, 0, 0.3));\n",
              "        fill: #FFFFFF;\n",
              "      }\n",
              "    </style>\n",
              "    <button class=\"colab-df-generate\" onclick=\"generateWithVariable('fraud_amount')\"\n",
              "            title=\"Generate code using this dataframe.\"\n",
              "            style=\"display:none;\">\n",
              "\n",
              "  <svg xmlns=\"http://www.w3.org/2000/svg\" height=\"24px\"viewBox=\"0 0 24 24\"\n",
              "       width=\"24px\">\n",
              "    <path d=\"M7,19H8.4L18.45,9,17,7.55,7,17.6ZM5,21V16.75L18.45,3.32a2,2,0,0,1,2.83,0l1.4,1.43a1.91,1.91,0,0,1,.58,1.4,1.91,1.91,0,0,1-.58,1.4L9.25,21ZM18.45,9,17,7.55Zm-12,3A5.31,5.31,0,0,0,4.9,8.1,5.31,5.31,0,0,0,1,6.5,5.31,5.31,0,0,0,4.9,4.9,5.31,5.31,0,0,0,6.5,1,5.31,5.31,0,0,0,8.1,4.9,5.31,5.31,0,0,0,12,6.5,5.46,5.46,0,0,0,6.5,12Z\"/>\n",
              "  </svg>\n",
              "    </button>\n",
              "    <script>\n",
              "      (() => {\n",
              "      const buttonEl =\n",
              "        document.querySelector('#id_4928ca38-90e0-407e-9eb0-624a3000cd38 button.colab-df-generate');\n",
              "      buttonEl.style.display =\n",
              "        google.colab.kernel.accessAllowed ? 'block' : 'none';\n",
              "\n",
              "      buttonEl.onclick = () => {\n",
              "        google.colab.notebook.generateWithVariable('fraud_amount');\n",
              "      }\n",
              "      })();\n",
              "    </script>\n",
              "  </div>\n",
              "\n",
              "    </div>\n",
              "  </div>\n"
            ],
            "application/vnd.google.colaboratory.intrinsic+json": {
              "type": "dataframe",
              "variable_name": "fraud_amount",
              "summary": "{\n  \"name\": \"fraud_amount\",\n  \"rows\": 8213,\n  \"fields\": [\n    {\n      \"column\": \"step\",\n      \"properties\": {\n        \"dtype\": \"uint16\",\n        \"num_unique_values\": 741,\n        \"samples\": [\n          288,\n          328,\n          706\n        ],\n        \"semantic_type\": \"\",\n        \"description\": \"\"\n      }\n    },\n    {\n      \"column\": \"type\",\n      \"properties\": {\n        \"dtype\": \"category\",\n        \"num_unique_values\": 2,\n        \"samples\": [\n          \"TRANSFER\",\n          \"CASH_OUT\"\n        ],\n        \"semantic_type\": \"\",\n        \"description\": \"\"\n      }\n    },\n    {\n      \"column\": \"amount\",\n      \"properties\": {\n        \"dtype\": \"number\",\n        \"std\": 134356.7523944901,\n        \"min\": 4501.3,\n        \"max\": 365423.30900000007,\n        \"num_unique_values\": 1840,\n        \"samples\": [\n          31574.65,\n          82764.07\n        ],\n        \"semantic_type\": \"\",\n        \"description\": \"\"\n      }\n    },\n    {\n      \"column\": \"nameOrig\",\n      \"properties\": {\n        \"dtype\": \"string\",\n        \"num_unique_values\": 8213,\n        \"samples\": [\n          \"C376760344\",\n          \"C1577946828\"\n        ],\n        \"semantic_type\": \"\",\n        \"description\": \"\"\n      }\n    },\n    {\n      \"column\": \"oldbalanceOrg\",\n      \"properties\": {\n        \"dtype\": \"number\",\n        \"std\": 699408.8043877361,\n        \"min\": 0.0,\n        \"max\": 1822508.289000007,\n        \"num_unique_values\": 3195,\n        \"samples\": [\n          438859.1,\n          876753.11\n        ],\n        \"semantic_type\": \"\",\n        \"description\": \"\"\n      }\n    },\n    {\n      \"column\": \"newbalanceOrig\",\n      \"properties\": {\n        \"dtype\": \"number\",\n        \"std\": 255575.4550296035,\n        \"min\": 0.0,\n        \"max\": 1970344.7930000005,\n        \"num_unique_values\": 27,\n        \"samples\": [\n          536624.41,\n          1810044.85\n        ],\n        \"semantic_type\": \"\",\n        \"description\": \"\"\n      }\n    },\n    {\n      \"column\": \"nameDest\",\n      \"properties\": {\n        \"dtype\": \"string\",\n        \"num_unique_values\": 8169,\n        \"samples\": [\n          \"C575638324\",\n          \"C1655653682\"\n        ],\n        \"semantic_type\": \"\",\n        \"description\": \"\"\n      }\n    },\n    {\n      \"column\": \"oldbalanceDest\",\n      \"properties\": {\n        \"dtype\": \"number\",\n        \"std\": 733215.7926909205,\n        \"min\": 0.0,\n        \"max\": 2914266.6690000016,\n        \"num_unique_values\": 2487,\n        \"samples\": [\n          95280.53,\n          436894.35\n        ],\n        \"semantic_type\": \"\",\n        \"description\": \"\"\n      }\n    },\n    {\n      \"column\": \"newbalanceDest\",\n      \"properties\": {\n        \"dtype\": \"number\",\n        \"std\": 1125288.4243788188,\n        \"min\": 0.0,\n        \"max\": 3194869.671000002,\n        \"num_unique_values\": 3133,\n        \"samples\": [\n          2701644.17,\n          138993.63\n        ],\n        \"semantic_type\": \"\",\n        \"description\": \"\"\n      }\n    },\n    {\n      \"column\": \"isFraud\",\n      \"properties\": {\n        \"dtype\": \"uint8\",\n        \"num_unique_values\": 1,\n        \"samples\": [\n          1\n        ],\n        \"semantic_type\": \"\",\n        \"description\": \"\"\n      }\n    },\n    {\n      \"column\": \"isFlaggedFraud\",\n      \"properties\": {\n        \"dtype\": \"uint8\",\n        \"num_unique_values\": 2,\n        \"samples\": [\n          1\n        ],\n        \"semantic_type\": \"\",\n        \"description\": \"\"\n      }\n    }\n  ]\n}"
            }
          },
          "metadata": {},
          "execution_count": 31
        }
      ],
      "source": [
        "fraud_amount= df[df.isFraud==1]\n",
        "fraud_amount=fraud_amount.sort_values(by=['amount'],ascending=False)\n",
        "fraud_amount"
      ]
    },
    {
      "cell_type": "code",
      "execution_count": null,
      "id": "1542acd6",
      "metadata": {
        "id": "1542acd6",
        "outputId": "178eb632-e5d9-4c20-ff19-e0087582ecdd",
        "colab": {
          "base_uri": "https://localhost:8080/",
          "height": 540
        }
      },
      "outputs": [
        {
          "output_type": "execute_result",
          "data": {
            "text/plain": [
              "<Axes: ylabel='Frequency'>"
            ]
          },
          "metadata": {},
          "execution_count": 32
        },
        {
          "output_type": "display_data",
          "data": {
            "text/plain": [
              "<Figure size 1200x600 with 1 Axes>"
            ],
            "image/png": "[encoded data removed]"
          },
          "metadata": {}
        }
      ],
      "source": [
        "fraud_amount.amount.plot(kind='hist', bins=15, figsize=(12,6), facecolor='orange',edgecolor='black')"
      ]
    },
    {
      "cell_type": "markdown",
      "id": "5533ac35",
      "metadata": {
        "id": "5533ac35"
      },
      "source": [
        "We've found that fraud amount transaction ranges between 0.31-0.35 millions.\n",
        "\n",
        "Now, we can see that among them most occured were around 300,000-350,000."
      ]
    },
    {
      "cell_type": "markdown",
      "id": "2a72d2f3",
      "metadata": {
        "id": "2a72d2f3"
      },
      "source": [
        "## nameDest"
      ]
    },
    {
      "cell_type": "code",
      "execution_count": null,
      "id": "6ffa3aad",
      "metadata": {
        "id": "6ffa3aad",
        "outputId": "65af3132-a6b5-465a-e57a-aa3feb8526f6",
        "colab": {
          "base_uri": "https://localhost:8080/",
          "height": 490
        }
      },
      "outputs": [
        {
          "output_type": "execute_result",
          "data": {
            "text/plain": [
              "nameDest\n",
              "C1286084959    113\n",
              "C985934102     109\n",
              "C665576141     105\n",
              "C2083562754    102\n",
              "C248609774     101\n",
              "              ... \n",
              "M1470027725      1\n",
              "M1330329251      1\n",
              "M1784358659      1\n",
              "M2081431099      1\n",
              "C2080388513      1\n",
              "Name: count, Length: 2722362, dtype: int64"
            ],
            "text/html": [
              "<div>\n",
              "<style scoped>\n",
              "    .dataframe tbody tr th:only-of-type {\n",
              "        vertical-align: middle;\n",
              "    }\n",
              "\n",
              "    .dataframe tbody tr th {\n",
              "        vertical-align: top;\n",
              "    }\n",
              "\n",
              "    .dataframe thead th {\n",
              "        text-align: right;\n",
              "    }\n",
              "</style>\n",
              "<table border=\"1\" class=\"dataframe\">\n",
              "  <thead>\n",
              "    <tr style=\"text-align: right;\">\n",
              "      <th></th>\n",
              "      <th>count</th>\n",
              "    </tr>\n",
              "    <tr>\n",
              "      <th>nameDest</th>\n",
              "      <th></th>\n",
              "    </tr>\n",
              "  </thead>\n",
              "  <tbody>\n",
              "    <tr>\n",
              "      <th>C1286084959</th>\n",
              "      <td>113</td>\n",
              "    </tr>\n",
              "    <tr>\n",
              "      <th>C985934102</th>\n",
              "      <td>109</td>\n",
              "    </tr>\n",
              "    <tr>\n",
              "      <th>C665576141</th>\n",
              "      <td>105</td>\n",
              "    </tr>\n",
              "    <tr>\n",
              "      <th>C2083562754</th>\n",
              "      <td>102</td>\n",
              "    </tr>\n",
              "    <tr>\n",
              "      <th>C248609774</th>\n",
              "      <td>101</td>\n",
              "    </tr>\n",
              "    <tr>\n",
              "      <th>...</th>\n",
              "      <td>...</td>\n",
              "    </tr>\n",
              "    <tr>\n",
              "      <th>M1470027725</th>\n",
              "      <td>1</td>\n",
              "    </tr>\n",
              "    <tr>\n",
              "      <th>M1330329251</th>\n",
              "      <td>1</td>\n",
              "    </tr>\n",
              "    <tr>\n",
              "      <th>M1784358659</th>\n",
              "      <td>1</td>\n",
              "    </tr>\n",
              "    <tr>\n",
              "      <th>M2081431099</th>\n",
              "      <td>1</td>\n",
              "    </tr>\n",
              "    <tr>\n",
              "      <th>C2080388513</th>\n",
              "      <td>1</td>\n",
              "    </tr>\n",
              "  </tbody>\n",
              "</table>\n",
              "<p>2722362 rows × 1 columns</p>\n",
              "</div><br><label><b>dtype:</b> int64</label>"
            ]
          },
          "metadata": {},
          "execution_count": 33
        }
      ],
      "source": [
        "fraudster= df.nameDest.value_counts()\n",
        "fraudster"
      ]
    },
    {
      "cell_type": "code",
      "execution_count": null,
      "id": "91b794a8",
      "metadata": {
        "id": "91b794a8",
        "outputId": "69bd2302-912b-4747-b235-db03a4641de9",
        "colab": {
          "base_uri": "https://localhost:8080/",
          "height": 429
        }
      },
      "outputs": [
        {
          "output_type": "execute_result",
          "data": {
            "text/plain": [
              "nameDest\n",
              "C1286084959    113\n",
              "C985934102     109\n",
              "C665576141     105\n",
              "C2083562754    102\n",
              "C248609774     101\n",
              "C1590550415    101\n",
              "C451111351      99\n",
              "C1789550256     99\n",
              "C1360767589     98\n",
              "C1023714065     97\n",
              "Name: count, dtype: int64"
            ],
            "text/html": [
              "<div>\n",
              "<style scoped>\n",
              "    .dataframe tbody tr th:only-of-type {\n",
              "        vertical-align: middle;\n",
              "    }\n",
              "\n",
              "    .dataframe tbody tr th {\n",
              "        vertical-align: top;\n",
              "    }\n",
              "\n",
              "    .dataframe thead th {\n",
              "        text-align: right;\n",
              "    }\n",
              "</style>\n",
              "<table border=\"1\" class=\"dataframe\">\n",
              "  <thead>\n",
              "    <tr style=\"text-align: right;\">\n",
              "      <th></th>\n",
              "      <th>count</th>\n",
              "    </tr>\n",
              "    <tr>\n",
              "      <th>nameDest</th>\n",
              "      <th></th>\n",
              "    </tr>\n",
              "  </thead>\n",
              "  <tbody>\n",
              "    <tr>\n",
              "      <th>C1286084959</th>\n",
              "      <td>113</td>\n",
              "    </tr>\n",
              "    <tr>\n",
              "      <th>C985934102</th>\n",
              "      <td>109</td>\n",
              "    </tr>\n",
              "    <tr>\n",
              "      <th>C665576141</th>\n",
              "      <td>105</td>\n",
              "    </tr>\n",
              "    <tr>\n",
              "      <th>C2083562754</th>\n",
              "      <td>102</td>\n",
              "    </tr>\n",
              "    <tr>\n",
              "      <th>C248609774</th>\n",
              "      <td>101</td>\n",
              "    </tr>\n",
              "    <tr>\n",
              "      <th>C1590550415</th>\n",
              "      <td>101</td>\n",
              "    </tr>\n",
              "    <tr>\n",
              "      <th>C451111351</th>\n",
              "      <td>99</td>\n",
              "    </tr>\n",
              "    <tr>\n",
              "      <th>C1789550256</th>\n",
              "      <td>99</td>\n",
              "    </tr>\n",
              "    <tr>\n",
              "      <th>C1360767589</th>\n",
              "      <td>98</td>\n",
              "    </tr>\n",
              "    <tr>\n",
              "      <th>C1023714065</th>\n",
              "      <td>97</td>\n",
              "    </tr>\n",
              "  </tbody>\n",
              "</table>\n",
              "</div><br><label><b>dtype:</b> int64</label>"
            ]
          },
          "metadata": {},
          "execution_count": 34
        }
      ],
      "source": [
        "fraudster[:10]"
      ]
    },
    {
      "cell_type": "code",
      "execution_count": null,
      "id": "04c3ac6c",
      "metadata": {
        "id": "04c3ac6c",
        "outputId": "2b89e211-107f-4dcb-c42b-1ff7b5a68763",
        "colab": {
          "base_uri": "https://localhost:8080/",
          "height": 448
        }
      },
      "outputs": [
        {
          "output_type": "execute_result",
          "data": {
            "text/plain": [
              "<Axes: ylabel='nameDest'>"
            ]
          },
          "metadata": {},
          "execution_count": 35
        },
        {
          "output_type": "display_data",
          "data": {
            "text/plain": [
              "<Figure size 640x480 with 1 Axes>"
            ],
            "image/png": "[encoded data removed]"
          },
          "metadata": {}
        }
      ],
      "source": [
        "fraudster[:10].plot(kind='barh')"
      ]
    },
    {
      "cell_type": "markdown",
      "id": "d8030473",
      "metadata": {
        "id": "d8030473"
      },
      "source": [
        "## Step"
      ]
    },
    {
      "cell_type": "code",
      "execution_count": null,
      "id": "b998b437",
      "metadata": {
        "id": "b998b437",
        "outputId": "e3423468-8354-4eef-c83a-c6da794e034e",
        "colab": {
          "base_uri": "https://localhost:8080/",
          "height": 557
        }
      },
      "outputs": [
        {
          "output_type": "execute_result",
          "data": {
            "text/plain": [
              "<Axes: xlabel='step', ylabel='Density'>"
            ]
          },
          "metadata": {},
          "execution_count": 36
        },
        {
          "output_type": "display_data",
          "data": {
            "text/plain": [
              "<Figure size 1500x600 with 1 Axes>"
            ],
            "image/png": "[encoded data removed]"
          },
          "metadata": {}
        }
      ],
      "source": [
        "plt.figure(figsize=(15, 6))\n",
        "sns.distplot(df['step'], bins=50)"
      ]
    },
    {
      "cell_type": "markdown",
      "id": "e981b407",
      "metadata": {
        "id": "e981b407"
      },
      "source": [
        "#### There is a maximum distribution of 150 to 400 of step"
      ]
    },
    {
      "cell_type": "markdown",
      "id": "4868b6ca",
      "metadata": {
        "id": "4868b6ca"
      },
      "source": [
        "## Correlation between features"
      ]
    },
    {
      "cell_type": "markdown",
      "id": "85305d89",
      "metadata": {
        "id": "85305d89"
      },
      "source": [
        "#calculate correlation matrix\n",
        "corr = df.corr()# plot the heatmap\n",
        "sns.heatmap(corr, xticklabels=corr.columns, yticklabels=corr.columns, annot=True, cmap='Blues' ,fmt=\".3f\")"
      ]
    },
    {
      "cell_type": "markdown",
      "id": "a8f766c2",
      "metadata": {
        "id": "a8f766c2"
      },
      "source": [
        "There is a high correlation between newbalanceOrig and oldbalanceOrg.\n",
        "\n",
        "Also, between newbalanceDest and oldbalanceDest.\n",
        "\n",
        "Apart from that, we have a relatively high correlation between amount and newbalanceDest and amount with oldbalanceDest# There is a high correlation between newbalanceOrig and oldbalanceOrg.\n",
        "\n",
        "Also, between newbalanceDest and oldbalanceDest.\n",
        "\n",
        "Apart from that, we have a relatively high correlation between amount and newbalanceDest and amount with oldbalanceDest"
      ]
    },
    {
      "cell_type": "code",
      "execution_count": null,
      "id": "6df5f82c",
      "metadata": {
        "id": "6df5f82c",
        "outputId": "14300b82-15c6-4031-d453-d061c259b0db",
        "colab": {
          "base_uri": "https://localhost:8080/",
          "height": 178
        }
      },
      "outputs": [
        {
          "output_type": "execute_result",
          "data": {
            "text/plain": [
              "isFraud\n",
              "0    6354407\n",
              "1       8213\n",
              "Name: count, dtype: int64"
            ],
            "text/html": [
              "<div>\n",
              "<style scoped>\n",
              "    .dataframe tbody tr th:only-of-type {\n",
              "        vertical-align: middle;\n",
              "    }\n",
              "\n",
              "    .dataframe tbody tr th {\n",
              "        vertical-align: top;\n",
              "    }\n",
              "\n",
              "    .dataframe thead th {\n",
              "        text-align: right;\n",
              "    }\n",
              "</style>\n",
              "<table border=\"1\" class=\"dataframe\">\n",
              "  <thead>\n",
              "    <tr style=\"text-align: right;\">\n",
              "      <th></th>\n",
              "      <th>count</th>\n",
              "    </tr>\n",
              "    <tr>\n",
              "      <th>isFraud</th>\n",
              "      <th></th>\n",
              "    </tr>\n",
              "  </thead>\n",
              "  <tbody>\n",
              "    <tr>\n",
              "      <th>0</th>\n",
              "      <td>6354407</td>\n",
              "    </tr>\n",
              "    <tr>\n",
              "      <th>1</th>\n",
              "      <td>8213</td>\n",
              "    </tr>\n",
              "  </tbody>\n",
              "</table>\n",
              "</div><br><label><b>dtype:</b> int64</label>"
            ]
          },
          "metadata": {},
          "execution_count": 37
        }
      ],
      "source": [
        "onlinefraud['isFraud'].value_counts()"
      ]
    },
    {
      "cell_type": "markdown",
      "id": "efc48cb9",
      "metadata": {
        "id": "efc48cb9"
      },
      "source": [
        "The class 0 is the legitimate transactions, and the class 1 is the fraudulent transactions. We can see that there are 1047433 legit transactions and 1142 fraudulent transactions. Since our aim is to predict the fraudulent transactions, we call it the positive class, and these fraudulent transactions are just 0.109% of the total transactions.\n",
        "\n",
        "Hence, this dataset is highly unbalanced. If the dataset is left unbalanced, it can lead to biased models that are better at predicting the negative cases than the positive ones. Therefore we need to account for this imbalance by balancing this dataset for the maximum precision while predicting the Online transaction Frauds through our Models.\n",
        "\n",
        "There are two ways we can achieve this:\n",
        "\n",
        "Undersampling\n",
        "\n",
        "Oversampling\n",
        "\n",
        "We plan to use both the techniques in the data and later we will be seeing the results and deciding the technique that gives us better results."
      ]
    },
    {
      "cell_type": "markdown",
      "id": "72526803",
      "metadata": {
        "id": "72526803"
      },
      "source": [
        "## Separating the data for analysis"
      ]
    },
    {
      "cell_type": "code",
      "execution_count": null,
      "id": "cf7fc574",
      "metadata": {
        "id": "cf7fc574"
      },
      "outputs": [],
      "source": [
        "legit_txns = onlinefraud[onlinefraud.isFraud == 0]\n",
        "fraud_txns = onlinefraud[onlinefraud.isFraud == 1]"
      ]
    },
    {
      "cell_type": "markdown",
      "id": "1cc05c34",
      "metadata": {
        "id": "1cc05c34"
      },
      "source": [
        "#### Checking the shape of the distributions"
      ]
    },
    {
      "cell_type": "code",
      "execution_count": null,
      "id": "45b3a8da",
      "metadata": {
        "id": "45b3a8da",
        "outputId": "ff0ab6e6-5c81-4076-f6ac-c5e81a31a18e",
        "colab": {
          "base_uri": "https://localhost:8080/"
        }
      },
      "outputs": [
        {
          "output_type": "stream",
          "name": "stdout",
          "text": [
            "(6354407, 11)\n",
            "(8213, 11)\n"
          ]
        }
      ],
      "source": [
        "print(legit_txns.shape)\n",
        "print(fraud_txns.shape)"
      ]
    },
    {
      "cell_type": "markdown",
      "id": "053094ad",
      "metadata": {
        "id": "053094ad"
      },
      "source": [
        "## Checking the statistical measures of the data for comaprison after Undersampling\n",
        "\n",
        "We take the Mean of all the columns and verify the data before and after undersampling because we need to check the difference in statistical measures both before and after the undersampling process."
      ]
    },
    {
      "cell_type": "code",
      "execution_count": null,
      "id": "39f31a72",
      "metadata": {
        "id": "39f31a72",
        "outputId": "41937735-3223-4894-b2e2-c0ba497cec52",
        "colab": {
          "base_uri": "https://localhost:8080/",
          "height": 335
        }
      },
      "outputs": [
        {
          "output_type": "execute_result",
          "data": {
            "text/plain": [
              "count    6.354407e+06\n",
              "mean     1.224220e+05\n",
              "std      1.240375e+05\n",
              "min      4.501300e+03\n",
              "25%      1.336840e+04\n",
              "50%      7.468472e+04\n",
              "75%      2.083648e+05\n",
              "max      3.654233e+05\n",
              "Name: amount, dtype: float64"
            ],
            "text/html": [
              "<div>\n",
              "<style scoped>\n",
              "    .dataframe tbody tr th:only-of-type {\n",
              "        vertical-align: middle;\n",
              "    }\n",
              "\n",
              "    .dataframe tbody tr th {\n",
              "        vertical-align: top;\n",
              "    }\n",
              "\n",
              "    .dataframe thead th {\n",
              "        text-align: right;\n",
              "    }\n",
              "</style>\n",
              "<table border=\"1\" class=\"dataframe\">\n",
              "  <thead>\n",
              "    <tr style=\"text-align: right;\">\n",
              "      <th></th>\n",
              "      <th>amount</th>\n",
              "    </tr>\n",
              "  </thead>\n",
              "  <tbody>\n",
              "    <tr>\n",
              "      <th>count</th>\n",
              "      <td>6.354407e+06</td>\n",
              "    </tr>\n",
              "    <tr>\n",
              "      <th>mean</th>\n",
              "      <td>1.224220e+05</td>\n",
              "    </tr>\n",
              "    <tr>\n",
              "      <th>std</th>\n",
              "      <td>1.240375e+05</td>\n",
              "    </tr>\n",
              "    <tr>\n",
              "      <th>min</th>\n",
              "      <td>4.501300e+03</td>\n",
              "    </tr>\n",
              "    <tr>\n",
              "      <th>25%</th>\n",
              "      <td>1.336840e+04</td>\n",
              "    </tr>\n",
              "    <tr>\n",
              "      <th>50%</th>\n",
              "      <td>7.468472e+04</td>\n",
              "    </tr>\n",
              "    <tr>\n",
              "      <th>75%</th>\n",
              "      <td>2.083648e+05</td>\n",
              "    </tr>\n",
              "    <tr>\n",
              "      <th>max</th>\n",
              "      <td>3.654233e+05</td>\n",
              "    </tr>\n",
              "  </tbody>\n",
              "</table>\n",
              "</div><br><label><b>dtype:</b> float64</label>"
            ]
          },
          "metadata": {},
          "execution_count": 40
        }
      ],
      "source": [
        "legit_txns.amount.describe()"
      ]
    },
    {
      "cell_type": "code",
      "execution_count": null,
      "id": "8aa67db7",
      "metadata": {
        "id": "8aa67db7",
        "outputId": "7c819ce2-438d-4516-e9f8-4f6dea6975c3",
        "colab": {
          "base_uri": "https://localhost:8080/",
          "height": 335
        }
      },
      "outputs": [
        {
          "output_type": "execute_result",
          "data": {
            "text/plain": [
              "count      8213.000000\n",
              "mean     259417.430392\n",
              "std      134356.752394\n",
              "min        4501.300000\n",
              "25%      127091.330000\n",
              "50%      365423.309000\n",
              "75%      365423.309000\n",
              "max      365423.309000\n",
              "Name: amount, dtype: float64"
            ],
            "text/html": [
              "<div>\n",
              "<style scoped>\n",
              "    .dataframe tbody tr th:only-of-type {\n",
              "        vertical-align: middle;\n",
              "    }\n",
              "\n",
              "    .dataframe tbody tr th {\n",
              "        vertical-align: top;\n",
              "    }\n",
              "\n",
              "    .dataframe thead th {\n",
              "        text-align: right;\n",
              "    }\n",
              "</style>\n",
              "<table border=\"1\" class=\"dataframe\">\n",
              "  <thead>\n",
              "    <tr style=\"text-align: right;\">\n",
              "      <th></th>\n",
              "      <th>amount</th>\n",
              "    </tr>\n",
              "  </thead>\n",
              "  <tbody>\n",
              "    <tr>\n",
              "      <th>count</th>\n",
              "      <td>8213.000000</td>\n",
              "    </tr>\n",
              "    <tr>\n",
              "      <th>mean</th>\n",
              "      <td>259417.430392</td>\n",
              "    </tr>\n",
              "    <tr>\n",
              "      <th>std</th>\n",
              "      <td>134356.752394</td>\n",
              "    </tr>\n",
              "    <tr>\n",
              "      <th>min</th>\n",
              "      <td>4501.300000</td>\n",
              "    </tr>\n",
              "    <tr>\n",
              "      <th>25%</th>\n",
              "      <td>127091.330000</td>\n",
              "    </tr>\n",
              "    <tr>\n",
              "      <th>50%</th>\n",
              "      <td>365423.309000</td>\n",
              "    </tr>\n",
              "    <tr>\n",
              "      <th>75%</th>\n",
              "      <td>365423.309000</td>\n",
              "    </tr>\n",
              "    <tr>\n",
              "      <th>max</th>\n",
              "      <td>365423.309000</td>\n",
              "    </tr>\n",
              "  </tbody>\n",
              "</table>\n",
              "</div><br><label><b>dtype:</b> float64</label>"
            ]
          },
          "metadata": {},
          "execution_count": 41
        }
      ],
      "source": [
        "fraud_txns.amount.describe()"
      ]
    },
    {
      "cell_type": "markdown",
      "id": "c13d1e24",
      "metadata": {
        "id": "c13d1e24"
      },
      "source": [
        "#### Building the new undersampled dataset\n",
        "\n",
        "Since the number of fraudulent transactions is 8213, we take 8213 samples of the legit transactions and concatenate both of them to make a well-balanced dataset."
      ]
    },
    {
      "cell_type": "code",
      "execution_count": null,
      "id": "63ae364c",
      "metadata": {
        "id": "63ae364c"
      },
      "outputs": [],
      "source": [
        "legit_sample = legit_txns.sample(n=8213) # Samples 8213 transactions out of the legit transactions\n",
        "\n",
        "undersampled_dataset = pd.concat([legit_sample, fraud_txns], axis=0) # Concatenates all the 8213 the fraud_txns and the 8213 samples of the legit txns"
      ]
    },
    {
      "cell_type": "markdown",
      "id": "f59b677f",
      "metadata": {
        "id": "f59b677f"
      },
      "source": [
        "#### Checking the newly built undersampled dataset.\n",
        "\n",
        "We can see the head, tail and counts of values and statistical measures of the newly built undersampled dataset."
      ]
    },
    {
      "cell_type": "code",
      "execution_count": null,
      "id": "9c771b93",
      "metadata": {
        "id": "9c771b93",
        "outputId": "c886753d-c799-473b-b47b-34385aab6bd5",
        "colab": {
          "base_uri": "https://localhost:8080/",
          "height": 226
        }
      },
      "outputs": [
        {
          "output_type": "execute_result",
          "data": {
            "text/plain": [
              "         step      type      amount     nameOrig  oldbalanceOrg  \\\n",
              "2307875   188   CASH_IN   92220.600   C192315002      102418.00   \n",
              "76225      10  TRANSFER  365423.309  C1323331664        3823.33   \n",
              "378084     17   CASH_IN  223714.050  C2106093614      833103.90   \n",
              "1841910   163  CASH_OUT  184934.790  C1618831079       31462.00   \n",
              "901390     43  CASH_OUT  268655.810    C64349152           0.00   \n",
              "\n",
              "         newbalanceOrig     nameDest  oldbalanceDest  newbalanceDest  isFraud  \\\n",
              "2307875       194638.60   C707978906     2914266.669     3194869.671        0   \n",
              "76225              0.00  C2144240673     2582656.070     3194869.671        0   \n",
              "378084       1056817.95  C1133105949      338984.020      115269.970        0   \n",
              "1841910            0.00    C76463246     2498232.100     2683166.880        0   \n",
              "901390             0.00  C1696193673      700200.560      968856.370        0   \n",
              "\n",
              "         isFlaggedFraud  \n",
              "2307875               0  \n",
              "76225                 0  \n",
              "378084                0  \n",
              "1841910               0  \n",
              "901390                0  "
            ],
            "text/html": [
              "\n",
              "  <div id=\"df-495559ec-3240-47b0-a985-3614b681b771\" class=\"colab-df-container\">\n",
              "    <div>\n",
              "<style scoped>\n",
              "    .dataframe tbody tr th:only-of-type {\n",
              "        vertical-align: middle;\n",
              "    }\n",
              "\n",
              "    .dataframe tbody tr th {\n",
              "        vertical-align: top;\n",
              "    }\n",
              "\n",
              "    .dataframe thead th {\n",
              "        text-align: right;\n",
              "    }\n",
              "</style>\n",
              "<table border=\"1\" class=\"dataframe\">\n",
              "  <thead>\n",
              "    <tr style=\"text-align: right;\">\n",
              "      <th></th>\n",
              "      <th>step</th>\n",
              "      <th>type</th>\n",
              "      <th>amount</th>\n",
              "      <th>nameOrig</th>\n",
              "      <th>oldbalanceOrg</th>\n",
              "      <th>newbalanceOrig</th>\n",
              "      <th>nameDest</th>\n",
              "      <th>oldbalanceDest</th>\n",
              "      <th>newbalanceDest</th>\n",
              "      <th>isFraud</th>\n",
              "      <th>isFlaggedFraud</th>\n",
              "    </tr>\n",
              "  </thead>\n",
              "  <tbody>\n",
              "    <tr>\n",
              "      <th>2307875</th>\n",
              "      <td>188</td>\n",
              "      <td>CASH_IN</td>\n",
              "      <td>92220.600</td>\n",
              "      <td>C192315002</td>\n",
              "      <td>102418.00</td>\n",
              "      <td>194638.60</td>\n",
              "      <td>C707978906</td>\n",
              "      <td>2914266.669</td>\n",
              "      <td>3194869.671</td>\n",
              "      <td>0</td>\n",
              "      <td>0</td>\n",
              "    </tr>\n",
              "    <tr>\n",
              "      <th>76225</th>\n",
              "      <td>10</td>\n",
              "      <td>TRANSFER</td>\n",
              "      <td>365423.309</td>\n",
              "      <td>C1323331664</td>\n",
              "      <td>3823.33</td>\n",
              "      <td>0.00</td>\n",
              "      <td>C2144240673</td>\n",
              "      <td>2582656.070</td>\n",
              "      <td>3194869.671</td>\n",
              "      <td>0</td>\n",
              "      <td>0</td>\n",
              "    </tr>\n",
              "    <tr>\n",
              "      <th>378084</th>\n",
              "      <td>17</td>\n",
              "      <td>CASH_IN</td>\n",
              "      <td>223714.050</td>\n",
              "      <td>C2106093614</td>\n",
              "      <td>833103.90</td>\n",
              "      <td>1056817.95</td>\n",
              "      <td>C1133105949</td>\n",
              "      <td>338984.020</td>\n",
              "      <td>115269.970</td>\n",
              "      <td>0</td>\n",
              "      <td>0</td>\n",
              "    </tr>\n",
              "    <tr>\n",
              "      <th>1841910</th>\n",
              "      <td>163</td>\n",
              "      <td>CASH_OUT</td>\n",
              "      <td>184934.790</td>\n",
              "      <td>C1618831079</td>\n",
              "      <td>31462.00</td>\n",
              "      <td>0.00</td>\n",
              "      <td>C76463246</td>\n",
              "      <td>2498232.100</td>\n",
              "      <td>2683166.880</td>\n",
              "      <td>0</td>\n",
              "      <td>0</td>\n",
              "    </tr>\n",
              "    <tr>\n",
              "      <th>901390</th>\n",
              "      <td>43</td>\n",
              "      <td>CASH_OUT</td>\n",
              "      <td>268655.810</td>\n",
              "      <td>C64349152</td>\n",
              "      <td>0.00</td>\n",
              "      <td>0.00</td>\n",
              "      <td>C1696193673</td>\n",
              "      <td>700200.560</td>\n",
              "      <td>968856.370</td>\n",
              "      <td>0</td>\n",
              "      <td>0</td>\n",
              "    </tr>\n",
              "  </tbody>\n",
              "</table>\n",
              "</div>\n",
              "    <div class=\"colab-df-buttons\">\n",
              "\n",
              "  <div class=\"colab-df-container\">\n",
              "    <button class=\"colab-df-convert\" onclick=\"convertToInteractive('df-495559ec-3240-47b0-a985-3614b681b771')\"\n",
              "            title=\"Convert this dataframe to an interactive table.\"\n",
              "            style=\"display:none;\">\n",
              "\n",
              "  <svg xmlns=\"http://www.w3.org/2000/svg\" height=\"24px\" viewBox=\"0 -960 960 960\">\n",
              "    <path d=\"M120-120v-720h720v720H120Zm60-500h600v-160H180v160Zm220 220h160v-160H400v160Zm0 220h160v-160H400v160ZM180-400h160v-160H180v160Zm440 0h160v-160H620v160ZM180-180h160v-160H180v160Zm440 0h160v-160H620v160Z\"/>\n",
              "  </svg>\n",
              "    </button>\n",
              "\n",
              "  <style>\n",
              "    .colab-df-container {\n",
              "      display:flex;\n",
              "      gap: 12px;\n",
              "    }\n",
              "\n",
              "    .colab-df-convert {\n",
              "      background-color: #E8F0FE;\n",
              "      border: none;\n",
              "      border-radius: 50%;\n",
              "      cursor: pointer;\n",
              "      display: none;\n",
              "      fill: #1967D2;\n",
              "      height: 32px;\n",
              "      padding: 0 0 0 0;\n",
              "      width: 32px;\n",
              "    }\n",
              "\n",
              "    .colab-df-convert:hover {\n",
              "      background-color: #E2EBFA;\n",
              "      box-shadow: 0px 1px 2px rgba(60, 64, 67, 0.3), 0px 1px 3px 1px rgba(60, 64, 67, 0.15);\n",
              "      fill: #174EA6;\n",
              "    }\n",
              "\n",
              "    .colab-df-buttons div {\n",
              "      margin-bottom: 4px;\n",
              "    }\n",
              "\n",
              "    [theme=dark] .colab-df-convert {\n",
              "      background-color: #3B4455;\n",
              "      fill: #D2E3FC;\n",
              "    }\n",
              "\n",
              "    [theme=dark] .colab-df-convert:hover {\n",
              "      background-color: #434B5C;\n",
              "      box-shadow: 0px 1px 3px 1px rgba(0, 0, 0, 0.15);\n",
              "      filter: drop-shadow(0px 1px 2px rgba(0, 0, 0, 0.3));\n",
              "      fill: #FFFFFF;\n",
              "    }\n",
              "  </style>\n",
              "\n",
              "    <script>\n",
              "      const buttonEl =\n",
              "        document.querySelector('#df-495559ec-3240-47b0-a985-3614b681b771 button.colab-df-convert');\n",
              "      buttonEl.style.display =\n",
              "        google.colab.kernel.accessAllowed ? 'block' : 'none';\n",
              "\n",
              "      async function convertToInteractive(key) {\n",
              "        const element = document.querySelector('#df-495559ec-3240-47b0-a985-3614b681b771');\n",
              "        const dataTable =\n",
              "          await google.colab.kernel.invokeFunction('convertToInteractive',\n",
              "                                                    [key], {});\n",
              "        if (!dataTable) return;\n",
              "\n",
              "        const docLinkHtml = 'Like what you see? Visit the ' +\n",
              "          '<a target=\"_blank\" href=https://colab.research.google.com/notebooks/data_table.ipynb>data table notebook</a>'\n",
              "          + ' to learn more about interactive tables.';\n",
              "        element.innerHTML = '';\n",
              "        dataTable['output_type'] = 'display_data';\n",
              "        await google.colab.output.renderOutput(dataTable, element);\n",
              "        const docLink = document.createElement('div');\n",
              "        docLink.innerHTML = docLinkHtml;\n",
              "        element.appendChild(docLink);\n",
              "      }\n",
              "    </script>\n",
              "  </div>\n",
              "\n",
              "\n",
              "<div id=\"df-54062d92-5fa7-4cac-bfef-74db25b7fb30\">\n",
              "  <button class=\"colab-df-quickchart\" onclick=\"quickchart('df-54062d92-5fa7-4cac-bfef-74db25b7fb30')\"\n",
              "            title=\"Suggest charts\"\n",
              "            style=\"display:none;\">\n",
              "\n",
              "<svg xmlns=\"http://www.w3.org/2000/svg\" height=\"24px\"viewBox=\"0 0 24 24\"\n",
              "     width=\"24px\">\n",
              "    <g>\n",
              "        <path d=\"M19 3H5c-1.1 0-2 .9-2 2v14c0 1.1.9 2 2 2h14c1.1 0 2-.9 2-2V5c0-1.1-.9-2-2-2zM9 17H7v-7h2v7zm4 0h-2V7h2v10zm4 0h-2v-4h2v4z\"/>\n",
              "    </g>\n",
              "</svg>\n",
              "  </button>\n",
              "\n",
              "<style>\n",
              "  .colab-df-quickchart {\n",
              "      --bg-color: #E8F0FE;\n",
              "      --fill-color: #1967D2;\n",
              "      --hover-bg-color: #E2EBFA;\n",
              "      --hover-fill-color: #174EA6;\n",
              "      --disabled-fill-color: #AAA;\n",
              "      --disabled-bg-color: #DDD;\n",
              "  }\n",
              "\n",
              "  [theme=dark] .colab-df-quickchart {\n",
              "      --bg-color: #3B4455;\n",
              "      --fill-color: #D2E3FC;\n",
              "      --hover-bg-color: #434B5C;\n",
              "      --hover-fill-color: #FFFFFF;\n",
              "      --disabled-bg-color: #3B4455;\n",
              "      --disabled-fill-color: #666;\n",
              "  }\n",
              "\n",
              "  .colab-df-quickchart {\n",
              "    background-color: var(--bg-color);\n",
              "    border: none;\n",
              "    border-radius: 50%;\n",
              "    cursor: pointer;\n",
              "    display: none;\n",
              "    fill: var(--fill-color);\n",
              "    height: 32px;\n",
              "    padding: 0;\n",
              "    width: 32px;\n",
              "  }\n",
              "\n",
              "  .colab-df-quickchart:hover {\n",
              "    background-color: var(--hover-bg-color);\n",
              "    box-shadow: 0 1px 2px rgba(60, 64, 67, 0.3), 0 1px 3px 1px rgba(60, 64, 67, 0.15);\n",
              "    fill: var(--button-hover-fill-color);\n",
              "  }\n",
              "\n",
              "  .colab-df-quickchart-complete:disabled,\n",
              "  .colab-df-quickchart-complete:disabled:hover {\n",
              "    background-color: var(--disabled-bg-color);\n",
              "    fill: var(--disabled-fill-color);\n",
              "    box-shadow: none;\n",
              "  }\n",
              "\n",
              "  .colab-df-spinner {\n",
              "    border: 2px solid var(--fill-color);\n",
              "    border-color: transparent;\n",
              "    border-bottom-color: var(--fill-color);\n",
              "    animation:\n",
              "      spin 1s steps(1) infinite;\n",
              "  }\n",
              "\n",
              "  @keyframes spin {\n",
              "    0% {\n",
              "      border-color: transparent;\n",
              "      border-bottom-color: var(--fill-color);\n",
              "      border-left-color: var(--fill-color);\n",
              "    }\n",
              "    20% {\n",
              "      border-color: transparent;\n",
              "      border-left-color: var(--fill-color);\n",
              "      border-top-color: var(--fill-color);\n",
              "    }\n",
              "    30% {\n",
              "      border-color: transparent;\n",
              "      border-left-color: var(--fill-color);\n",
              "      border-top-color: var(--fill-color);\n",
              "      border-right-color: var(--fill-color);\n",
              "    }\n",
              "    40% {\n",
              "      border-color: transparent;\n",
              "      border-right-color: var(--fill-color);\n",
              "      border-top-color: var(--fill-color);\n",
              "    }\n",
              "    60% {\n",
              "      border-color: transparent;\n",
              "      border-right-color: var(--fill-color);\n",
              "    }\n",
              "    80% {\n",
              "      border-color: transparent;\n",
              "      border-right-color: var(--fill-color);\n",
              "      border-bottom-color: var(--fill-color);\n",
              "    }\n",
              "    90% {\n",
              "      border-color: transparent;\n",
              "      border-bottom-color: var(--fill-color);\n",
              "    }\n",
              "  }\n",
              "</style>\n",
              "\n",
              "  <script>\n",
              "    async function quickchart(key) {\n",
              "      const quickchartButtonEl =\n",
              "        document.querySelector('#' + key + ' button');\n",
              "      quickchartButtonEl.disabled = true;  // To prevent multiple clicks.\n",
              "      quickchartButtonEl.classList.add('colab-df-spinner');\n",
              "      try {\n",
              "        const charts = await google.colab.kernel.invokeFunction(\n",
              "            'suggestCharts', [key], {});\n",
              "      } catch (error) {\n",
              "        console.error('Error during call to suggestCharts:', error);\n",
              "      }\n",
              "      quickchartButtonEl.classList.remove('colab-df-spinner');\n",
              "      quickchartButtonEl.classList.add('colab-df-quickchart-complete');\n",
              "    }\n",
              "    (() => {\n",
              "      let quickchartButtonEl =\n",
              "        document.querySelector('#df-54062d92-5fa7-4cac-bfef-74db25b7fb30 button');\n",
              "      quickchartButtonEl.style.display =\n",
              "        google.colab.kernel.accessAllowed ? 'block' : 'none';\n",
              "    })();\n",
              "  </script>\n",
              "</div>\n",
              "\n",
              "    </div>\n",
              "  </div>\n"
            ],
            "application/vnd.google.colaboratory.intrinsic+json": {
              "type": "dataframe",
              "variable_name": "undersampled_dataset",
              "summary": "{\n  \"name\": \"undersampled_dataset\",\n  \"rows\": 16426,\n  \"fields\": [\n    {\n      \"column\": \"step\",\n      \"properties\": {\n        \"dtype\": \"uint16\",\n        \"num_unique_values\": 743,\n        \"samples\": [\n          554,\n          447,\n          676\n        ],\n        \"semantic_type\": \"\",\n        \"description\": \"\"\n      }\n    },\n    {\n      \"column\": \"type\",\n      \"properties\": {\n        \"dtype\": \"category\",\n        \"num_unique_values\": 5,\n        \"samples\": [\n          \"TRANSFER\",\n          \"DEBIT\",\n          \"CASH_OUT\"\n        ],\n        \"semantic_type\": \"\",\n        \"description\": \"\"\n      }\n    },\n    {\n      \"column\": \"amount\",\n      \"properties\": {\n        \"dtype\": \"number\",\n        \"std\": 146856.35470998028,\n        \"min\": 4501.3,\n        \"max\": 365423.30900000007,\n        \"num_unique_values\": 8438,\n        \"samples\": [\n          10987.98,\n          9653.87,\n          7039.61\n        ],\n        \"semantic_type\": \"\",\n        \"description\": \"\"\n      }\n    },\n    {\n      \"column\": \"nameOrig\",\n      \"properties\": {\n        \"dtype\": \"string\",\n        \"num_unique_values\": 16426,\n        \"samples\": [\n          \"C2014325113\",\n          \"C1174332140\",\n          \"C166315308\"\n        ],\n        \"semantic_type\": \"\",\n        \"description\": \"\"\n      }\n    },\n    {\n      \"column\": \"oldbalanceOrg\",\n      \"properties\": {\n        \"dtype\": \"number\",\n        \"std\": 675491.0278277564,\n        \"min\": 0.0,\n        \"max\": 1822508.289000007,\n        \"num_unique_values\": 7662,\n        \"samples\": [\n          1494432.21,\n          1125.0,\n          371652.07\n        ],\n        \"semantic_type\": \"\",\n        \"description\": \"\"\n      }\n    },\n    {\n      \"column\": \"newbalanceOrig\",\n      \"properties\": {\n        \"dtype\": \"number\",\n        \"std\": 471950.8501181443,\n        \"min\": 0.0,\n        \"max\": 1970344.7930000005,\n        \"num_unique_values\": 2670,\n        \"samples\": [\n          3519.93,\n          158880.3,\n          378561.7\n        ],\n        \"semantic_type\": \"\",\n        \"description\": \"\"\n      }\n    },\n    {\n      \"column\": \"nameDest\",\n      \"properties\": {\n        \"dtype\": \"string\",\n        \"num_unique_values\": 16258,\n        \"samples\": [\n          \"C1527134062\",\n          \"C1646194293\",\n          \"C1880832297\"\n        ],\n        \"semantic_type\": \"\",\n        \"description\": \"\"\n      }\n    },\n    {\n      \"column\": \"oldbalanceDest\",\n      \"properties\": {\n        \"dtype\": \"number\",\n        \"std\": 882631.5886710386,\n        \"min\": 0.0,\n        \"max\": 2914266.6690000016,\n        \"num_unique_values\": 6279,\n        \"samples\": [\n          734229.64,\n          43049.23,\n          210172.71\n        ],\n        \"semantic_type\": \"\",\n        \"description\": \"\"\n      }\n    },\n    {\n      \"column\": \"newbalanceDest\",\n      \"properties\": {\n        \"dtype\": \"number\",\n        \"std\": 1099195.353766303,\n        \"min\": 0.0,\n        \"max\": 3194869.671000002,\n        \"num_unique_values\": 7263,\n        \"samples\": [\n          582172.65,\n          722773.75,\n          316849.08\n        ],\n        \"semantic_type\": \"\",\n        \"description\": \"\"\n      }\n    },\n    {\n      \"column\": \"isFraud\",\n      \"properties\": {\n        \"dtype\": \"uint8\",\n        \"num_unique_values\": 2,\n        \"samples\": [\n          1,\n          0\n        ],\n        \"semantic_type\": \"\",\n        \"description\": \"\"\n      }\n    },\n    {\n      \"column\": \"isFlaggedFraud\",\n      \"properties\": {\n        \"dtype\": \"uint8\",\n        \"num_unique_values\": 2,\n        \"samples\": [\n          1,\n          0\n        ],\n        \"semantic_type\": \"\",\n        \"description\": \"\"\n      }\n    }\n  ]\n}"
            }
          },
          "metadata": {},
          "execution_count": 44
        }
      ],
      "source": [
        "undersampled_dataset.head()"
      ]
    },
    {
      "cell_type": "code",
      "execution_count": null,
      "id": "807c4734",
      "metadata": {
        "id": "807c4734",
        "outputId": "51ad37ce-7c56-4f84-9685-41f858c39c77",
        "colab": {
          "base_uri": "https://localhost:8080/",
          "height": 226
        }
      },
      "outputs": [
        {
          "output_type": "execute_result",
          "data": {
            "text/plain": [
              "         step      type      amount     nameOrig  oldbalanceOrg  \\\n",
              "6362615   743  CASH_OUT  339682.130   C786484425     339682.130   \n",
              "6362616   743  TRANSFER  365423.309  C1529008245    1822508.289   \n",
              "6362617   743  CASH_OUT  365423.309  C1162922333    1822508.289   \n",
              "6362618   743  TRANSFER  365423.309  C1685995037     850002.520   \n",
              "6362619   743  CASH_OUT  365423.309  C1280323807     850002.520   \n",
              "\n",
              "         newbalanceOrig     nameDest  oldbalanceDest  newbalanceDest  isFraud  \\\n",
              "6362615             0.0   C776919290           0.000      339682.130        1   \n",
              "6362616             0.0  C1881841831           0.000           0.000        1   \n",
              "6362617             0.0  C1365125890       68488.840     3194869.671        1   \n",
              "6362618             0.0  C2080388513           0.000           0.000        1   \n",
              "6362619             0.0   C873221189     2914266.669     3194869.671        1   \n",
              "\n",
              "         isFlaggedFraud  \n",
              "6362615               0  \n",
              "6362616               0  \n",
              "6362617               0  \n",
              "6362618               0  \n",
              "6362619               0  "
            ],
            "text/html": [
              "\n",
              "  <div id=\"df-d4facfa7-b6e1-428b-af12-ea60d69cd8b5\" class=\"colab-df-container\">\n",
              "    <div>\n",
              "<style scoped>\n",
              "    .dataframe tbody tr th:only-of-type {\n",
              "        vertical-align: middle;\n",
              "    }\n",
              "\n",
              "    .dataframe tbody tr th {\n",
              "        vertical-align: top;\n",
              "    }\n",
              "\n",
              "    .dataframe thead th {\n",
              "        text-align: right;\n",
              "    }\n",
              "</style>\n",
              "<table border=\"1\" class=\"dataframe\">\n",
              "  <thead>\n",
              "    <tr style=\"text-align: right;\">\n",
              "      <th></th>\n",
              "      <th>step</th>\n",
              "      <th>type</th>\n",
              "      <th>amount</th>\n",
              "      <th>nameOrig</th>\n",
              "      <th>oldbalanceOrg</th>\n",
              "      <th>newbalanceOrig</th>\n",
              "      <th>nameDest</th>\n",
              "      <th>oldbalanceDest</th>\n",
              "      <th>newbalanceDest</th>\n",
              "      <th>isFraud</th>\n",
              "      <th>isFlaggedFraud</th>\n",
              "    </tr>\n",
              "  </thead>\n",
              "  <tbody>\n",
              "    <tr>\n",
              "      <th>6362615</th>\n",
              "      <td>743</td>\n",
              "      <td>CASH_OUT</td>\n",
              "      <td>339682.130</td>\n",
              "      <td>C786484425</td>\n",
              "      <td>339682.130</td>\n",
              "      <td>0.0</td>\n",
              "      <td>C776919290</td>\n",
              "      <td>0.000</td>\n",
              "      <td>339682.130</td>\n",
              "      <td>1</td>\n",
              "      <td>0</td>\n",
              "    </tr>\n",
              "    <tr>\n",
              "      <th>6362616</th>\n",
              "      <td>743</td>\n",
              "      <td>TRANSFER</td>\n",
              "      <td>365423.309</td>\n",
              "      <td>C1529008245</td>\n",
              "      <td>1822508.289</td>\n",
              "      <td>0.0</td>\n",
              "      <td>C1881841831</td>\n",
              "      <td>0.000</td>\n",
              "      <td>0.000</td>\n",
              "      <td>1</td>\n",
              "      <td>0</td>\n",
              "    </tr>\n",
              "    <tr>\n",
              "      <th>6362617</th>\n",
              "      <td>743</td>\n",
              "      <td>CASH_OUT</td>\n",
              "      <td>365423.309</td>\n",
              "      <td>C1162922333</td>\n",
              "      <td>1822508.289</td>\n",
              "      <td>0.0</td>\n",
              "      <td>C1365125890</td>\n",
              "      <td>68488.840</td>\n",
              "      <td>3194869.671</td>\n",
              "      <td>1</td>\n",
              "      <td>0</td>\n",
              "    </tr>\n",
              "    <tr>\n",
              "      <th>6362618</th>\n",
              "      <td>743</td>\n",
              "      <td>TRANSFER</td>\n",
              "      <td>365423.309</td>\n",
              "      <td>C1685995037</td>\n",
              "      <td>850002.520</td>\n",
              "      <td>0.0</td>\n",
              "      <td>C2080388513</td>\n",
              "      <td>0.000</td>\n",
              "      <td>0.000</td>\n",
              "      <td>1</td>\n",
              "      <td>0</td>\n",
              "    </tr>\n",
              "    <tr>\n",
              "      <th>6362619</th>\n",
              "      <td>743</td>\n",
              "      <td>CASH_OUT</td>\n",
              "      <td>365423.309</td>\n",
              "      <td>C1280323807</td>\n",
              "      <td>850002.520</td>\n",
              "      <td>0.0</td>\n",
              "      <td>C873221189</td>\n",
              "      <td>2914266.669</td>\n",
              "      <td>3194869.671</td>\n",
              "      <td>1</td>\n",
              "      <td>0</td>\n",
              "    </tr>\n",
              "  </tbody>\n",
              "</table>\n",
              "</div>\n",
              "    <div class=\"colab-df-buttons\">\n",
              "\n",
              "  <div class=\"colab-df-container\">\n",
              "    <button class=\"colab-df-convert\" onclick=\"convertToInteractive('df-d4facfa7-b6e1-428b-af12-ea60d69cd8b5')\"\n",
              "            title=\"Convert this dataframe to an interactive table.\"\n",
              "            style=\"display:none;\">\n",
              "\n",
              "  <svg xmlns=\"http://www.w3.org/2000/svg\" height=\"24px\" viewBox=\"0 -960 960 960\">\n",
              "    <path d=\"M120-120v-720h720v720H120Zm60-500h600v-160H180v160Zm220 220h160v-160H400v160Zm0 220h160v-160H400v160ZM180-400h160v-160H180v160Zm440 0h160v-160H620v160ZM180-180h160v-160H180v160Zm440 0h160v-160H620v160Z\"/>\n",
              "  </svg>\n",
              "    </button>\n",
              "\n",
              "  <style>\n",
              "    .colab-df-container {\n",
              "      display:flex;\n",
              "      gap: 12px;\n",
              "    }\n",
              "\n",
              "    .colab-df-convert {\n",
              "      background-color: #E8F0FE;\n",
              "      border: none;\n",
              "      border-radius: 50%;\n",
              "      cursor: pointer;\n",
              "      display: none;\n",
              "      fill: #1967D2;\n",
              "      height: 32px;\n",
              "      padding: 0 0 0 0;\n",
              "      width: 32px;\n",
              "    }\n",
              "\n",
              "    .colab-df-convert:hover {\n",
              "      background-color: #E2EBFA;\n",
              "      box-shadow: 0px 1px 2px rgba(60, 64, 67, 0.3), 0px 1px 3px 1px rgba(60, 64, 67, 0.15);\n",
              "      fill: #174EA6;\n",
              "    }\n",
              "\n",
              "    .colab-df-buttons div {\n",
              "      margin-bottom: 4px;\n",
              "    }\n",
              "\n",
              "    [theme=dark] .colab-df-convert {\n",
              "      background-color: #3B4455;\n",
              "      fill: #D2E3FC;\n",
              "    }\n",
              "\n",
              "    [theme=dark] .colab-df-convert:hover {\n",
              "      background-color: #434B5C;\n",
              "      box-shadow: 0px 1px 3px 1px rgba(0, 0, 0, 0.15);\n",
              "      filter: drop-shadow(0px 1px 2px rgba(0, 0, 0, 0.3));\n",
              "      fill: #FFFFFF;\n",
              "    }\n",
              "  </style>\n",
              "\n",
              "    <script>\n",
              "      const buttonEl =\n",
              "        document.querySelector('#df-d4facfa7-b6e1-428b-af12-ea60d69cd8b5 button.colab-df-convert');\n",
              "      buttonEl.style.display =\n",
              "        google.colab.kernel.accessAllowed ? 'block' : 'none';\n",
              "\n",
              "      async function convertToInteractive(key) {\n",
              "        const element = document.querySelector('#df-d4facfa7-b6e1-428b-af12-ea60d69cd8b5');\n",
              "        const dataTable =\n",
              "          await google.colab.kernel.invokeFunction('convertToInteractive',\n",
              "                                                    [key], {});\n",
              "        if (!dataTable) return;\n",
              "\n",
              "        const docLinkHtml = 'Like what you see? Visit the ' +\n",
              "          '<a target=\"_blank\" href=https://colab.research.google.com/notebooks/data_table.ipynb>data table notebook</a>'\n",
              "          + ' to learn more about interactive tables.';\n",
              "        element.innerHTML = '';\n",
              "        dataTable['output_type'] = 'display_data';\n",
              "        await google.colab.output.renderOutput(dataTable, element);\n",
              "        const docLink = document.createElement('div');\n",
              "        docLink.innerHTML = docLinkHtml;\n",
              "        element.appendChild(docLink);\n",
              "      }\n",
              "    </script>\n",
              "  </div>\n",
              "\n",
              "\n",
              "<div id=\"df-05c0ece0-362f-4336-aa76-bd53f6f82e19\">\n",
              "  <button class=\"colab-df-quickchart\" onclick=\"quickchart('df-05c0ece0-362f-4336-aa76-bd53f6f82e19')\"\n",
              "            title=\"Suggest charts\"\n",
              "            style=\"display:none;\">\n",
              "\n",
              "<svg xmlns=\"http://www.w3.org/2000/svg\" height=\"24px\"viewBox=\"0 0 24 24\"\n",
              "     width=\"24px\">\n",
              "    <g>\n",
              "        <path d=\"M19 3H5c-1.1 0-2 .9-2 2v14c0 1.1.9 2 2 2h14c1.1 0 2-.9 2-2V5c0-1.1-.9-2-2-2zM9 17H7v-7h2v7zm4 0h-2V7h2v10zm4 0h-2v-4h2v4z\"/>\n",
              "    </g>\n",
              "</svg>\n",
              "  </button>\n",
              "\n",
              "<style>\n",
              "  .colab-df-quickchart {\n",
              "      --bg-color: #E8F0FE;\n",
              "      --fill-color: #1967D2;\n",
              "      --hover-bg-color: #E2EBFA;\n",
              "      --hover-fill-color: #174EA6;\n",
              "      --disabled-fill-color: #AAA;\n",
              "      --disabled-bg-color: #DDD;\n",
              "  }\n",
              "\n",
              "  [theme=dark] .colab-df-quickchart {\n",
              "      --bg-color: #3B4455;\n",
              "      --fill-color: #D2E3FC;\n",
              "      --hover-bg-color: #434B5C;\n",
              "      --hover-fill-color: #FFFFFF;\n",
              "      --disabled-bg-color: #3B4455;\n",
              "      --disabled-fill-color: #666;\n",
              "  }\n",
              "\n",
              "  .colab-df-quickchart {\n",
              "    background-color: var(--bg-color);\n",
              "    border: none;\n",
              "    border-radius: 50%;\n",
              "    cursor: pointer;\n",
              "    display: none;\n",
              "    fill: var(--fill-color);\n",
              "    height: 32px;\n",
              "    padding: 0;\n",
              "    width: 32px;\n",
              "  }\n",
              "\n",
              "  .colab-df-quickchart:hover {\n",
              "    background-color: var(--hover-bg-color);\n",
              "    box-shadow: 0 1px 2px rgba(60, 64, 67, 0.3), 0 1px 3px 1px rgba(60, 64, 67, 0.15);\n",
              "    fill: var(--button-hover-fill-color);\n",
              "  }\n",
              "\n",
              "  .colab-df-quickchart-complete:disabled,\n",
              "  .colab-df-quickchart-complete:disabled:hover {\n",
              "    background-color: var(--disabled-bg-color);\n",
              "    fill: var(--disabled-fill-color);\n",
              "    box-shadow: none;\n",
              "  }\n",
              "\n",
              "  .colab-df-spinner {\n",
              "    border: 2px solid var(--fill-color);\n",
              "    border-color: transparent;\n",
              "    border-bottom-color: var(--fill-color);\n",
              "    animation:\n",
              "      spin 1s steps(1) infinite;\n",
              "  }\n",
              "\n",
              "  @keyframes spin {\n",
              "    0% {\n",
              "      border-color: transparent;\n",
              "      border-bottom-color: var(--fill-color);\n",
              "      border-left-color: var(--fill-color);\n",
              "    }\n",
              "    20% {\n",
              "      border-color: transparent;\n",
              "      border-left-color: var(--fill-color);\n",
              "      border-top-color: var(--fill-color);\n",
              "    }\n",
              "    30% {\n",
              "      border-color: transparent;\n",
              "      border-left-color: var(--fill-color);\n",
              "      border-top-color: var(--fill-color);\n",
              "      border-right-color: var(--fill-color);\n",
              "    }\n",
              "    40% {\n",
              "      border-color: transparent;\n",
              "      border-right-color: var(--fill-color);\n",
              "      border-top-color: var(--fill-color);\n",
              "    }\n",
              "    60% {\n",
              "      border-color: transparent;\n",
              "      border-right-color: var(--fill-color);\n",
              "    }\n",
              "    80% {\n",
              "      border-color: transparent;\n",
              "      border-right-color: var(--fill-color);\n",
              "      border-bottom-color: var(--fill-color);\n",
              "    }\n",
              "    90% {\n",
              "      border-color: transparent;\n",
              "      border-bottom-color: var(--fill-color);\n",
              "    }\n",
              "  }\n",
              "</style>\n",
              "\n",
              "  <script>\n",
              "    async function quickchart(key) {\n",
              "      const quickchartButtonEl =\n",
              "        document.querySelector('#' + key + ' button');\n",
              "      quickchartButtonEl.disabled = true;  // To prevent multiple clicks.\n",
              "      quickchartButtonEl.classList.add('colab-df-spinner');\n",
              "      try {\n",
              "        const charts = await google.colab.kernel.invokeFunction(\n",
              "            'suggestCharts', [key], {});\n",
              "      } catch (error) {\n",
              "        console.error('Error during call to suggestCharts:', error);\n",
              "      }\n",
              "      quickchartButtonEl.classList.remove('colab-df-spinner');\n",
              "      quickchartButtonEl.classList.add('colab-df-quickchart-complete');\n",
              "    }\n",
              "    (() => {\n",
              "      let quickchartButtonEl =\n",
              "        document.querySelector('#df-05c0ece0-362f-4336-aa76-bd53f6f82e19 button');\n",
              "      quickchartButtonEl.style.display =\n",
              "        google.colab.kernel.accessAllowed ? 'block' : 'none';\n",
              "    })();\n",
              "  </script>\n",
              "</div>\n",
              "\n",
              "    </div>\n",
              "  </div>\n"
            ],
            "application/vnd.google.colaboratory.intrinsic+json": {
              "type": "dataframe",
              "summary": "{\n  \"name\": \"undersampled_dataset\",\n  \"rows\": 5,\n  \"fields\": [\n    {\n      \"column\": \"step\",\n      \"properties\": {\n        \"dtype\": \"uint16\",\n        \"num_unique_values\": 1,\n        \"samples\": [\n          743\n        ],\n        \"semantic_type\": \"\",\n        \"description\": \"\"\n      }\n    },\n    {\n      \"column\": \"type\",\n      \"properties\": {\n        \"dtype\": \"category\",\n        \"num_unique_values\": 2,\n        \"samples\": [\n          \"TRANSFER\"\n        ],\n        \"semantic_type\": \"\",\n        \"description\": \"\"\n      }\n    },\n    {\n      \"column\": \"amount\",\n      \"properties\": {\n        \"dtype\": \"number\",\n        \"std\": 11511.805212998039,\n        \"min\": 339682.13,\n        \"max\": 365423.30900000007,\n        \"num_unique_values\": 2,\n        \"samples\": [\n          365423.30900000007\n        ],\n        \"semantic_type\": \"\",\n        \"description\": \"\"\n      }\n    },\n    {\n      \"column\": \"nameOrig\",\n      \"properties\": {\n        \"dtype\": \"string\",\n        \"num_unique_values\": 5,\n        \"samples\": [\n          \"C1529008245\"\n        ],\n        \"semantic_type\": \"\",\n        \"description\": \"\"\n      }\n    },\n    {\n      \"column\": \"oldbalanceOrg\",\n      \"properties\": {\n        \"dtype\": \"number\",\n        \"std\": 659601.0354556045,\n        \"min\": 339682.13,\n        \"max\": 1822508.289000007,\n        \"num_unique_values\": 3,\n        \"samples\": [\n          339682.13\n        ],\n        \"semantic_type\": \"\",\n        \"description\": \"\"\n      }\n    },\n    {\n      \"column\": \"newbalanceOrig\",\n      \"properties\": {\n        \"dtype\": \"number\",\n        \"std\": 0.0,\n        \"min\": 0.0,\n        \"max\": 0.0,\n        \"num_unique_values\": 1,\n        \"samples\": [\n          0.0\n        ],\n        \"semantic_type\": \"\",\n        \"description\": \"\"\n      }\n    },\n    {\n      \"column\": \"nameDest\",\n      \"properties\": {\n        \"dtype\": \"string\",\n        \"num_unique_values\": 5,\n        \"samples\": [\n          \"C1881841831\"\n        ],\n        \"semantic_type\": \"\",\n        \"description\": \"\"\n      }\n    },\n    {\n      \"column\": \"oldbalanceDest\",\n      \"properties\": {\n        \"dtype\": \"number\",\n        \"std\": 1295981.7566187938,\n        \"min\": 0.0,\n        \"max\": 2914266.6690000016,\n        \"num_unique_values\": 3,\n        \"samples\": [\n          0.0\n        ],\n        \"semantic_type\": \"\",\n        \"description\": \"\"\n      }\n    },\n    {\n      \"column\": \"newbalanceDest\",\n      \"properties\": {\n        \"dtype\": \"number\",\n        \"std\": 1693572.0909685036,\n        \"min\": 0.0,\n        \"max\": 3194869.671000002,\n        \"num_unique_values\": 3,\n        \"samples\": [\n          339682.13\n        ],\n        \"semantic_type\": \"\",\n        \"description\": \"\"\n      }\n    },\n    {\n      \"column\": \"isFraud\",\n      \"properties\": {\n        \"dtype\": \"uint8\",\n        \"num_unique_values\": 1,\n        \"samples\": [\n          1\n        ],\n        \"semantic_type\": \"\",\n        \"description\": \"\"\n      }\n    },\n    {\n      \"column\": \"isFlaggedFraud\",\n      \"properties\": {\n        \"dtype\": \"uint8\",\n        \"num_unique_values\": 1,\n        \"samples\": [\n          0\n        ],\n        \"semantic_type\": \"\",\n        \"description\": \"\"\n      }\n    }\n  ]\n}"
            }
          },
          "metadata": {},
          "execution_count": 45
        }
      ],
      "source": [
        "undersampled_dataset.tail()"
      ]
    },
    {
      "cell_type": "code",
      "execution_count": null,
      "id": "74c6d49e",
      "metadata": {
        "id": "74c6d49e",
        "outputId": "635fc9e3-2217-43ca-98bf-2401bd21b9e2",
        "colab": {
          "base_uri": "https://localhost:8080/",
          "height": 178
        }
      },
      "outputs": [
        {
          "output_type": "execute_result",
          "data": {
            "text/plain": [
              "isFraud\n",
              "0    8213\n",
              "1    8213\n",
              "Name: count, dtype: int64"
            ],
            "text/html": [
              "<div>\n",
              "<style scoped>\n",
              "    .dataframe tbody tr th:only-of-type {\n",
              "        vertical-align: middle;\n",
              "    }\n",
              "\n",
              "    .dataframe tbody tr th {\n",
              "        vertical-align: top;\n",
              "    }\n",
              "\n",
              "    .dataframe thead th {\n",
              "        text-align: right;\n",
              "    }\n",
              "</style>\n",
              "<table border=\"1\" class=\"dataframe\">\n",
              "  <thead>\n",
              "    <tr style=\"text-align: right;\">\n",
              "      <th></th>\n",
              "      <th>count</th>\n",
              "    </tr>\n",
              "    <tr>\n",
              "      <th>isFraud</th>\n",
              "      <th></th>\n",
              "    </tr>\n",
              "  </thead>\n",
              "  <tbody>\n",
              "    <tr>\n",
              "      <th>0</th>\n",
              "      <td>8213</td>\n",
              "    </tr>\n",
              "    <tr>\n",
              "      <th>1</th>\n",
              "      <td>8213</td>\n",
              "    </tr>\n",
              "  </tbody>\n",
              "</table>\n",
              "</div><br><label><b>dtype:</b> int64</label>"
            ]
          },
          "metadata": {},
          "execution_count": 46
        }
      ],
      "source": [
        "undersampled_dataset['isFraud'].value_counts()"
      ]
    },
    {
      "cell_type": "markdown",
      "id": "fa0b6c2c",
      "metadata": {
        "id": "fa0b6c2c"
      },
      "source": [
        "The upper one is the means of the newly built undersampled dataset. The lower one (next) is the means of the original dataset."
      ]
    },
    {
      "cell_type": "markdown",
      "id": "93019067",
      "metadata": {
        "id": "93019067"
      },
      "source": [
        "We can compare the respective variable values, it really depends on the legit samples which the algorithm chooses for forming the new dataset at that particular runtime.\n",
        "\n",
        "However, this is extremely data inefficient. The discarded data has important information regarding the negative examples.\n",
        "\n",
        "Lets accept this undersampled dataset and move on to oversampling, which solves this problem.\n",
        "\n",
        "### Oversampling the data\n",
        "\n",
        "Using this technique for balancing the dataset, we will be creating synthetic copies of instances from the fraudulent transactions class.\n",
        "\n",
        "The minority class is the class with fewer instances than the majority class. In our case, the minority class is the fraud transactions.\n",
        "\n",
        "Techniques usually used for oversampling are Random Oversampling, SMOTE (Synthetic Minority Over-sampling Technique), and ADASYN (Adaptive Synthetic Sampling).\n",
        "\n",
        "The choice of oversampling technique can depend on the characteristics of the dataset and the specific goals of the analysis. It is often recommended to try out multiple oversampling techniques and evaluate their performance on a validation set before selecting the most appropriate technique for a given problem.\n",
        "\n",
        "Other oversampling techniques such as Random Oversampling and ADASYN (Adaptive Synthetic Sampling) can also be effective in balancing class distribution, but they work differently and may have different effects on the resulting model performance.\n",
        "\n",
        "We will be using both the three techniques listed above and then see the one which gives us best results.\n",
        "\n",
        "Since the way we are doing oversampling in this project (using imblearn library) requires us to do the training and testing split of the data, we perform the oversampling in the next section with each technique."
      ]
    },
    {
      "cell_type": "markdown",
      "id": "460cbb90",
      "metadata": {
        "id": "460cbb90"
      },
      "source": [
        "## Section 3: Data Splitting into Test and Training data"
      ]
    },
    {
      "cell_type": "markdown",
      "id": "a39672c4",
      "metadata": {
        "id": "a39672c4"
      },
      "source": [
        "### 1. Undersampled dataset\n",
        "\n",
        "#### Dividing the data into features & targets"
      ]
    },
    {
      "cell_type": "code",
      "execution_count": null,
      "id": "a60c37b5",
      "metadata": {
        "id": "a60c37b5",
        "outputId": "c5f1bd05-5306-41d6-c901-73c2367da51c",
        "colab": {
          "base_uri": "https://localhost:8080/"
        }
      },
      "outputs": [
        {
          "output_type": "stream",
          "name": "stdout",
          "text": [
            "         step      amount  oldbalanceOrg  newbalanceOrig  oldbalanceDest  \\\n",
            "2307875   188   92220.600     102418.000       194638.60     2914266.669   \n",
            "76225      10  365423.309       3823.330            0.00     2582656.070   \n",
            "378084     17  223714.050     833103.900      1056817.95      338984.020   \n",
            "1841910   163  184934.790      31462.000            0.00     2498232.100   \n",
            "901390     43  268655.810          0.000            0.00      700200.560   \n",
            "...       ...         ...            ...             ...             ...   \n",
            "6362615   743  339682.130     339682.130            0.00           0.000   \n",
            "6362616   743  365423.309    1822508.289            0.00           0.000   \n",
            "6362617   743  365423.309    1822508.289            0.00       68488.840   \n",
            "6362618   743  365423.309     850002.520            0.00           0.000   \n",
            "6362619   743  365423.309     850002.520            0.00     2914266.669   \n",
            "\n",
            "         newbalanceDest  isFlaggedFraud  \n",
            "2307875     3194869.671               0  \n",
            "76225       3194869.671               0  \n",
            "378084       115269.970               0  \n",
            "1841910     2683166.880               0  \n",
            "901390       968856.370               0  \n",
            "...                 ...             ...  \n",
            "6362615      339682.130               0  \n",
            "6362616           0.000               0  \n",
            "6362617     3194869.671               0  \n",
            "6362618           0.000               0  \n",
            "6362619     3194869.671               0  \n",
            "\n",
            "[16426 rows x 7 columns]\n"
          ]
        }
      ],
      "source": [
        "X = undersampled_dataset.drop(columns=['isFraud','type','nameDest','nameOrig'], axis=1) # Remove the class column from the undersampled dataset\n",
        "print(X)"
      ]
    },
    {
      "cell_type": "code",
      "execution_count": null,
      "id": "2707809b",
      "metadata": {
        "id": "2707809b",
        "outputId": "4ee8b24f-a9e1-4781-b4e3-49fa73b93a13",
        "colab": {
          "base_uri": "https://localhost:8080/"
        }
      },
      "outputs": [
        {
          "output_type": "stream",
          "name": "stdout",
          "text": [
            "2307875    0\n",
            "76225      0\n",
            "378084     0\n",
            "1841910    0\n",
            "901390     0\n",
            "          ..\n",
            "6362615    1\n",
            "6362616    1\n",
            "6362617    1\n",
            "6362618    1\n",
            "6362619    1\n",
            "Name: isFraud, Length: 16426, dtype: int64\n"
          ]
        }
      ],
      "source": [
        "Y = undersampled_dataset['isFraud']\n",
        "print(Y)"
      ]
    },
    {
      "cell_type": "markdown",
      "id": "18a669cd",
      "metadata": {
        "id": "18a669cd"
      },
      "source": [
        "#### Splitting into Testing and Training data\n",
        "\n",
        " The value 0.2 which we had set in the test_size while splitting the training and testing undersampled data."
      ]
    },
    {
      "cell_type": "code",
      "execution_count": null,
      "id": "92992fc0",
      "metadata": {
        "id": "92992fc0"
      },
      "outputs": [],
      "source": [
        "X_train_undersampled, X_test_undersampled, Y_train_undersampled, Y_test_undersampled = train_test_split(X, Y, test_size=0.2, stratify=Y, random_state=2)\n",
        "# parameters test_size means testing data should consist of only 20% of the transactions randomly out of the provided X and Y datasets\n",
        "# stratify=Y means if For example, if variable y is a binary categorical variable with values 0 and 1 and there are 25% of zeros and 75% of ones, stratify=Y will make sure that your random split has 25% of 0's and 75% of 1's.\n",
        "# random_state controls the randomness, it will be producing the similar results independent of the number of executions."
      ]
    },
    {
      "cell_type": "code",
      "execution_count": null,
      "id": "f151039b",
      "metadata": {
        "id": "f151039b",
        "outputId": "9497ee1a-dda1-4437-80b6-80bd88bc2878"
      },
      "outputs": [
        {
          "name": "stdout",
          "output_type": "stream",
          "text": [
            "(9355, 7) (7484, 7) (1871, 7)\n"
          ]
        }
      ],
      "source": [
        "print(X.shape, X_train_undersampled.shape, X_test_undersampled.shape)"
      ]
    },
    {
      "cell_type": "markdown",
      "id": "b1e8f69e",
      "metadata": {
        "id": "b1e8f69e"
      },
      "source": [
        "### 2. Oversampled Dataset\n",
        "\n",
        "Dividing the Original data into features & targets"
      ]
    },
    {
      "cell_type": "code",
      "execution_count": null,
      "id": "362e116a",
      "metadata": {
        "id": "362e116a",
        "outputId": "0b2b8a3e-3ac9-4a9a-d17d-ba9027f67d42",
        "colab": {
          "base_uri": "https://localhost:8080/"
        }
      },
      "outputs": [
        {
          "output_type": "stream",
          "name": "stdout",
          "text": [
            "         step      amount  oldbalanceOrg  newbalanceOrig  oldbalanceDest  \\\n",
            "0           1    9839.640     170136.000       160296.36           0.000   \n",
            "1           1    4501.300      21249.000        19384.72           0.000   \n",
            "2           1    4501.300        181.000            0.00           0.000   \n",
            "3           1    4501.300        181.000            0.00       21182.000   \n",
            "4           1   11668.140      41554.000        29885.86           0.000   \n",
            "...       ...         ...            ...             ...             ...   \n",
            "6362615   743  339682.130     339682.130            0.00           0.000   \n",
            "6362616   743  365423.309    1822508.289            0.00           0.000   \n",
            "6362617   743  365423.309    1822508.289            0.00       68488.840   \n",
            "6362618   743  365423.309     850002.520            0.00           0.000   \n",
            "6362619   743  365423.309     850002.520            0.00     2914266.669   \n",
            "\n",
            "         newbalanceDest  isFlaggedFraud  \n",
            "0                 0.000               0  \n",
            "1                 0.000               0  \n",
            "2                 0.000               0  \n",
            "3                 0.000               0  \n",
            "4                 0.000               0  \n",
            "...                 ...             ...  \n",
            "6362615      339682.130               0  \n",
            "6362616           0.000               0  \n",
            "6362617     3194869.671               0  \n",
            "6362618           0.000               0  \n",
            "6362619     3194869.671               0  \n",
            "\n",
            "[6362620 rows x 7 columns]\n"
          ]
        }
      ],
      "source": [
        "X = onlinefraud.drop(columns=['isFraud','type','nameDest','nameOrig'], axis=1)# Remove the class column from the main dataset\n",
        "print(X)"
      ]
    },
    {
      "cell_type": "code",
      "execution_count": null,
      "id": "b80b7098",
      "metadata": {
        "id": "b80b7098",
        "outputId": "b35f5c4a-39da-42bc-b2a3-3845987cd328",
        "colab": {
          "base_uri": "https://localhost:8080/"
        }
      },
      "outputs": [
        {
          "output_type": "stream",
          "name": "stdout",
          "text": [
            "0          0\n",
            "1          0\n",
            "2          1\n",
            "3          1\n",
            "4          0\n",
            "          ..\n",
            "6362615    1\n",
            "6362616    1\n",
            "6362617    1\n",
            "6362618    1\n",
            "6362619    1\n",
            "Name: isFraud, Length: 6362620, dtype: uint8\n"
          ]
        }
      ],
      "source": [
        "Y = onlinefraud['isFraud']\n",
        "print(Y)"
      ]
    },
    {
      "cell_type": "markdown",
      "id": "ecf91ddb",
      "metadata": {
        "id": "ecf91ddb"
      },
      "source": [
        "#### Splitting Original Data into Testing and Training data\n",
        "\n",
        "The value 0.2 which we had set in the test_size while splitting the training and testing undersampled data."
      ]
    },
    {
      "cell_type": "code",
      "execution_count": null,
      "id": "2e4e765d",
      "metadata": {
        "id": "2e4e765d"
      },
      "outputs": [],
      "source": [
        "X_train, X_test, Y_train, Y_test = train_test_split(X, Y, test_size=0.2, stratify=Y, random_state=2)"
      ]
    },
    {
      "cell_type": "code",
      "execution_count": null,
      "id": "55ac5975",
      "metadata": {
        "id": "55ac5975",
        "outputId": "d8504ab1-c0ca-46af-eb1b-e46a431acfd7",
        "colab": {
          "base_uri": "https://localhost:8080/"
        }
      },
      "outputs": [
        {
          "output_type": "stream",
          "name": "stdout",
          "text": [
            "(6362620, 7) (5090096, 7) (1272524, 7)\n"
          ]
        }
      ],
      "source": [
        "print(X.shape, X_train.shape, X_test.shape)"
      ]
    },
    {
      "cell_type": "markdown",
      "id": "b003b51f",
      "metadata": {
        "id": "b003b51f"
      },
      "source": [
        "### Technique 1 - SMOTE\n",
        "\n",
        "SMOTE works by creating synthetic instances of the minority class by interpolating new instances between existing minority class instances. This technique helps to generate more diverse synthetic instances and can be particularly useful when dealing with non-linear decision boundaries.\n",
        "\n",
        "Importing the dependencies and creation of SMOTE object\n",
        "\n",
        "##### imblearn (Imbalanced Learn) is the Python library we will be using in this project for oversampling using different techniques."
      ]
    },
    {
      "cell_type": "code",
      "execution_count": null,
      "id": "c340d636",
      "metadata": {
        "id": "c340d636"
      },
      "outputs": [],
      "source": [
        "from imblearn.over_sampling import SMOTE #SMOTE = synthetic minority oversampling technique\n",
        "smote = SMOTE() # create SMOTE Object"
      ]
    },
    {
      "cell_type": "markdown",
      "id": "fd4a7fe5",
      "metadata": {
        "id": "fd4a7fe5"
      },
      "source": [
        "#### Splitting the dataset using SMOTE technique"
      ]
    },
    {
      "cell_type": "code",
      "execution_count": null,
      "id": "29943041",
      "metadata": {
        "id": "29943041",
        "outputId": "71a5627a-7648-4266-b198-3157c92c000e",
        "colab": {
          "base_uri": "https://localhost:8080/"
        }
      },
      "outputs": [
        {
          "output_type": "stream",
          "name": "stdout",
          "text": [
            "(10167052, 7)\n",
            "(10167052,)\n"
          ]
        }
      ],
      "source": [
        "X_train_smote, Y_train_smote = smote.fit_resample(X_train, Y_train)\n",
        "print(X_train_smote.shape)\n",
        "print(Y_train_smote.shape)"
      ]
    },
    {
      "cell_type": "markdown",
      "id": "06edbe1b",
      "metadata": {
        "id": "06edbe1b"
      },
      "source": [
        "The dataset has been oversampled and split into testing and training data using the SMOTE technique. We can observe that the number of transactions has increased to almost double.\n",
        "\n",
        "Checking the number of fraud and legit transactions after oversampling We can only check for the number of fraud and legit transactions after oversampling if the oversampling is done before dropping the \"Class\" so that we can identify which is the fraud transaction and which is the legit transaction. Here we have removed that column before oversamping and hence we cant check for the number of fraud and legit transactions after oversampling.\n",
        "\n",
        "### Technique 2 - ADASYN\n",
        "\n",
        "Adaptive Synthetic Sampling is an algorithm that generates synthetic data, and its greatest advantages are not copying the same minority data, and generating more data for “harder to learn” examples.\n",
        "\n",
        "This method is similar to SMOTE but it generates different number of samples depending on an estimate of the local distribution of the class to be oversampled.\n",
        "\n",
        "Importing the dependencies and creation of ADASYN object"
      ]
    },
    {
      "cell_type": "code",
      "execution_count": null,
      "id": "2679b406",
      "metadata": {
        "id": "2679b406"
      },
      "outputs": [],
      "source": [
        "from imblearn.over_sampling import ADASYN #ADASYN = Adaptive Synthetic Sampling\n",
        "adasyn = ADASYN(sampling_strategy='not majority', random_state=2) # create ADASYN Object"
      ]
    },
    {
      "cell_type": "code",
      "execution_count": null,
      "id": "e44d637e",
      "metadata": {
        "id": "e44d637e",
        "outputId": "61b2bdfe-ebeb-4243-8d08-0341471318cd",
        "colab": {
          "base_uri": "https://localhost:8080/"
        }
      },
      "outputs": [
        {
          "output_type": "stream",
          "name": "stdout",
          "text": [
            "(10166862, 7)\n",
            "(10166862,)\n"
          ]
        }
      ],
      "source": [
        "X_train_adasyn, Y_train_adasyn = adasyn.fit_resample(X_train, Y_train)\n",
        "print(X_train_adasyn.shape)\n",
        "print(Y_train_adasyn.shape)"
      ]
    },
    {
      "cell_type": "markdown",
      "id": "4ebc232e",
      "metadata": {
        "id": "4ebc232e"
      },
      "source": [
        "The dataset has been oversampled and split into testing and training data using the ADASYN technique. We can observe that the number of transactions has increased to almost double.\n",
        "\n",
        "Checking the number of fraud and legit transactions after oversampling We can only check for the number of fraud and legit transactions after oversampling if the oversampling is done before dropping the \"Class\" so that we can identify which is the fraud transaction and which is the legit transaction. Here we have removed that column before oversamping and hence we cant check for the number of fraud and legit transactions after oversampling."
      ]
    },
    {
      "cell_type": "markdown",
      "id": "d5cad055",
      "metadata": {
        "id": "d5cad055"
      },
      "source": [
        "### Technique 3 - RANDOM OVERSAMPLING\n",
        "\n",
        "We are also trying out the oversampling using random oversampling technique.\n",
        "\n",
        "Importing the dependencies and creation of ROS object"
      ]
    },
    {
      "cell_type": "code",
      "execution_count": null,
      "id": "8f87ec38",
      "metadata": {
        "id": "8f87ec38"
      },
      "outputs": [],
      "source": [
        "from imblearn.over_sampling import RandomOverSampler\n",
        "ros = RandomOverSampler(random_state = 2)"
      ]
    },
    {
      "cell_type": "code",
      "execution_count": null,
      "id": "73b22969",
      "metadata": {
        "id": "73b22969",
        "outputId": "dca976d9-b12a-4b11-f336-81a248b8f98c",
        "colab": {
          "base_uri": "https://localhost:8080/"
        }
      },
      "outputs": [
        {
          "output_type": "stream",
          "name": "stdout",
          "text": [
            "(10167052, 7)\n",
            "(10167052,)\n"
          ]
        }
      ],
      "source": [
        "X_train_ros, Y_train_ros = ros.fit_resample(X_train, Y_train)\n",
        "print(X_train_ros.shape)\n",
        "print(Y_train_ros.shape)"
      ]
    },
    {
      "cell_type": "markdown",
      "id": "033088cf",
      "metadata": {
        "id": "033088cf"
      },
      "source": [
        "The dataset has been oversampled and split into testing and training data using the ROS technique. We can observe that the number of transactions has increased to almost double.\n",
        "\n",
        "Checking the number of fraud and legit transactions after oversampling We can only check for the number of fraud and legit transactions after oversampling if the oversampling is done before dropping the \"Class\" so that we can identify which is the fraud transaction and which is the legit transaction. Here we have removed that column before oversamping and hence we cant check for the number of fraud and legit transactions after oversampling."
      ]
    },
    {
      "cell_type": "markdown",
      "id": "72f7bbbe",
      "metadata": {
        "id": "72f7bbbe"
      },
      "source": [
        "## Section 4 - Model Training\n",
        "\n",
        "We will be training different kinds of models - Logistic Regression, Support Vector Machines, Naive Bayes, K-Nearest Neighbours, Decision Trees based on all the types of oversampled and undersampled training data.\n",
        "\n",
        "Scaling the Undersampled Data"
      ]
    },
    {
      "cell_type": "code",
      "execution_count": null,
      "id": "f887b183",
      "metadata": {
        "id": "f887b183"
      },
      "outputs": [],
      "source": [
        "scaler = StandardScaler()\n",
        "X_train_scaled_undersampled = scaler.fit_transform(X_train_undersampled)\n",
        "X_test_scaled_undersampled = scaler.transform(X_test_undersampled)"
      ]
    },
    {
      "cell_type": "code",
      "execution_count": null,
      "id": "c4cf1320",
      "metadata": {
        "id": "c4cf1320"
      },
      "outputs": [],
      "source": [
        "X_train_scaled_smote = scaler.fit_transform(X_train_smote) # smote training data\n",
        "X_train_scaled_adasyn = scaler.fit_transform(X_train_adasyn) # adasyn training data\n",
        "\n",
        "X_train_scaled_ros = scaler.fit_transform(X_train_ros) # ros training data\n",
        "\n",
        "X_test_scaled = scaler.transform(X_test) # original testing data"
      ]
    },
    {
      "cell_type": "markdown",
      "id": "5c38fd39",
      "metadata": {
        "id": "5c38fd39"
      },
      "source": [
        "### Creating the Model instances/objects"
      ]
    },
    {
      "cell_type": "code",
      "execution_count": null,
      "id": "1eb6c001",
      "metadata": {
        "id": "1eb6c001"
      },
      "outputs": [],
      "source": [
        "LogisticRegressionModel = LogisticRegression()"
      ]
    },
    {
      "cell_type": "code",
      "execution_count": null,
      "id": "1686364a",
      "metadata": {
        "id": "1686364a"
      },
      "outputs": [],
      "source": [
        "SVM_SVC_Model_CLF = SVC(kernel='linear')"
      ]
    },
    {
      "cell_type": "code",
      "execution_count": null,
      "id": "6e106ac9",
      "metadata": {
        "id": "6e106ac9"
      },
      "outputs": [],
      "source": [
        "NaiveBayes_Model_CLF = GaussianNB()"
      ]
    },
    {
      "cell_type": "code",
      "execution_count": null,
      "id": "e816501f",
      "metadata": {
        "id": "e816501f"
      },
      "outputs": [],
      "source": [
        "KNN_Model_CLF = KNeighborsClassifier(n_neighbors=5)"
      ]
    },
    {
      "cell_type": "code",
      "execution_count": null,
      "id": "cf560a28",
      "metadata": {
        "id": "cf560a28"
      },
      "outputs": [],
      "source": [
        "DecisionTree_Model = DecisionTreeClassifier()\n",
        "params = {'max_depth': [2, 4, 6, 8, 10],\n",
        "          'min_samples_split': [2, 4, 6, 8, 10],\n",
        "          'min_samples_leaf': [1, 2, 3, 4, 5]}\n",
        "DecisionTree_GridSearch_CLF = GridSearchCV(DecisionTree_Model, params, cv=5)"
      ]
    },
    {
      "cell_type": "markdown",
      "id": "4149a48e",
      "metadata": {
        "id": "4149a48e"
      },
      "source": [
        "### Training the Logistic Regression Model and seeing the classification results"
      ]
    },
    {
      "cell_type": "markdown",
      "id": "d6d07f5e",
      "metadata": {
        "id": "d6d07f5e"
      },
      "source": [
        "#### 1. Over the Undersampled Data"
      ]
    },
    {
      "cell_type": "code",
      "execution_count": null,
      "id": "e1b52b57",
      "metadata": {
        "id": "e1b52b57",
        "outputId": "4b8449be-82d2-4342-b8ee-b6c86547f3c9",
        "colab": {
          "base_uri": "https://localhost:8080/",
          "height": 75
        }
      },
      "outputs": [
        {
          "output_type": "execute_result",
          "data": {
            "text/plain": [
              "LogisticRegression()"
            ],
            "text/html": [
              "<style>#sk-container-id-1 {color: black;}#sk-container-id-1 pre{padding: 0;}#sk-container-id-1 div.sk-toggleable {background-color: white;}#sk-container-id-1 label.sk-toggleable__label {cursor: pointer;display: block;width: 100%;margin-bottom: 0;padding: 0.3em;box-sizing: border-box;text-align: center;}#sk-container-id-1 label.sk-toggleable__label-arrow:before {content: \"▸\";float: left;margin-right: 0.25em;color: #696969;}#sk-container-id-1 label.sk-toggleable__label-arrow:hover:before {color: black;}#sk-container-id-1 div.sk-estimator:hover label.sk-toggleable__label-arrow:before {color: black;}#sk-container-id-1 div.sk-toggleable__content {max-height: 0;max-width: 0;overflow: hidden;text-align: left;background-color: #f0f8ff;}#sk-container-id-1 div.sk-toggleable__content pre {margin: 0.2em;color: black;border-radius: 0.25em;background-color: #f0f8ff;}#sk-container-id-1 input.sk-toggleable__control:checked~div.sk-toggleable__content {max-height: 200px;max-width: 100%;overflow: auto;}#sk-container-id-1 input.sk-toggleable__control:checked~label.sk-toggleable__label-arrow:before {content: \"▾\";}#sk-container-id-1 div.sk-estimator input.sk-toggleable__control:checked~label.sk-toggleable__label {background-color: #d4ebff;}#sk-container-id-1 div.sk-label input.sk-toggleable__control:checked~label.sk-toggleable__label {background-color: #d4ebff;}#sk-container-id-1 input.sk-hidden--visually {border: 0;clip: rect(1px 1px 1px 1px);clip: rect(1px, 1px, 1px, 1px);height: 1px;margin: -1px;overflow: hidden;padding: 0;position: absolute;width: 1px;}#sk-container-id-1 div.sk-estimator {font-family: monospace;background-color: #f0f8ff;border: 1px dotted black;border-radius: 0.25em;box-sizing: border-box;margin-bottom: 0.5em;}#sk-container-id-1 div.sk-estimator:hover {background-color: #d4ebff;}#sk-container-id-1 div.sk-parallel-item::after {content: \"\";width: 100%;border-bottom: 1px solid gray;flex-grow: 1;}#sk-container-id-1 div.sk-label:hover label.sk-toggleable__label {background-color: #d4ebff;}#sk-container-id-1 div.sk-serial::before {content: \"\";position: absolute;border-left: 1px solid gray;box-sizing: border-box;top: 0;bottom: 0;left: 50%;z-index: 0;}#sk-container-id-1 div.sk-serial {display: flex;flex-direction: column;align-items: center;background-color: white;padding-right: 0.2em;padding-left: 0.2em;position: relative;}#sk-container-id-1 div.sk-item {position: relative;z-index: 1;}#sk-container-id-1 div.sk-parallel {display: flex;align-items: stretch;justify-content: center;background-color: white;position: relative;}#sk-container-id-1 div.sk-item::before, #sk-container-id-1 div.sk-parallel-item::before {content: \"\";position: absolute;border-left: 1px solid gray;box-sizing: border-box;top: 0;bottom: 0;left: 50%;z-index: -1;}#sk-container-id-1 div.sk-parallel-item {display: flex;flex-direction: column;z-index: 1;position: relative;background-color: white;}#sk-container-id-1 div.sk-parallel-item:first-child::after {align-self: flex-end;width: 50%;}#sk-container-id-1 div.sk-parallel-item:last-child::after {align-self: flex-start;width: 50%;}#sk-container-id-1 div.sk-parallel-item:only-child::after {width: 0;}#sk-container-id-1 div.sk-dashed-wrapped {border: 1px dashed gray;margin: 0 0.4em 0.5em 0.4em;box-sizing: border-box;padding-bottom: 0.4em;background-color: white;}#sk-container-id-1 div.sk-label label {font-family: monospace;font-weight: bold;display: inline-block;line-height: 1.2em;}#sk-container-id-1 div.sk-label-container {text-align: center;}#sk-container-id-1 div.sk-container {/* jupyter's `normalize.less` sets `[hidden] { display: none; }` but bootstrap.min.css set `[hidden] { display: none !important; }` so we also need the `!important` here to be able to override the default hidden behavior on the sphinx rendered scikit-learn.org. See: https://github.com/scikit-learn/scikit-learn/issues/21755 */display: inline-block !important;position: relative;}#sk-container-id-1 div.sk-text-repr-fallback {display: none;}</style><div id=\"sk-container-id-1\" class=\"sk-top-container\"><div class=\"sk-text-repr-fallback\"><pre>LogisticRegression()</pre><b>In a Jupyter environment, please rerun this cell to show the HTML representation or trust the notebook. <br />On GitHub, the HTML representation is unable to render, please try loading this page with nbviewer.org.</b></div><div class=\"sk-container\" hidden><div class=\"sk-item\"><div class=\"sk-estimator sk-toggleable\"><input class=\"sk-toggleable__control sk-hidden--visually\" id=\"sk-estimator-id-1\" type=\"checkbox\" checked><label for=\"sk-estimator-id-1\" class=\"sk-toggleable__label sk-toggleable__label-arrow\">LogisticRegression</label><div class=\"sk-toggleable__content\"><pre>LogisticRegression()</pre></div></div></div></div></div>"
            ]
          },
          "metadata": {},
          "execution_count": 70
        }
      ],
      "source": [
        "LogisticRegressionModel.fit(X_train_scaled_undersampled, Y_train_undersampled)"
      ]
    },
    {
      "cell_type": "code",
      "execution_count": null,
      "id": "f2e5a595",
      "metadata": {
        "id": "f2e5a595",
        "outputId": "4009a779-5683-4e23-805a-87036acf3c70",
        "colab": {
          "base_uri": "https://localhost:8080/"
        }
      },
      "outputs": [
        {
          "output_type": "stream",
          "name": "stdout",
          "text": [
            "Accuracy on Training data :  0.9041856925418569\n",
            "\n",
            "Classification Report on Training data : \n",
            "               precision    recall  f1-score   support\n",
            "\n",
            "           0       0.96      0.86      0.91      7333\n",
            "           1       0.85      0.96      0.90      5807\n",
            "\n",
            "    accuracy                           0.90     13140\n",
            "   macro avg       0.90      0.91      0.90     13140\n",
            "weighted avg       0.91      0.90      0.90     13140\n",
            "\n"
          ]
        }
      ],
      "source": [
        "# accuracy on training data\n",
        "X_train_prediction = LogisticRegressionModel.predict(X_train_scaled_undersampled)\n",
        "LR_undersampling_training_data_accuracy = accuracy_score(X_train_prediction, Y_train_undersampled)\n",
        "print('Accuracy on Training data : ', LR_undersampling_training_data_accuracy)\n",
        "LR_undersampling_training_data_classification_report = classification_report(X_train_prediction, Y_train_undersampled)\n",
        "print('\\nClassification Report on Training data : \\n', LR_undersampling_training_data_classification_report)"
      ]
    },
    {
      "cell_type": "code",
      "execution_count": null,
      "id": "05fecd27",
      "metadata": {
        "id": "05fecd27",
        "outputId": "2c06834c-fea2-44fd-cd5c-45dce35a2c09",
        "colab": {
          "base_uri": "https://localhost:8080/"
        }
      },
      "outputs": [
        {
          "output_type": "stream",
          "name": "stdout",
          "text": [
            "Accuracy score on Test Data :  0.9044430919050518\n",
            "\n",
            "Classification Report on Training data : \n",
            "               precision    recall  f1-score   support\n",
            "\n",
            "           0       0.96      0.87      0.91      1815\n",
            "           1       0.85      0.95      0.90      1471\n",
            "\n",
            "    accuracy                           0.90      3286\n",
            "   macro avg       0.90      0.91      0.90      3286\n",
            "weighted avg       0.91      0.90      0.90      3286\n",
            "\n"
          ]
        }
      ],
      "source": [
        "# accuracy on test data\n",
        "X_test_prediction = LogisticRegressionModel.predict(X_test_scaled_undersampled)\n",
        "LR_undersampling_test_data_accuracy = accuracy_score(X_test_prediction, Y_test_undersampled)\n",
        "print('Accuracy score on Test Data : ', LR_undersampling_test_data_accuracy)\n",
        "LR_undersampling_testing_data_classification_report = classification_report(X_test_prediction, Y_test_undersampled)\n",
        "print('\\nClassification Report on Training data : \\n', LR_undersampling_testing_data_classification_report)"
      ]
    },
    {
      "cell_type": "markdown",
      "id": "b195de3e",
      "metadata": {
        "id": "b195de3e"
      },
      "source": [
        "#### 2. Over the oversampled data - SMOTE"
      ]
    },
    {
      "cell_type": "code",
      "execution_count": null,
      "id": "38e0f2d9",
      "metadata": {
        "id": "38e0f2d9",
        "outputId": "87d97c07-8825-4193-a11c-b347420ae7f4",
        "colab": {
          "base_uri": "https://localhost:8080/",
          "height": 75
        }
      },
      "outputs": [
        {
          "output_type": "execute_result",
          "data": {
            "text/plain": [
              "LogisticRegression()"
            ],
            "text/html": [
              "<style>#sk-container-id-2 {color: black;}#sk-container-id-2 pre{padding: 0;}#sk-container-id-2 div.sk-toggleable {background-color: white;}#sk-container-id-2 label.sk-toggleable__label {cursor: pointer;display: block;width: 100%;margin-bottom: 0;padding: 0.3em;box-sizing: border-box;text-align: center;}#sk-container-id-2 label.sk-toggleable__label-arrow:before {content: \"▸\";float: left;margin-right: 0.25em;color: #696969;}#sk-container-id-2 label.sk-toggleable__label-arrow:hover:before {color: black;}#sk-container-id-2 div.sk-estimator:hover label.sk-toggleable__label-arrow:before {color: black;}#sk-container-id-2 div.sk-toggleable__content {max-height: 0;max-width: 0;overflow: hidden;text-align: left;background-color: #f0f8ff;}#sk-container-id-2 div.sk-toggleable__content pre {margin: 0.2em;color: black;border-radius: 0.25em;background-color: #f0f8ff;}#sk-container-id-2 input.sk-toggleable__control:checked~div.sk-toggleable__content {max-height: 200px;max-width: 100%;overflow: auto;}#sk-container-id-2 input.sk-toggleable__control:checked~label.sk-toggleable__label-arrow:before {content: \"▾\";}#sk-container-id-2 div.sk-estimator input.sk-toggleable__control:checked~label.sk-toggleable__label {background-color: #d4ebff;}#sk-container-id-2 div.sk-label input.sk-toggleable__control:checked~label.sk-toggleable__label {background-color: #d4ebff;}#sk-container-id-2 input.sk-hidden--visually {border: 0;clip: rect(1px 1px 1px 1px);clip: rect(1px, 1px, 1px, 1px);height: 1px;margin: -1px;overflow: hidden;padding: 0;position: absolute;width: 1px;}#sk-container-id-2 div.sk-estimator {font-family: monospace;background-color: #f0f8ff;border: 1px dotted black;border-radius: 0.25em;box-sizing: border-box;margin-bottom: 0.5em;}#sk-container-id-2 div.sk-estimator:hover {background-color: #d4ebff;}#sk-container-id-2 div.sk-parallel-item::after {content: \"\";width: 100%;border-bottom: 1px solid gray;flex-grow: 1;}#sk-container-id-2 div.sk-label:hover label.sk-toggleable__label {background-color: #d4ebff;}#sk-container-id-2 div.sk-serial::before {content: \"\";position: absolute;border-left: 1px solid gray;box-sizing: border-box;top: 0;bottom: 0;left: 50%;z-index: 0;}#sk-container-id-2 div.sk-serial {display: flex;flex-direction: column;align-items: center;background-color: white;padding-right: 0.2em;padding-left: 0.2em;position: relative;}#sk-container-id-2 div.sk-item {position: relative;z-index: 1;}#sk-container-id-2 div.sk-parallel {display: flex;align-items: stretch;justify-content: center;background-color: white;position: relative;}#sk-container-id-2 div.sk-item::before, #sk-container-id-2 div.sk-parallel-item::before {content: \"\";position: absolute;border-left: 1px solid gray;box-sizing: border-box;top: 0;bottom: 0;left: 50%;z-index: -1;}#sk-container-id-2 div.sk-parallel-item {display: flex;flex-direction: column;z-index: 1;position: relative;background-color: white;}#sk-container-id-2 div.sk-parallel-item:first-child::after {align-self: flex-end;width: 50%;}#sk-container-id-2 div.sk-parallel-item:last-child::after {align-self: flex-start;width: 50%;}#sk-container-id-2 div.sk-parallel-item:only-child::after {width: 0;}#sk-container-id-2 div.sk-dashed-wrapped {border: 1px dashed gray;margin: 0 0.4em 0.5em 0.4em;box-sizing: border-box;padding-bottom: 0.4em;background-color: white;}#sk-container-id-2 div.sk-label label {font-family: monospace;font-weight: bold;display: inline-block;line-height: 1.2em;}#sk-container-id-2 div.sk-label-container {text-align: center;}#sk-container-id-2 div.sk-container {/* jupyter's `normalize.less` sets `[hidden] { display: none; }` but bootstrap.min.css set `[hidden] { display: none !important; }` so we also need the `!important` here to be able to override the default hidden behavior on the sphinx rendered scikit-learn.org. See: https://github.com/scikit-learn/scikit-learn/issues/21755 */display: inline-block !important;position: relative;}#sk-container-id-2 div.sk-text-repr-fallback {display: none;}</style><div id=\"sk-container-id-2\" class=\"sk-top-container\"><div class=\"sk-text-repr-fallback\"><pre>LogisticRegression()</pre><b>In a Jupyter environment, please rerun this cell to show the HTML representation or trust the notebook. <br />On GitHub, the HTML representation is unable to render, please try loading this page with nbviewer.org.</b></div><div class=\"sk-container\" hidden><div class=\"sk-item\"><div class=\"sk-estimator sk-toggleable\"><input class=\"sk-toggleable__control sk-hidden--visually\" id=\"sk-estimator-id-2\" type=\"checkbox\" checked><label for=\"sk-estimator-id-2\" class=\"sk-toggleable__label sk-toggleable__label-arrow\">LogisticRegression</label><div class=\"sk-toggleable__content\"><pre>LogisticRegression()</pre></div></div></div></div></div>"
            ]
          },
          "metadata": {},
          "execution_count": 76
        }
      ],
      "source": [
        "LogisticRegressionModel.fit(X_train_scaled_smote, Y_train_smote)"
      ]
    },
    {
      "cell_type": "code",
      "execution_count": null,
      "id": "84a0f53e",
      "metadata": {
        "id": "84a0f53e",
        "outputId": "d65a6afa-d5d8-4505-d824-a3a70f49f477",
        "colab": {
          "base_uri": "https://localhost:8080/"
        }
      },
      "outputs": [
        {
          "output_type": "stream",
          "name": "stdout",
          "text": [
            "Accuracy on Training data :  0.905202019228386\n",
            "\n",
            "Classification Report on Training data : \n",
            "               precision    recall  f1-score   support\n",
            "\n",
            "           0       0.95      0.87      0.91   5554370\n",
            "           1       0.86      0.95      0.90   4612682\n",
            "\n",
            "    accuracy                           0.91  10167052\n",
            "   macro avg       0.91      0.91      0.90  10167052\n",
            "weighted avg       0.91      0.91      0.91  10167052\n",
            "\n"
          ]
        }
      ],
      "source": [
        "# accuracy on training data\n",
        "X_train_prediction = LogisticRegressionModel.predict(X_train_scaled_smote)\n",
        "LR_smote_training_data_accuracy = accuracy_score(X_train_prediction, Y_train_smote)\n",
        "print('Accuracy on Training data : ', LR_smote_training_data_accuracy)\n",
        "LR_smote_training_data_classification_report = classification_report(X_train_prediction, Y_train_smote)\n",
        "print('\\nClassification Report on Training data : \\n', LR_smote_training_data_classification_report)"
      ]
    },
    {
      "cell_type": "code",
      "execution_count": null,
      "id": "e3392fd3",
      "metadata": {
        "id": "e3392fd3",
        "outputId": "f346e184-485b-4de0-b34f-3d15baddaf3e",
        "colab": {
          "base_uri": "https://localhost:8080/"
        }
      },
      "outputs": [
        {
          "output_type": "stream",
          "name": "stdout",
          "text": [
            "Accuracy score on Test Data :  0.9533902700459873\n",
            "\n",
            "Classification Report on Training data : \n",
            "               precision    recall  f1-score   support\n",
            "\n",
            "           0       0.95      1.00      0.98   1212051\n",
            "           1       0.85      0.02      0.05     60473\n",
            "\n",
            "    accuracy                           0.95   1272524\n",
            "   macro avg       0.90      0.51      0.51   1272524\n",
            "weighted avg       0.95      0.95      0.93   1272524\n",
            "\n"
          ]
        }
      ],
      "source": [
        "# accuracy on test data\n",
        "X_test_prediction = LogisticRegressionModel.predict(X_test_scaled)\n",
        "LR_smote_test_data_accuracy = accuracy_score(X_test_prediction, Y_test)\n",
        "print('Accuracy score on Test Data : ', LR_smote_test_data_accuracy)\n",
        "LR_smote_testing_data_classification_report = classification_report(X_test_prediction, Y_test)\n",
        "print('\\nClassification Report on Training data : \\n', LR_smote_testing_data_classification_report)"
      ]
    },
    {
      "cell_type": "markdown",
      "id": "a2fec76e",
      "metadata": {
        "id": "a2fec76e"
      },
      "source": [
        "#### 3. Over the oversampled data - ADASYN"
      ]
    },
    {
      "cell_type": "code",
      "execution_count": null,
      "id": "0cd2fb76",
      "metadata": {
        "id": "0cd2fb76",
        "outputId": "a942d4c4-9306-47b0-e4d5-5ef4fc36fcbc",
        "colab": {
          "base_uri": "https://localhost:8080/",
          "height": 75
        }
      },
      "outputs": [
        {
          "output_type": "execute_result",
          "data": {
            "text/plain": [
              "LogisticRegression()"
            ],
            "text/html": [
              "<style>#sk-container-id-3 {color: black;}#sk-container-id-3 pre{padding: 0;}#sk-container-id-3 div.sk-toggleable {background-color: white;}#sk-container-id-3 label.sk-toggleable__label {cursor: pointer;display: block;width: 100%;margin-bottom: 0;padding: 0.3em;box-sizing: border-box;text-align: center;}#sk-container-id-3 label.sk-toggleable__label-arrow:before {content: \"▸\";float: left;margin-right: 0.25em;color: #696969;}#sk-container-id-3 label.sk-toggleable__label-arrow:hover:before {color: black;}#sk-container-id-3 div.sk-estimator:hover label.sk-toggleable__label-arrow:before {color: black;}#sk-container-id-3 div.sk-toggleable__content {max-height: 0;max-width: 0;overflow: hidden;text-align: left;background-color: #f0f8ff;}#sk-container-id-3 div.sk-toggleable__content pre {margin: 0.2em;color: black;border-radius: 0.25em;background-color: #f0f8ff;}#sk-container-id-3 input.sk-toggleable__control:checked~div.sk-toggleable__content {max-height: 200px;max-width: 100%;overflow: auto;}#sk-container-id-3 input.sk-toggleable__control:checked~label.sk-toggleable__label-arrow:before {content: \"▾\";}#sk-container-id-3 div.sk-estimator input.sk-toggleable__control:checked~label.sk-toggleable__label {background-color: #d4ebff;}#sk-container-id-3 div.sk-label input.sk-toggleable__control:checked~label.sk-toggleable__label {background-color: #d4ebff;}#sk-container-id-3 input.sk-hidden--visually {border: 0;clip: rect(1px 1px 1px 1px);clip: rect(1px, 1px, 1px, 1px);height: 1px;margin: -1px;overflow: hidden;padding: 0;position: absolute;width: 1px;}#sk-container-id-3 div.sk-estimator {font-family: monospace;background-color: #f0f8ff;border: 1px dotted black;border-radius: 0.25em;box-sizing: border-box;margin-bottom: 0.5em;}#sk-container-id-3 div.sk-estimator:hover {background-color: #d4ebff;}#sk-container-id-3 div.sk-parallel-item::after {content: \"\";width: 100%;border-bottom: 1px solid gray;flex-grow: 1;}#sk-container-id-3 div.sk-label:hover label.sk-toggleable__label {background-color: #d4ebff;}#sk-container-id-3 div.sk-serial::before {content: \"\";position: absolute;border-left: 1px solid gray;box-sizing: border-box;top: 0;bottom: 0;left: 50%;z-index: 0;}#sk-container-id-3 div.sk-serial {display: flex;flex-direction: column;align-items: center;background-color: white;padding-right: 0.2em;padding-left: 0.2em;position: relative;}#sk-container-id-3 div.sk-item {position: relative;z-index: 1;}#sk-container-id-3 div.sk-parallel {display: flex;align-items: stretch;justify-content: center;background-color: white;position: relative;}#sk-container-id-3 div.sk-item::before, #sk-container-id-3 div.sk-parallel-item::before {content: \"\";position: absolute;border-left: 1px solid gray;box-sizing: border-box;top: 0;bottom: 0;left: 50%;z-index: -1;}#sk-container-id-3 div.sk-parallel-item {display: flex;flex-direction: column;z-index: 1;position: relative;background-color: white;}#sk-container-id-3 div.sk-parallel-item:first-child::after {align-self: flex-end;width: 50%;}#sk-container-id-3 div.sk-parallel-item:last-child::after {align-self: flex-start;width: 50%;}#sk-container-id-3 div.sk-parallel-item:only-child::after {width: 0;}#sk-container-id-3 div.sk-dashed-wrapped {border: 1px dashed gray;margin: 0 0.4em 0.5em 0.4em;box-sizing: border-box;padding-bottom: 0.4em;background-color: white;}#sk-container-id-3 div.sk-label label {font-family: monospace;font-weight: bold;display: inline-block;line-height: 1.2em;}#sk-container-id-3 div.sk-label-container {text-align: center;}#sk-container-id-3 div.sk-container {/* jupyter's `normalize.less` sets `[hidden] { display: none; }` but bootstrap.min.css set `[hidden] { display: none !important; }` so we also need the `!important` here to be able to override the default hidden behavior on the sphinx rendered scikit-learn.org. See: https://github.com/scikit-learn/scikit-learn/issues/21755 */display: inline-block !important;position: relative;}#sk-container-id-3 div.sk-text-repr-fallback {display: none;}</style><div id=\"sk-container-id-3\" class=\"sk-top-container\"><div class=\"sk-text-repr-fallback\"><pre>LogisticRegression()</pre><b>In a Jupyter environment, please rerun this cell to show the HTML representation or trust the notebook. <br />On GitHub, the HTML representation is unable to render, please try loading this page with nbviewer.org.</b></div><div class=\"sk-container\" hidden><div class=\"sk-item\"><div class=\"sk-estimator sk-toggleable\"><input class=\"sk-toggleable__control sk-hidden--visually\" id=\"sk-estimator-id-3\" type=\"checkbox\" checked><label for=\"sk-estimator-id-3\" class=\"sk-toggleable__label sk-toggleable__label-arrow\">LogisticRegression</label><div class=\"sk-toggleable__content\"><pre>LogisticRegression()</pre></div></div></div></div></div>"
            ]
          },
          "metadata": {},
          "execution_count": 79
        }
      ],
      "source": [
        "LogisticRegressionModel.fit(X_train_scaled_adasyn, Y_train_adasyn)"
      ]
    },
    {
      "cell_type": "code",
      "execution_count": null,
      "id": "8b84d1b2",
      "metadata": {
        "id": "8b84d1b2",
        "outputId": "e5737f29-8e56-42a0-decb-30a99445950f",
        "colab": {
          "base_uri": "https://localhost:8080/"
        }
      },
      "outputs": [
        {
          "output_type": "stream",
          "name": "stdout",
          "text": [
            "Accuracy on Training data :  0.9099704510595304\n",
            "\n",
            "Classification Report on Training data : \n",
            "               precision    recall  f1-score   support\n",
            "\n",
            "           0       0.91      0.91      0.91   5051898\n",
            "           1       0.91      0.91      0.91   5114964\n",
            "\n",
            "    accuracy                           0.91  10166862\n",
            "   macro avg       0.91      0.91      0.91  10166862\n",
            "weighted avg       0.91      0.91      0.91  10166862\n",
            "\n"
          ]
        }
      ],
      "source": [
        "# accuracy on training data\n",
        "X_train_prediction = LogisticRegressionModel.predict(X_train_scaled_adasyn)\n",
        "LR_adasyn_training_data_accuracy = accuracy_score(X_train_prediction, Y_train_adasyn)\n",
        "print('Accuracy on Training data : ', LR_adasyn_training_data_accuracy)\n",
        "LR_adasyn_training_data_classification_report = classification_report(X_train_prediction, Y_train_adasyn)\n",
        "print('\\nClassification Report on Training data : \\n', LR_adasyn_training_data_classification_report)"
      ]
    },
    {
      "cell_type": "code",
      "execution_count": null,
      "id": "2eb9a169",
      "metadata": {
        "id": "2eb9a169",
        "outputId": "36e0b469-c82d-447d-f33f-f89a1cd30fd2",
        "colab": {
          "base_uri": "https://localhost:8080/"
        }
      },
      "outputs": [
        {
          "output_type": "stream",
          "name": "stdout",
          "text": [
            "Accuracy score on Test Data :  0.9981642782375814\n",
            "\n",
            "Classification Report on Training data : \n",
            "               precision    recall  f1-score   support\n",
            "\n",
            "           0       1.00      1.00      1.00   1270181\n",
            "           1       0.50      0.35      0.41      2343\n",
            "\n",
            "    accuracy                           1.00   1272524\n",
            "   macro avg       0.75      0.68      0.71   1272524\n",
            "weighted avg       1.00      1.00      1.00   1272524\n",
            "\n"
          ]
        }
      ],
      "source": [
        "# accuracy on test data\n",
        "X_test_prediction = LogisticRegressionModel.predict(X_test_scaled)\n",
        "LR_adasyn_test_data_accuracy = accuracy_score(X_test_prediction, Y_test)\n",
        "print('Accuracy score on Test Data : ', LR_adasyn_test_data_accuracy)\n",
        "LR_adasyn_testing_data_classification_report = classification_report(X_test_prediction, Y_test)\n",
        "print('\\nClassification Report on Training data : \\n', LR_adasyn_testing_data_classification_report)"
      ]
    },
    {
      "cell_type": "markdown",
      "id": "f6df1943",
      "metadata": {
        "id": "f6df1943"
      },
      "source": [
        "#### 4. Over the oversampled data - ROS"
      ]
    },
    {
      "cell_type": "code",
      "execution_count": null,
      "id": "efeda70c",
      "metadata": {
        "id": "efeda70c",
        "outputId": "51fa8714-cf39-4580-e31a-6f9140da9a93",
        "colab": {
          "base_uri": "https://localhost:8080/",
          "height": 75
        }
      },
      "outputs": [
        {
          "output_type": "execute_result",
          "data": {
            "text/plain": [
              "LogisticRegression()"
            ],
            "text/html": [
              "<style>#sk-container-id-4 {color: black;}#sk-container-id-4 pre{padding: 0;}#sk-container-id-4 div.sk-toggleable {background-color: white;}#sk-container-id-4 label.sk-toggleable__label {cursor: pointer;display: block;width: 100%;margin-bottom: 0;padding: 0.3em;box-sizing: border-box;text-align: center;}#sk-container-id-4 label.sk-toggleable__label-arrow:before {content: \"▸\";float: left;margin-right: 0.25em;color: #696969;}#sk-container-id-4 label.sk-toggleable__label-arrow:hover:before {color: black;}#sk-container-id-4 div.sk-estimator:hover label.sk-toggleable__label-arrow:before {color: black;}#sk-container-id-4 div.sk-toggleable__content {max-height: 0;max-width: 0;overflow: hidden;text-align: left;background-color: #f0f8ff;}#sk-container-id-4 div.sk-toggleable__content pre {margin: 0.2em;color: black;border-radius: 0.25em;background-color: #f0f8ff;}#sk-container-id-4 input.sk-toggleable__control:checked~div.sk-toggleable__content {max-height: 200px;max-width: 100%;overflow: auto;}#sk-container-id-4 input.sk-toggleable__control:checked~label.sk-toggleable__label-arrow:before {content: \"▾\";}#sk-container-id-4 div.sk-estimator input.sk-toggleable__control:checked~label.sk-toggleable__label {background-color: #d4ebff;}#sk-container-id-4 div.sk-label input.sk-toggleable__control:checked~label.sk-toggleable__label {background-color: #d4ebff;}#sk-container-id-4 input.sk-hidden--visually {border: 0;clip: rect(1px 1px 1px 1px);clip: rect(1px, 1px, 1px, 1px);height: 1px;margin: -1px;overflow: hidden;padding: 0;position: absolute;width: 1px;}#sk-container-id-4 div.sk-estimator {font-family: monospace;background-color: #f0f8ff;border: 1px dotted black;border-radius: 0.25em;box-sizing: border-box;margin-bottom: 0.5em;}#sk-container-id-4 div.sk-estimator:hover {background-color: #d4ebff;}#sk-container-id-4 div.sk-parallel-item::after {content: \"\";width: 100%;border-bottom: 1px solid gray;flex-grow: 1;}#sk-container-id-4 div.sk-label:hover label.sk-toggleable__label {background-color: #d4ebff;}#sk-container-id-4 div.sk-serial::before {content: \"\";position: absolute;border-left: 1px solid gray;box-sizing: border-box;top: 0;bottom: 0;left: 50%;z-index: 0;}#sk-container-id-4 div.sk-serial {display: flex;flex-direction: column;align-items: center;background-color: white;padding-right: 0.2em;padding-left: 0.2em;position: relative;}#sk-container-id-4 div.sk-item {position: relative;z-index: 1;}#sk-container-id-4 div.sk-parallel {display: flex;align-items: stretch;justify-content: center;background-color: white;position: relative;}#sk-container-id-4 div.sk-item::before, #sk-container-id-4 div.sk-parallel-item::before {content: \"\";position: absolute;border-left: 1px solid gray;box-sizing: border-box;top: 0;bottom: 0;left: 50%;z-index: -1;}#sk-container-id-4 div.sk-parallel-item {display: flex;flex-direction: column;z-index: 1;position: relative;background-color: white;}#sk-container-id-4 div.sk-parallel-item:first-child::after {align-self: flex-end;width: 50%;}#sk-container-id-4 div.sk-parallel-item:last-child::after {align-self: flex-start;width: 50%;}#sk-container-id-4 div.sk-parallel-item:only-child::after {width: 0;}#sk-container-id-4 div.sk-dashed-wrapped {border: 1px dashed gray;margin: 0 0.4em 0.5em 0.4em;box-sizing: border-box;padding-bottom: 0.4em;background-color: white;}#sk-container-id-4 div.sk-label label {font-family: monospace;font-weight: bold;display: inline-block;line-height: 1.2em;}#sk-container-id-4 div.sk-label-container {text-align: center;}#sk-container-id-4 div.sk-container {/* jupyter's `normalize.less` sets `[hidden] { display: none; }` but bootstrap.min.css set `[hidden] { display: none !important; }` so we also need the `!important` here to be able to override the default hidden behavior on the sphinx rendered scikit-learn.org. See: https://github.com/scikit-learn/scikit-learn/issues/21755 */display: inline-block !important;position: relative;}#sk-container-id-4 div.sk-text-repr-fallback {display: none;}</style><div id=\"sk-container-id-4\" class=\"sk-top-container\"><div class=\"sk-text-repr-fallback\"><pre>LogisticRegression()</pre><b>In a Jupyter environment, please rerun this cell to show the HTML representation or trust the notebook. <br />On GitHub, the HTML representation is unable to render, please try loading this page with nbviewer.org.</b></div><div class=\"sk-container\" hidden><div class=\"sk-item\"><div class=\"sk-estimator sk-toggleable\"><input class=\"sk-toggleable__control sk-hidden--visually\" id=\"sk-estimator-id-4\" type=\"checkbox\" checked><label for=\"sk-estimator-id-4\" class=\"sk-toggleable__label sk-toggleable__label-arrow\">LogisticRegression</label><div class=\"sk-toggleable__content\"><pre>LogisticRegression()</pre></div></div></div></div></div>"
            ]
          },
          "metadata": {},
          "execution_count": 82
        }
      ],
      "source": [
        "LogisticRegressionModel.fit(X_train_scaled_ros, Y_train_ros)"
      ]
    },
    {
      "cell_type": "code",
      "execution_count": null,
      "id": "4bb21cbd",
      "metadata": {
        "id": "4bb21cbd",
        "outputId": "034edc13-3527-4b7c-8505-71977bbc210f",
        "colab": {
          "base_uri": "https://localhost:8080/"
        }
      },
      "outputs": [
        {
          "output_type": "stream",
          "name": "stdout",
          "text": [
            "Accuracy on Training data :  0.9052604432435282\n",
            "\n",
            "Classification Report on Training data : \n",
            "               precision    recall  f1-score   support\n",
            "\n",
            "           0       0.96      0.87      0.91   5602438\n",
            "           1       0.85      0.95      0.90   4564614\n",
            "\n",
            "    accuracy                           0.91  10167052\n",
            "   macro avg       0.91      0.91      0.91  10167052\n",
            "weighted avg       0.91      0.91      0.91  10167052\n",
            "\n"
          ]
        }
      ],
      "source": [
        "# accuracy on training data\n",
        "X_train_prediction = LogisticRegressionModel.predict(X_train_scaled_ros)\n",
        "LR_ros_training_data_accuracy = accuracy_score(X_train_prediction, Y_train_ros)\n",
        "print('Accuracy on Training data : ', LR_ros_training_data_accuracy)\n",
        "LR_ros_training_data_classification_report = classification_report(X_train_prediction, Y_train_ros)\n",
        "print('\\nClassification Report on Training data : \\n', LR_ros_training_data_classification_report)"
      ]
    },
    {
      "cell_type": "code",
      "execution_count": null,
      "id": "2da34a2e",
      "metadata": {
        "id": "2da34a2e",
        "outputId": "8a37c4e9-6196-4335-b3ce-fc27143f25ff",
        "colab": {
          "base_uri": "https://localhost:8080/"
        }
      },
      "outputs": [
        {
          "output_type": "stream",
          "name": "stdout",
          "text": [
            "Accuracy score on Test Data :  0.9561257783743174\n",
            "\n",
            "Classification Report on Training data : \n",
            "               precision    recall  f1-score   support\n",
            "\n",
            "           0       0.96      1.00      0.98   1215534\n",
            "           1       0.85      0.02      0.05     56990\n",
            "\n",
            "    accuracy                           0.96   1272524\n",
            "   macro avg       0.90      0.51      0.51   1272524\n",
            "weighted avg       0.95      0.96      0.94   1272524\n",
            "\n"
          ]
        }
      ],
      "source": [
        "# accuracy on test data\n",
        "X_test_prediction = LogisticRegressionModel.predict(X_test_scaled)\n",
        "LR_ros_test_data_accuracy = accuracy_score(X_test_prediction, Y_test)\n",
        "print('Accuracy score on Test Data : ', LR_ros_test_data_accuracy)\n",
        "LR_ros_testing_data_classification_report = classification_report(X_test_prediction, Y_test)\n",
        "print('\\nClassification Report on Training data : \\n', LR_ros_testing_data_classification_report)"
      ]
    },
    {
      "cell_type": "markdown",
      "id": "e7ebde31",
      "metadata": {
        "id": "e7ebde31"
      },
      "source": [
        "### Training the Decision Trees model and seeing the classification results"
      ]
    },
    {
      "cell_type": "markdown",
      "id": "bb6451d7",
      "metadata": {
        "id": "bb6451d7"
      },
      "source": [
        "#### 1. Over the undersampled data"
      ]
    },
    {
      "cell_type": "code",
      "execution_count": null,
      "id": "31c95668",
      "metadata": {
        "id": "31c95668",
        "outputId": "d8bc3aa8-bcce-4f62-bb49-d7a02c781a01",
        "colab": {
          "base_uri": "https://localhost:8080/",
          "height": 75
        }
      },
      "outputs": [
        {
          "output_type": "execute_result",
          "data": {
            "text/plain": [
              "DecisionTreeClassifier()"
            ],
            "text/html": [
              "<style>#sk-container-id-5 {color: black;}#sk-container-id-5 pre{padding: 0;}#sk-container-id-5 div.sk-toggleable {background-color: white;}#sk-container-id-5 label.sk-toggleable__label {cursor: pointer;display: block;width: 100%;margin-bottom: 0;padding: 0.3em;box-sizing: border-box;text-align: center;}#sk-container-id-5 label.sk-toggleable__label-arrow:before {content: \"▸\";float: left;margin-right: 0.25em;color: #696969;}#sk-container-id-5 label.sk-toggleable__label-arrow:hover:before {color: black;}#sk-container-id-5 div.sk-estimator:hover label.sk-toggleable__label-arrow:before {color: black;}#sk-container-id-5 div.sk-toggleable__content {max-height: 0;max-width: 0;overflow: hidden;text-align: left;background-color: #f0f8ff;}#sk-container-id-5 div.sk-toggleable__content pre {margin: 0.2em;color: black;border-radius: 0.25em;background-color: #f0f8ff;}#sk-container-id-5 input.sk-toggleable__control:checked~div.sk-toggleable__content {max-height: 200px;max-width: 100%;overflow: auto;}#sk-container-id-5 input.sk-toggleable__control:checked~label.sk-toggleable__label-arrow:before {content: \"▾\";}#sk-container-id-5 div.sk-estimator input.sk-toggleable__control:checked~label.sk-toggleable__label {background-color: #d4ebff;}#sk-container-id-5 div.sk-label input.sk-toggleable__control:checked~label.sk-toggleable__label {background-color: #d4ebff;}#sk-container-id-5 input.sk-hidden--visually {border: 0;clip: rect(1px 1px 1px 1px);clip: rect(1px, 1px, 1px, 1px);height: 1px;margin: -1px;overflow: hidden;padding: 0;position: absolute;width: 1px;}#sk-container-id-5 div.sk-estimator {font-family: monospace;background-color: #f0f8ff;border: 1px dotted black;border-radius: 0.25em;box-sizing: border-box;margin-bottom: 0.5em;}#sk-container-id-5 div.sk-estimator:hover {background-color: #d4ebff;}#sk-container-id-5 div.sk-parallel-item::after {content: \"\";width: 100%;border-bottom: 1px solid gray;flex-grow: 1;}#sk-container-id-5 div.sk-label:hover label.sk-toggleable__label {background-color: #d4ebff;}#sk-container-id-5 div.sk-serial::before {content: \"\";position: absolute;border-left: 1px solid gray;box-sizing: border-box;top: 0;bottom: 0;left: 50%;z-index: 0;}#sk-container-id-5 div.sk-serial {display: flex;flex-direction: column;align-items: center;background-color: white;padding-right: 0.2em;padding-left: 0.2em;position: relative;}#sk-container-id-5 div.sk-item {position: relative;z-index: 1;}#sk-container-id-5 div.sk-parallel {display: flex;align-items: stretch;justify-content: center;background-color: white;position: relative;}#sk-container-id-5 div.sk-item::before, #sk-container-id-5 div.sk-parallel-item::before {content: \"\";position: absolute;border-left: 1px solid gray;box-sizing: border-box;top: 0;bottom: 0;left: 50%;z-index: -1;}#sk-container-id-5 div.sk-parallel-item {display: flex;flex-direction: column;z-index: 1;position: relative;background-color: white;}#sk-container-id-5 div.sk-parallel-item:first-child::after {align-self: flex-end;width: 50%;}#sk-container-id-5 div.sk-parallel-item:last-child::after {align-self: flex-start;width: 50%;}#sk-container-id-5 div.sk-parallel-item:only-child::after {width: 0;}#sk-container-id-5 div.sk-dashed-wrapped {border: 1px dashed gray;margin: 0 0.4em 0.5em 0.4em;box-sizing: border-box;padding-bottom: 0.4em;background-color: white;}#sk-container-id-5 div.sk-label label {font-family: monospace;font-weight: bold;display: inline-block;line-height: 1.2em;}#sk-container-id-5 div.sk-label-container {text-align: center;}#sk-container-id-5 div.sk-container {/* jupyter's `normalize.less` sets `[hidden] { display: none; }` but bootstrap.min.css set `[hidden] { display: none !important; }` so we also need the `!important` here to be able to override the default hidden behavior on the sphinx rendered scikit-learn.org. See: https://github.com/scikit-learn/scikit-learn/issues/21755 */display: inline-block !important;position: relative;}#sk-container-id-5 div.sk-text-repr-fallback {display: none;}</style><div id=\"sk-container-id-5\" class=\"sk-top-container\"><div class=\"sk-text-repr-fallback\"><pre>DecisionTreeClassifier()</pre><b>In a Jupyter environment, please rerun this cell to show the HTML representation or trust the notebook. <br />On GitHub, the HTML representation is unable to render, please try loading this page with nbviewer.org.</b></div><div class=\"sk-container\" hidden><div class=\"sk-item\"><div class=\"sk-estimator sk-toggleable\"><input class=\"sk-toggleable__control sk-hidden--visually\" id=\"sk-estimator-id-5\" type=\"checkbox\" checked><label for=\"sk-estimator-id-5\" class=\"sk-toggleable__label sk-toggleable__label-arrow\">DecisionTreeClassifier</label><div class=\"sk-toggleable__content\"><pre>DecisionTreeClassifier()</pre></div></div></div></div></div>"
            ]
          },
          "metadata": {},
          "execution_count": 85
        }
      ],
      "source": [
        "DecisionTree_Model.fit(X_train_scaled_undersampled, Y_train_undersampled)"
      ]
    },
    {
      "cell_type": "code",
      "execution_count": null,
      "id": "23b6c9c1",
      "metadata": {
        "id": "23b6c9c1",
        "outputId": "b2ac543f-e467-4ee8-ae08-4f7556035a19",
        "colab": {
          "base_uri": "https://localhost:8080/"
        }
      },
      "outputs": [
        {
          "output_type": "stream",
          "name": "stdout",
          "text": [
            "Accuracy on Training data :  0.999923896499239\n",
            "\n",
            "Classification Report on Training data : \n",
            "               precision    recall  f1-score   support\n",
            "\n",
            "           0       1.00      1.00      1.00      6571\n",
            "           1       1.00      1.00      1.00      6569\n",
            "\n",
            "    accuracy                           1.00     13140\n",
            "   macro avg       1.00      1.00      1.00     13140\n",
            "weighted avg       1.00      1.00      1.00     13140\n",
            "\n"
          ]
        }
      ],
      "source": [
        "# accuracy on training data\n",
        "X_train_prediction = DecisionTree_Model.predict(X_train_scaled_undersampled)\n",
        "DT_undersampling_training_data_accuracy = accuracy_score(X_train_prediction, Y_train_undersampled)\n",
        "print('Accuracy on Training data : ', DT_undersampling_training_data_accuracy)\n",
        "DT_undersampling_training_data_classification_report = classification_report(X_train_prediction, Y_train_undersampled)\n",
        "print('\\nClassification Report on Training data : \\n', DT_undersampling_training_data_classification_report)"
      ]
    },
    {
      "cell_type": "code",
      "execution_count": null,
      "id": "cd0de620",
      "metadata": {
        "id": "cd0de620",
        "outputId": "fa6d3b09-2f17-41ae-f09e-4b7d6ee743f1",
        "colab": {
          "base_uri": "https://localhost:8080/"
        }
      },
      "outputs": [
        {
          "output_type": "stream",
          "name": "stdout",
          "text": [
            "Accuracy score on Test Data :  0.983262325015216\n",
            "\n",
            "Classification Report on Training data : \n",
            "               precision    recall  f1-score   support\n",
            "\n",
            "           0       0.98      0.99      0.98      1624\n",
            "           1       0.99      0.98      0.98      1662\n",
            "\n",
            "    accuracy                           0.98      3286\n",
            "   macro avg       0.98      0.98      0.98      3286\n",
            "weighted avg       0.98      0.98      0.98      3286\n",
            "\n"
          ]
        }
      ],
      "source": [
        "# accuracy on test data\n",
        "X_test_prediction = DecisionTree_Model.predict(X_test_scaled_undersampled)\n",
        "DT_undersampling_test_data_accuracy = accuracy_score(X_test_prediction, Y_test_undersampled)\n",
        "print('Accuracy score on Test Data : ', DT_undersampling_test_data_accuracy)\n",
        "DT_undersampling_testing_data_classification_report = classification_report(X_test_prediction, Y_test_undersampled)\n",
        "print('\\nClassification Report on Training data : \\n', DT_undersampling_testing_data_classification_report)"
      ]
    },
    {
      "cell_type": "markdown",
      "id": "34a2b682",
      "metadata": {
        "id": "34a2b682"
      },
      "source": [
        "#### 2. Over the oversampled data - SMOTE"
      ]
    },
    {
      "cell_type": "code",
      "execution_count": null,
      "id": "3a9132bc",
      "metadata": {
        "id": "3a9132bc",
        "outputId": "83d1a76c-7ecd-46bf-e182-d36165413f70",
        "colab": {
          "base_uri": "https://localhost:8080/",
          "height": 75
        }
      },
      "outputs": [
        {
          "output_type": "execute_result",
          "data": {
            "text/plain": [
              "DecisionTreeClassifier()"
            ],
            "text/html": [
              "<style>#sk-container-id-6 {color: black;}#sk-container-id-6 pre{padding: 0;}#sk-container-id-6 div.sk-toggleable {background-color: white;}#sk-container-id-6 label.sk-toggleable__label {cursor: pointer;display: block;width: 100%;margin-bottom: 0;padding: 0.3em;box-sizing: border-box;text-align: center;}#sk-container-id-6 label.sk-toggleable__label-arrow:before {content: \"▸\";float: left;margin-right: 0.25em;color: #696969;}#sk-container-id-6 label.sk-toggleable__label-arrow:hover:before {color: black;}#sk-container-id-6 div.sk-estimator:hover label.sk-toggleable__label-arrow:before {color: black;}#sk-container-id-6 div.sk-toggleable__content {max-height: 0;max-width: 0;overflow: hidden;text-align: left;background-color: #f0f8ff;}#sk-container-id-6 div.sk-toggleable__content pre {margin: 0.2em;color: black;border-radius: 0.25em;background-color: #f0f8ff;}#sk-container-id-6 input.sk-toggleable__control:checked~div.sk-toggleable__content {max-height: 200px;max-width: 100%;overflow: auto;}#sk-container-id-6 input.sk-toggleable__control:checked~label.sk-toggleable__label-arrow:before {content: \"▾\";}#sk-container-id-6 div.sk-estimator input.sk-toggleable__control:checked~label.sk-toggleable__label {background-color: #d4ebff;}#sk-container-id-6 div.sk-label input.sk-toggleable__control:checked~label.sk-toggleable__label {background-color: #d4ebff;}#sk-container-id-6 input.sk-hidden--visually {border: 0;clip: rect(1px 1px 1px 1px);clip: rect(1px, 1px, 1px, 1px);height: 1px;margin: -1px;overflow: hidden;padding: 0;position: absolute;width: 1px;}#sk-container-id-6 div.sk-estimator {font-family: monospace;background-color: #f0f8ff;border: 1px dotted black;border-radius: 0.25em;box-sizing: border-box;margin-bottom: 0.5em;}#sk-container-id-6 div.sk-estimator:hover {background-color: #d4ebff;}#sk-container-id-6 div.sk-parallel-item::after {content: \"\";width: 100%;border-bottom: 1px solid gray;flex-grow: 1;}#sk-container-id-6 div.sk-label:hover label.sk-toggleable__label {background-color: #d4ebff;}#sk-container-id-6 div.sk-serial::before {content: \"\";position: absolute;border-left: 1px solid gray;box-sizing: border-box;top: 0;bottom: 0;left: 50%;z-index: 0;}#sk-container-id-6 div.sk-serial {display: flex;flex-direction: column;align-items: center;background-color: white;padding-right: 0.2em;padding-left: 0.2em;position: relative;}#sk-container-id-6 div.sk-item {position: relative;z-index: 1;}#sk-container-id-6 div.sk-parallel {display: flex;align-items: stretch;justify-content: center;background-color: white;position: relative;}#sk-container-id-6 div.sk-item::before, #sk-container-id-6 div.sk-parallel-item::before {content: \"\";position: absolute;border-left: 1px solid gray;box-sizing: border-box;top: 0;bottom: 0;left: 50%;z-index: -1;}#sk-container-id-6 div.sk-parallel-item {display: flex;flex-direction: column;z-index: 1;position: relative;background-color: white;}#sk-container-id-6 div.sk-parallel-item:first-child::after {align-self: flex-end;width: 50%;}#sk-container-id-6 div.sk-parallel-item:last-child::after {align-self: flex-start;width: 50%;}#sk-container-id-6 div.sk-parallel-item:only-child::after {width: 0;}#sk-container-id-6 div.sk-dashed-wrapped {border: 1px dashed gray;margin: 0 0.4em 0.5em 0.4em;box-sizing: border-box;padding-bottom: 0.4em;background-color: white;}#sk-container-id-6 div.sk-label label {font-family: monospace;font-weight: bold;display: inline-block;line-height: 1.2em;}#sk-container-id-6 div.sk-label-container {text-align: center;}#sk-container-id-6 div.sk-container {/* jupyter's `normalize.less` sets `[hidden] { display: none; }` but bootstrap.min.css set `[hidden] { display: none !important; }` so we also need the `!important` here to be able to override the default hidden behavior on the sphinx rendered scikit-learn.org. See: https://github.com/scikit-learn/scikit-learn/issues/21755 */display: inline-block !important;position: relative;}#sk-container-id-6 div.sk-text-repr-fallback {display: none;}</style><div id=\"sk-container-id-6\" class=\"sk-top-container\"><div class=\"sk-text-repr-fallback\"><pre>DecisionTreeClassifier()</pre><b>In a Jupyter environment, please rerun this cell to show the HTML representation or trust the notebook. <br />On GitHub, the HTML representation is unable to render, please try loading this page with nbviewer.org.</b></div><div class=\"sk-container\" hidden><div class=\"sk-item\"><div class=\"sk-estimator sk-toggleable\"><input class=\"sk-toggleable__control sk-hidden--visually\" id=\"sk-estimator-id-6\" type=\"checkbox\" checked><label for=\"sk-estimator-id-6\" class=\"sk-toggleable__label sk-toggleable__label-arrow\">DecisionTreeClassifier</label><div class=\"sk-toggleable__content\"><pre>DecisionTreeClassifier()</pre></div></div></div></div></div>"
            ]
          },
          "metadata": {},
          "execution_count": 88
        }
      ],
      "source": [
        "DecisionTree_Model.fit(X_train_scaled_smote, Y_train_smote)"
      ]
    },
    {
      "cell_type": "code",
      "execution_count": null,
      "id": "d39b03e0",
      "metadata": {
        "id": "d39b03e0",
        "outputId": "0266301e-cc13-42b5-bb70-2fe6d4d4475a",
        "colab": {
          "base_uri": "https://localhost:8080/"
        }
      },
      "outputs": [
        {
          "output_type": "stream",
          "name": "stdout",
          "text": [
            "Accuracy on Training data :  0.9999451168342604\n",
            "\n",
            "Classification Report on Training data : \n",
            "               precision    recall  f1-score   support\n",
            "\n",
            "           0       1.00      1.00      1.00   5083974\n",
            "           1       1.00      1.00      1.00   5083078\n",
            "\n",
            "    accuracy                           1.00  10167052\n",
            "   macro avg       1.00      1.00      1.00  10167052\n",
            "weighted avg       1.00      1.00      1.00  10167052\n",
            "\n"
          ]
        }
      ],
      "source": [
        "# accuracy on training data\n",
        "X_train_prediction = DecisionTree_Model.predict(X_train_scaled_smote)\n",
        "DT_smote_training_data_accuracy = accuracy_score(X_train_prediction, Y_train_smote)\n",
        "print('Accuracy on Training data : ', DT_smote_training_data_accuracy)\n",
        "DT_smote_training_data_classification_report = classification_report(X_train_prediction, Y_train_smote)\n",
        "print('\\nClassification Report on Training data : \\n', DT_smote_training_data_classification_report)"
      ]
    },
    {
      "cell_type": "code",
      "execution_count": null,
      "id": "203c0f37",
      "metadata": {
        "id": "203c0f37",
        "outputId": "5b15bc99-52a7-4b33-9c24-14ca3f20760c",
        "colab": {
          "base_uri": "https://localhost:8080/"
        }
      },
      "outputs": [
        {
          "output_type": "stream",
          "name": "stdout",
          "text": [
            "Accuracy score on Test Data :  0.9663495541145\n",
            "\n",
            "Classification Report on Training data : \n",
            "               precision    recall  f1-score   support\n",
            "\n",
            "           0       0.97      1.00      0.98   1228426\n",
            "           1       0.89      0.03      0.06     44098\n",
            "\n",
            "    accuracy                           0.97   1272524\n",
            "   macro avg       0.93      0.52      0.52   1272524\n",
            "weighted avg       0.96      0.97      0.95   1272524\n",
            "\n"
          ]
        }
      ],
      "source": [
        "# accuracy on test data\n",
        "X_test_prediction = DecisionTree_Model.predict(X_test_scaled)\n",
        "DT_smote_test_data_accuracy = accuracy_score(X_test_prediction, Y_test)\n",
        "print('Accuracy score on Test Data : ', DT_smote_test_data_accuracy)\n",
        "DT_smote_testing_data_classification_report = classification_report(X_test_prediction, Y_test)\n",
        "print('\\nClassification Report on Training data : \\n', DT_smote_testing_data_classification_report)"
      ]
    },
    {
      "cell_type": "markdown",
      "id": "99338b78",
      "metadata": {
        "id": "99338b78"
      },
      "source": [
        "#### 3. Over the oversampled data - ADASYN"
      ]
    },
    {
      "cell_type": "code",
      "execution_count": null,
      "id": "bde1071e",
      "metadata": {
        "id": "bde1071e",
        "outputId": "d5a49349-105b-4d12-f2ee-88df500d3d30",
        "colab": {
          "base_uri": "https://localhost:8080/",
          "height": 75
        }
      },
      "outputs": [
        {
          "output_type": "execute_result",
          "data": {
            "text/plain": [
              "DecisionTreeClassifier()"
            ],
            "text/html": [
              "<style>#sk-container-id-7 {color: black;}#sk-container-id-7 pre{padding: 0;}#sk-container-id-7 div.sk-toggleable {background-color: white;}#sk-container-id-7 label.sk-toggleable__label {cursor: pointer;display: block;width: 100%;margin-bottom: 0;padding: 0.3em;box-sizing: border-box;text-align: center;}#sk-container-id-7 label.sk-toggleable__label-arrow:before {content: \"▸\";float: left;margin-right: 0.25em;color: #696969;}#sk-container-id-7 label.sk-toggleable__label-arrow:hover:before {color: black;}#sk-container-id-7 div.sk-estimator:hover label.sk-toggleable__label-arrow:before {color: black;}#sk-container-id-7 div.sk-toggleable__content {max-height: 0;max-width: 0;overflow: hidden;text-align: left;background-color: #f0f8ff;}#sk-container-id-7 div.sk-toggleable__content pre {margin: 0.2em;color: black;border-radius: 0.25em;background-color: #f0f8ff;}#sk-container-id-7 input.sk-toggleable__control:checked~div.sk-toggleable__content {max-height: 200px;max-width: 100%;overflow: auto;}#sk-container-id-7 input.sk-toggleable__control:checked~label.sk-toggleable__label-arrow:before {content: \"▾\";}#sk-container-id-7 div.sk-estimator input.sk-toggleable__control:checked~label.sk-toggleable__label {background-color: #d4ebff;}#sk-container-id-7 div.sk-label input.sk-toggleable__control:checked~label.sk-toggleable__label {background-color: #d4ebff;}#sk-container-id-7 input.sk-hidden--visually {border: 0;clip: rect(1px 1px 1px 1px);clip: rect(1px, 1px, 1px, 1px);height: 1px;margin: -1px;overflow: hidden;padding: 0;position: absolute;width: 1px;}#sk-container-id-7 div.sk-estimator {font-family: monospace;background-color: #f0f8ff;border: 1px dotted black;border-radius: 0.25em;box-sizing: border-box;margin-bottom: 0.5em;}#sk-container-id-7 div.sk-estimator:hover {background-color: #d4ebff;}#sk-container-id-7 div.sk-parallel-item::after {content: \"\";width: 100%;border-bottom: 1px solid gray;flex-grow: 1;}#sk-container-id-7 div.sk-label:hover label.sk-toggleable__label {background-color: #d4ebff;}#sk-container-id-7 div.sk-serial::before {content: \"\";position: absolute;border-left: 1px solid gray;box-sizing: border-box;top: 0;bottom: 0;left: 50%;z-index: 0;}#sk-container-id-7 div.sk-serial {display: flex;flex-direction: column;align-items: center;background-color: white;padding-right: 0.2em;padding-left: 0.2em;position: relative;}#sk-container-id-7 div.sk-item {position: relative;z-index: 1;}#sk-container-id-7 div.sk-parallel {display: flex;align-items: stretch;justify-content: center;background-color: white;position: relative;}#sk-container-id-7 div.sk-item::before, #sk-container-id-7 div.sk-parallel-item::before {content: \"\";position: absolute;border-left: 1px solid gray;box-sizing: border-box;top: 0;bottom: 0;left: 50%;z-index: -1;}#sk-container-id-7 div.sk-parallel-item {display: flex;flex-direction: column;z-index: 1;position: relative;background-color: white;}#sk-container-id-7 div.sk-parallel-item:first-child::after {align-self: flex-end;width: 50%;}#sk-container-id-7 div.sk-parallel-item:last-child::after {align-self: flex-start;width: 50%;}#sk-container-id-7 div.sk-parallel-item:only-child::after {width: 0;}#sk-container-id-7 div.sk-dashed-wrapped {border: 1px dashed gray;margin: 0 0.4em 0.5em 0.4em;box-sizing: border-box;padding-bottom: 0.4em;background-color: white;}#sk-container-id-7 div.sk-label label {font-family: monospace;font-weight: bold;display: inline-block;line-height: 1.2em;}#sk-container-id-7 div.sk-label-container {text-align: center;}#sk-container-id-7 div.sk-container {/* jupyter's `normalize.less` sets `[hidden] { display: none; }` but bootstrap.min.css set `[hidden] { display: none !important; }` so we also need the `!important` here to be able to override the default hidden behavior on the sphinx rendered scikit-learn.org. See: https://github.com/scikit-learn/scikit-learn/issues/21755 */display: inline-block !important;position: relative;}#sk-container-id-7 div.sk-text-repr-fallback {display: none;}</style><div id=\"sk-container-id-7\" class=\"sk-top-container\"><div class=\"sk-text-repr-fallback\"><pre>DecisionTreeClassifier()</pre><b>In a Jupyter environment, please rerun this cell to show the HTML representation or trust the notebook. <br />On GitHub, the HTML representation is unable to render, please try loading this page with nbviewer.org.</b></div><div class=\"sk-container\" hidden><div class=\"sk-item\"><div class=\"sk-estimator sk-toggleable\"><input class=\"sk-toggleable__control sk-hidden--visually\" id=\"sk-estimator-id-7\" type=\"checkbox\" checked><label for=\"sk-estimator-id-7\" class=\"sk-toggleable__label sk-toggleable__label-arrow\">DecisionTreeClassifier</label><div class=\"sk-toggleable__content\"><pre>DecisionTreeClassifier()</pre></div></div></div></div></div>"
            ]
          },
          "metadata": {},
          "execution_count": 91
        }
      ],
      "source": [
        "DecisionTree_Model.fit(X_train_scaled_adasyn, Y_train_adasyn)"
      ]
    },
    {
      "cell_type": "code",
      "execution_count": null,
      "id": "34c1216e",
      "metadata": {
        "id": "34c1216e",
        "outputId": "efc8da97-c1f3-485e-b3d5-dcf52d76f9a3",
        "colab": {
          "base_uri": "https://localhost:8080/"
        }
      },
      "outputs": [
        {
          "output_type": "stream",
          "name": "stdout",
          "text": [
            "Accuracy on Training data :  0.9998449865848479\n",
            "\n",
            "Classification Report on Training data : \n",
            "               precision    recall  f1-score   support\n",
            "\n",
            "           0       1.00      1.00      1.00   5084550\n",
            "           1       1.00      1.00      1.00   5082312\n",
            "\n",
            "    accuracy                           1.00  10166862\n",
            "   macro avg       1.00      1.00      1.00  10166862\n",
            "weighted avg       1.00      1.00      1.00  10166862\n",
            "\n"
          ]
        }
      ],
      "source": [
        "# accuracy on training data\n",
        "X_train_prediction = DecisionTree_Model.predict(X_train_scaled_adasyn)\n",
        "DT_adasyn_training_data_accuracy = accuracy_score(X_train_prediction, Y_train_adasyn)\n",
        "print('Accuracy on Training data : ', DT_adasyn_training_data_accuracy)\n",
        "DT_adasyn_training_data_classification_report = classification_report(X_train_prediction, Y_train_adasyn)\n",
        "print('\\nClassification Report on Training data : \\n', DT_adasyn_training_data_classification_report)"
      ]
    },
    {
      "cell_type": "code",
      "execution_count": null,
      "id": "8e1c6d7a",
      "metadata": {
        "id": "8e1c6d7a",
        "outputId": "bc091b6c-5f41-4eb9-a09f-a2c0916b2914",
        "colab": {
          "base_uri": "https://localhost:8080/"
        }
      },
      "outputs": [
        {
          "output_type": "stream",
          "name": "stdout",
          "text": [
            "Accuracy score on Test Data :  0.9706614570727153\n",
            "\n",
            "Classification Report on Training data : \n",
            "               precision    recall  f1-score   support\n",
            "\n",
            "           0       0.97      1.00      0.99   1235611\n",
            "           1       0.37      0.02      0.03     36913\n",
            "\n",
            "    accuracy                           0.97   1272524\n",
            "   macro avg       0.67      0.51      0.51   1272524\n",
            "weighted avg       0.95      0.97      0.96   1272524\n",
            "\n"
          ]
        }
      ],
      "source": [
        "# accuracy on test data\n",
        "X_test_prediction = DecisionTree_Model.predict(X_test_scaled)\n",
        "DT_adasyn_test_data_accuracy = accuracy_score(X_test_prediction, Y_test)\n",
        "print('Accuracy score on Test Data : ', DT_adasyn_test_data_accuracy)\n",
        "DT_adasyn_testing_data_classification_report = classification_report(X_test_prediction, Y_test)\n",
        "print('\\nClassification Report on Training data : \\n', DT_adasyn_testing_data_classification_report)"
      ]
    },
    {
      "cell_type": "markdown",
      "id": "f72210f7",
      "metadata": {
        "id": "f72210f7"
      },
      "source": [
        "#### 4. Over the oversampled data - ROS"
      ]
    },
    {
      "cell_type": "code",
      "execution_count": null,
      "id": "bc3273e2",
      "metadata": {
        "id": "bc3273e2",
        "outputId": "5872c2cb-a8c9-441b-ca76-b074e37671af",
        "colab": {
          "base_uri": "https://localhost:8080/",
          "height": 75
        }
      },
      "outputs": [
        {
          "output_type": "execute_result",
          "data": {
            "text/plain": [
              "DecisionTreeClassifier()"
            ],
            "text/html": [
              "<style>#sk-container-id-8 {color: black;}#sk-container-id-8 pre{padding: 0;}#sk-container-id-8 div.sk-toggleable {background-color: white;}#sk-container-id-8 label.sk-toggleable__label {cursor: pointer;display: block;width: 100%;margin-bottom: 0;padding: 0.3em;box-sizing: border-box;text-align: center;}#sk-container-id-8 label.sk-toggleable__label-arrow:before {content: \"▸\";float: left;margin-right: 0.25em;color: #696969;}#sk-container-id-8 label.sk-toggleable__label-arrow:hover:before {color: black;}#sk-container-id-8 div.sk-estimator:hover label.sk-toggleable__label-arrow:before {color: black;}#sk-container-id-8 div.sk-toggleable__content {max-height: 0;max-width: 0;overflow: hidden;text-align: left;background-color: #f0f8ff;}#sk-container-id-8 div.sk-toggleable__content pre {margin: 0.2em;color: black;border-radius: 0.25em;background-color: #f0f8ff;}#sk-container-id-8 input.sk-toggleable__control:checked~div.sk-toggleable__content {max-height: 200px;max-width: 100%;overflow: auto;}#sk-container-id-8 input.sk-toggleable__control:checked~label.sk-toggleable__label-arrow:before {content: \"▾\";}#sk-container-id-8 div.sk-estimator input.sk-toggleable__control:checked~label.sk-toggleable__label {background-color: #d4ebff;}#sk-container-id-8 div.sk-label input.sk-toggleable__control:checked~label.sk-toggleable__label {background-color: #d4ebff;}#sk-container-id-8 input.sk-hidden--visually {border: 0;clip: rect(1px 1px 1px 1px);clip: rect(1px, 1px, 1px, 1px);height: 1px;margin: -1px;overflow: hidden;padding: 0;position: absolute;width: 1px;}#sk-container-id-8 div.sk-estimator {font-family: monospace;background-color: #f0f8ff;border: 1px dotted black;border-radius: 0.25em;box-sizing: border-box;margin-bottom: 0.5em;}#sk-container-id-8 div.sk-estimator:hover {background-color: #d4ebff;}#sk-container-id-8 div.sk-parallel-item::after {content: \"\";width: 100%;border-bottom: 1px solid gray;flex-grow: 1;}#sk-container-id-8 div.sk-label:hover label.sk-toggleable__label {background-color: #d4ebff;}#sk-container-id-8 div.sk-serial::before {content: \"\";position: absolute;border-left: 1px solid gray;box-sizing: border-box;top: 0;bottom: 0;left: 50%;z-index: 0;}#sk-container-id-8 div.sk-serial {display: flex;flex-direction: column;align-items: center;background-color: white;padding-right: 0.2em;padding-left: 0.2em;position: relative;}#sk-container-id-8 div.sk-item {position: relative;z-index: 1;}#sk-container-id-8 div.sk-parallel {display: flex;align-items: stretch;justify-content: center;background-color: white;position: relative;}#sk-container-id-8 div.sk-item::before, #sk-container-id-8 div.sk-parallel-item::before {content: \"\";position: absolute;border-left: 1px solid gray;box-sizing: border-box;top: 0;bottom: 0;left: 50%;z-index: -1;}#sk-container-id-8 div.sk-parallel-item {display: flex;flex-direction: column;z-index: 1;position: relative;background-color: white;}#sk-container-id-8 div.sk-parallel-item:first-child::after {align-self: flex-end;width: 50%;}#sk-container-id-8 div.sk-parallel-item:last-child::after {align-self: flex-start;width: 50%;}#sk-container-id-8 div.sk-parallel-item:only-child::after {width: 0;}#sk-container-id-8 div.sk-dashed-wrapped {border: 1px dashed gray;margin: 0 0.4em 0.5em 0.4em;box-sizing: border-box;padding-bottom: 0.4em;background-color: white;}#sk-container-id-8 div.sk-label label {font-family: monospace;font-weight: bold;display: inline-block;line-height: 1.2em;}#sk-container-id-8 div.sk-label-container {text-align: center;}#sk-container-id-8 div.sk-container {/* jupyter's `normalize.less` sets `[hidden] { display: none; }` but bootstrap.min.css set `[hidden] { display: none !important; }` so we also need the `!important` here to be able to override the default hidden behavior on the sphinx rendered scikit-learn.org. See: https://github.com/scikit-learn/scikit-learn/issues/21755 */display: inline-block !important;position: relative;}#sk-container-id-8 div.sk-text-repr-fallback {display: none;}</style><div id=\"sk-container-id-8\" class=\"sk-top-container\"><div class=\"sk-text-repr-fallback\"><pre>DecisionTreeClassifier()</pre><b>In a Jupyter environment, please rerun this cell to show the HTML representation or trust the notebook. <br />On GitHub, the HTML representation is unable to render, please try loading this page with nbviewer.org.</b></div><div class=\"sk-container\" hidden><div class=\"sk-item\"><div class=\"sk-estimator sk-toggleable\"><input class=\"sk-toggleable__control sk-hidden--visually\" id=\"sk-estimator-id-8\" type=\"checkbox\" checked><label for=\"sk-estimator-id-8\" class=\"sk-toggleable__label sk-toggleable__label-arrow\">DecisionTreeClassifier</label><div class=\"sk-toggleable__content\"><pre>DecisionTreeClassifier()</pre></div></div></div></div></div>"
            ]
          },
          "metadata": {},
          "execution_count": 94
        }
      ],
      "source": [
        "DecisionTree_Model.fit(X_train_scaled_ros, Y_train_ros)"
      ]
    },
    {
      "cell_type": "code",
      "execution_count": null,
      "id": "794ba0b6",
      "metadata": {
        "id": "794ba0b6",
        "outputId": "f2761918-b76d-416e-c53b-c9d42fb599c1",
        "colab": {
          "base_uri": "https://localhost:8080/"
        }
      },
      "outputs": [
        {
          "output_type": "stream",
          "name": "stdout",
          "text": [
            "Accuracy on Training data :  0.9998382028536885\n",
            "\n",
            "Classification Report on Training data : \n",
            "               precision    recall  f1-score   support\n",
            "\n",
            "           0       1.00      1.00      1.00   5083497\n",
            "           1       1.00      1.00      1.00   5083555\n",
            "\n",
            "    accuracy                           1.00  10167052\n",
            "   macro avg       1.00      1.00      1.00  10167052\n",
            "weighted avg       1.00      1.00      1.00  10167052\n",
            "\n"
          ]
        }
      ],
      "source": [
        "# accuracy on training data\n",
        "X_train_prediction = DecisionTree_Model.predict(X_train_scaled_ros)\n",
        "DT_ros_training_data_accuracy = accuracy_score(X_train_prediction, Y_train_ros)\n",
        "print('Accuracy on Training data : ', DT_ros_training_data_accuracy)\n",
        "DT_ros_training_data_classification_report = classification_report(X_train_prediction, Y_train_ros)\n",
        "print('\\nClassification Report on Training data : \\n', DT_ros_training_data_classification_report)"
      ]
    },
    {
      "cell_type": "code",
      "execution_count": null,
      "id": "09f7877c",
      "metadata": {
        "id": "09f7877c",
        "outputId": "554ccc34-ef76-44e8-fed7-487717db706f",
        "colab": {
          "base_uri": "https://localhost:8080/"
        }
      },
      "outputs": [
        {
          "output_type": "stream",
          "name": "stdout",
          "text": [
            "Accuracy score on Test Data :  0.9993438237707108\n",
            "\n",
            "Classification Report on Training data : \n",
            "               precision    recall  f1-score   support\n",
            "\n",
            "           0       1.00      1.00      1.00   1270718\n",
            "           1       0.80      0.72      0.76      1806\n",
            "\n",
            "    accuracy                           1.00   1272524\n",
            "   macro avg       0.90      0.86      0.88   1272524\n",
            "weighted avg       1.00      1.00      1.00   1272524\n",
            "\n"
          ]
        }
      ],
      "source": [
        "# accuracy on test data\n",
        "X_test_prediction = DecisionTree_Model.predict(X_test_scaled)\n",
        "DT_ros_test_data_accuracy = accuracy_score(X_test_prediction, Y_test)\n",
        "print('Accuracy score on Test Data : ', DT_ros_test_data_accuracy)\n",
        "DT_ros_testing_data_classification_report = classification_report(X_test_prediction, Y_test)\n",
        "print('\\nClassification Report on Training data : \\n', DT_ros_testing_data_classification_report)"
      ]
    }
  ],
  "metadata": {
    "kernelspec": {
      "display_name": "Python 3",
      "language": "python",
      "name": "python3"
    },
    "language_info": {
      "codemirror_mode": {
        "name": "ipython",
        "version": 3
      },
      "file_extension": ".py",
      "mimetype": "text/x-python",
      "name": "python",
      "nbconvert_exporter": "python",
      "pygments_lexer": "ipython3",
      "version": "3.8.8"
    },
    "colab": {
      "provenance": []
    }
  },
  "nbformat": 4,
  "nbformat_minor": 5
}